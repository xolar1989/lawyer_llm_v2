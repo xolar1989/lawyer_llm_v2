{
 "cells": [
  {
   "cell_type": "code",
   "execution_count": 1,
   "metadata": {
    "collapsed": true,
    "ExecuteTime": {
     "start_time": "2025-07-28T14:26:50.937362Z",
     "end_time": "2025-07-28T14:26:51.939155Z"
    }
   },
   "outputs": [
    {
     "name": "stderr",
     "output_type": "stream",
     "text": [
      "C:\\Users\\karol\\miniconda3\\envs\\scraper_conda\\lib\\site-packages\\seleniumwire\\thirdparty\\mitmproxy\\contrib\\kaitaistruct\\tls_client_hello.py:10: UserWarning: pkg_resources is deprecated as an API. See https://setuptools.pypa.io/en/latest/pkg_resources.html. The pkg_resources package is slated for removal as early as 2025-11-30. Refrain from using this package or pin to Setuptools<81.\n",
      "  from pkg_resources import parse_version\n"
     ]
    }
   ],
   "source": [
    "import time\n",
    "import json\n",
    "from selenium import webdriver\n",
    "from selenium.webdriver.chrome.service import Service\n",
    "from selenium.webdriver.common.by import By\n",
    "from selenium.webdriver.support.wait import WebDriverWait\n",
    "from selenium.webdriver.support import expected_conditions as EC\n",
    "from seleniumwire import webdriver\n",
    "\n",
    "import gzip\n",
    "import io"
   ]
  },
  {
   "cell_type": "code",
   "execution_count": 6,
   "outputs": [
    {
     "name": "stdout",
     "output_type": "stream",
     "text": [
      "Requirement already satisfied: langchain in c:\\users\\karol\\miniconda3\\envs\\scraper_conda\\lib\\site-packages (0.3.26)\n",
      "Requirement already satisfied: langchain-openai in c:\\users\\karol\\miniconda3\\envs\\scraper_conda\\lib\\site-packages (0.3.28)\n",
      "Collecting boto3\n",
      "  Downloading boto3-1.39.9-py3-none-any.whl.metadata (6.7 kB)\n",
      "Requirement already satisfied: langchain-core<1.0.0,>=0.3.66 in c:\\users\\karol\\miniconda3\\envs\\scraper_conda\\lib\\site-packages (from langchain) (0.3.69)\n",
      "Requirement already satisfied: langchain-text-splitters<1.0.0,>=0.3.8 in c:\\users\\karol\\miniconda3\\envs\\scraper_conda\\lib\\site-packages (from langchain) (0.3.8)\n",
      "Requirement already satisfied: langsmith>=0.1.17 in c:\\users\\karol\\miniconda3\\envs\\scraper_conda\\lib\\site-packages (from langchain) (0.4.8)\n",
      "Requirement already satisfied: pydantic<3.0.0,>=2.7.4 in c:\\users\\karol\\miniconda3\\envs\\scraper_conda\\lib\\site-packages (from langchain) (2.11.7)\n",
      "Requirement already satisfied: SQLAlchemy<3,>=1.4 in c:\\users\\karol\\miniconda3\\envs\\scraper_conda\\lib\\site-packages (from langchain) (2.0.41)\n",
      "Requirement already satisfied: requests<3,>=2 in c:\\users\\karol\\miniconda3\\envs\\scraper_conda\\lib\\site-packages (from langchain) (2.32.4)\n",
      "Requirement already satisfied: PyYAML>=5.3 in c:\\users\\karol\\miniconda3\\envs\\scraper_conda\\lib\\site-packages (from langchain) (6.0.2)\n",
      "Requirement already satisfied: async-timeout<5.0.0,>=4.0.0 in c:\\users\\karol\\miniconda3\\envs\\scraper_conda\\lib\\site-packages (from langchain) (4.0.3)\n",
      "Requirement already satisfied: tenacity!=8.4.0,<10.0.0,>=8.1.0 in c:\\users\\karol\\miniconda3\\envs\\scraper_conda\\lib\\site-packages (from langchain-core<1.0.0,>=0.3.66->langchain) (9.1.2)\n",
      "Requirement already satisfied: jsonpatch<2.0,>=1.33 in c:\\users\\karol\\miniconda3\\envs\\scraper_conda\\lib\\site-packages (from langchain-core<1.0.0,>=0.3.66->langchain) (1.33)\n",
      "Requirement already satisfied: typing-extensions>=4.7 in c:\\users\\karol\\miniconda3\\envs\\scraper_conda\\lib\\site-packages (from langchain-core<1.0.0,>=0.3.66->langchain) (4.14.1)\n",
      "Requirement already satisfied: packaging>=23.2 in c:\\users\\karol\\miniconda3\\envs\\scraper_conda\\lib\\site-packages (from langchain-core<1.0.0,>=0.3.66->langchain) (25.0)\n",
      "Requirement already satisfied: jsonpointer>=1.9 in c:\\users\\karol\\miniconda3\\envs\\scraper_conda\\lib\\site-packages (from jsonpatch<2.0,>=1.33->langchain-core<1.0.0,>=0.3.66->langchain) (3.0.0)\n",
      "Requirement already satisfied: annotated-types>=0.6.0 in c:\\users\\karol\\miniconda3\\envs\\scraper_conda\\lib\\site-packages (from pydantic<3.0.0,>=2.7.4->langchain) (0.7.0)\n",
      "Requirement already satisfied: pydantic-core==2.33.2 in c:\\users\\karol\\miniconda3\\envs\\scraper_conda\\lib\\site-packages (from pydantic<3.0.0,>=2.7.4->langchain) (2.33.2)\n",
      "Requirement already satisfied: typing-inspection>=0.4.0 in c:\\users\\karol\\miniconda3\\envs\\scraper_conda\\lib\\site-packages (from pydantic<3.0.0,>=2.7.4->langchain) (0.4.1)\n",
      "Requirement already satisfied: charset_normalizer<4,>=2 in c:\\users\\karol\\miniconda3\\envs\\scraper_conda\\lib\\site-packages (from requests<3,>=2->langchain) (3.4.2)\n",
      "Requirement already satisfied: idna<4,>=2.5 in c:\\users\\karol\\miniconda3\\envs\\scraper_conda\\lib\\site-packages (from requests<3,>=2->langchain) (3.10)\n",
      "Requirement already satisfied: urllib3<3,>=1.21.1 in c:\\users\\karol\\miniconda3\\envs\\scraper_conda\\lib\\site-packages (from requests<3,>=2->langchain) (2.5.0)\n",
      "Requirement already satisfied: certifi>=2017.4.17 in c:\\users\\karol\\miniconda3\\envs\\scraper_conda\\lib\\site-packages (from requests<3,>=2->langchain) (2025.7.9)\n",
      "Requirement already satisfied: greenlet>=1 in c:\\users\\karol\\miniconda3\\envs\\scraper_conda\\lib\\site-packages (from SQLAlchemy<3,>=1.4->langchain) (3.2.3)\n",
      "Requirement already satisfied: openai<2.0.0,>=1.86.0 in c:\\users\\karol\\miniconda3\\envs\\scraper_conda\\lib\\site-packages (from langchain-openai) (1.97.0)\n",
      "Requirement already satisfied: tiktoken<1,>=0.7 in c:\\users\\karol\\miniconda3\\envs\\scraper_conda\\lib\\site-packages (from langchain-openai) (0.9.0)\n",
      "Requirement already satisfied: anyio<5,>=3.5.0 in c:\\users\\karol\\miniconda3\\envs\\scraper_conda\\lib\\site-packages (from openai<2.0.0,>=1.86.0->langchain-openai) (4.9.0)\n",
      "Requirement already satisfied: distro<2,>=1.7.0 in c:\\users\\karol\\miniconda3\\envs\\scraper_conda\\lib\\site-packages (from openai<2.0.0,>=1.86.0->langchain-openai) (1.9.0)\n",
      "Requirement already satisfied: httpx<1,>=0.23.0 in c:\\users\\karol\\miniconda3\\envs\\scraper_conda\\lib\\site-packages (from openai<2.0.0,>=1.86.0->langchain-openai) (0.28.1)\n",
      "Requirement already satisfied: jiter<1,>=0.4.0 in c:\\users\\karol\\miniconda3\\envs\\scraper_conda\\lib\\site-packages (from openai<2.0.0,>=1.86.0->langchain-openai) (0.10.0)\n",
      "Requirement already satisfied: sniffio in c:\\users\\karol\\miniconda3\\envs\\scraper_conda\\lib\\site-packages (from openai<2.0.0,>=1.86.0->langchain-openai) (1.3.1)\n",
      "Requirement already satisfied: tqdm>4 in c:\\users\\karol\\miniconda3\\envs\\scraper_conda\\lib\\site-packages (from openai<2.0.0,>=1.86.0->langchain-openai) (4.67.1)\n",
      "Requirement already satisfied: exceptiongroup>=1.0.2 in c:\\users\\karol\\miniconda3\\envs\\scraper_conda\\lib\\site-packages (from anyio<5,>=3.5.0->openai<2.0.0,>=1.86.0->langchain-openai) (1.3.0)\n",
      "Requirement already satisfied: httpcore==1.* in c:\\users\\karol\\miniconda3\\envs\\scraper_conda\\lib\\site-packages (from httpx<1,>=0.23.0->openai<2.0.0,>=1.86.0->langchain-openai) (1.0.9)\n",
      "Requirement already satisfied: h11>=0.16 in c:\\users\\karol\\miniconda3\\envs\\scraper_conda\\lib\\site-packages (from httpcore==1.*->httpx<1,>=0.23.0->openai<2.0.0,>=1.86.0->langchain-openai) (0.16.0)\n",
      "Requirement already satisfied: regex>=2022.1.18 in c:\\users\\karol\\miniconda3\\envs\\scraper_conda\\lib\\site-packages (from tiktoken<1,>=0.7->langchain-openai) (2024.11.6)\n",
      "Collecting botocore<1.40.0,>=1.39.9 (from boto3)\n",
      "  Downloading botocore-1.39.9-py3-none-any.whl.metadata (5.7 kB)\n",
      "Collecting jmespath<2.0.0,>=0.7.1 (from boto3)\n",
      "  Downloading jmespath-1.0.1-py3-none-any.whl.metadata (7.6 kB)\n",
      "Collecting s3transfer<0.14.0,>=0.13.0 (from boto3)\n",
      "  Downloading s3transfer-0.13.1-py3-none-any.whl.metadata (1.7 kB)\n",
      "Requirement already satisfied: python-dateutil<3.0.0,>=2.1 in c:\\users\\karol\\miniconda3\\envs\\scraper_conda\\lib\\site-packages (from botocore<1.40.0,>=1.39.9->boto3) (2.9.0.post0)\n",
      "Requirement already satisfied: six>=1.5 in c:\\users\\karol\\miniconda3\\envs\\scraper_conda\\lib\\site-packages (from python-dateutil<3.0.0,>=2.1->botocore<1.40.0,>=1.39.9->boto3) (1.17.0)\n",
      "Requirement already satisfied: orjson<4.0.0,>=3.9.14 in c:\\users\\karol\\miniconda3\\envs\\scraper_conda\\lib\\site-packages (from langsmith>=0.1.17->langchain) (3.11.0)\n",
      "Requirement already satisfied: requests-toolbelt<2.0.0,>=1.0.0 in c:\\users\\karol\\miniconda3\\envs\\scraper_conda\\lib\\site-packages (from langsmith>=0.1.17->langchain) (1.0.0)\n",
      "Requirement already satisfied: zstandard<0.24.0,>=0.23.0 in c:\\users\\karol\\miniconda3\\envs\\scraper_conda\\lib\\site-packages (from langsmith>=0.1.17->langchain) (0.23.0)\n",
      "Requirement already satisfied: colorama in c:\\users\\karol\\miniconda3\\envs\\scraper_conda\\lib\\site-packages (from tqdm>4->openai<2.0.0,>=1.86.0->langchain-openai) (0.4.6)\n",
      "Downloading boto3-1.39.9-py3-none-any.whl (139 kB)\n",
      "Downloading botocore-1.39.9-py3-none-any.whl (13.9 MB)\n",
      "   ---------------------------------------- 0.0/13.9 MB ? eta -:--:--\n",
      "   ------------------------ --------------- 8.7/13.9 MB 48.8 MB/s eta 0:00:01\n",
      "   ---------------------------------------- 13.9/13.9 MB 51.2 MB/s eta 0:00:00\n",
      "Downloading jmespath-1.0.1-py3-none-any.whl (20 kB)\n",
      "Downloading s3transfer-0.13.1-py3-none-any.whl (85 kB)\n",
      "Installing collected packages: jmespath, botocore, s3transfer, boto3\n",
      "\n",
      "   ---------- ----------------------------- 1/4 [botocore]\n",
      "   ---------- ----------------------------- 1/4 [botocore]\n",
      "   ---------- ----------------------------- 1/4 [botocore]\n",
      "   ---------- ----------------------------- 1/4 [botocore]\n",
      "   ---------- ----------------------------- 1/4 [botocore]\n",
      "   ---------- ----------------------------- 1/4 [botocore]\n",
      "   ---------- ----------------------------- 1/4 [botocore]\n",
      "   ---------- ----------------------------- 1/4 [botocore]\n",
      "   ---------- ----------------------------- 1/4 [botocore]\n",
      "   ---------- ----------------------------- 1/4 [botocore]\n",
      "   ---------- ----------------------------- 1/4 [botocore]\n",
      "   ---------- ----------------------------- 1/4 [botocore]\n",
      "   ---------- ----------------------------- 1/4 [botocore]\n",
      "   ---------- ----------------------------- 1/4 [botocore]\n",
      "   ---------- ----------------------------- 1/4 [botocore]\n",
      "   -------------------- ------------------- 2/4 [s3transfer]\n",
      "   ------------------------------ --------- 3/4 [boto3]\n",
      "   ---------------------------------------- 4/4 [boto3]\n",
      "\n",
      "Successfully installed boto3-1.39.9 botocore-1.39.9 jmespath-1.0.1 s3transfer-0.13.1\n"
     ]
    }
   ],
   "source": [
    "!pip install langchain langchain-openai boto3"
   ],
   "metadata": {
    "collapsed": false,
    "ExecuteTime": {
     "start_time": "2025-07-19T13:06:09.565904Z",
     "end_time": "2025-07-19T13:06:17.445177Z"
    }
   }
  },
  {
   "cell_type": "code",
   "execution_count": 8,
   "outputs": [
    {
     "name": "stdout",
     "output_type": "stream",
     "text": [
      "Requirement already satisfied: numpy in c:\\users\\karol\\miniconda3\\envs\\scraper_conda\\lib\\site-packages (2.2.6)\n",
      "Collecting mkl\n",
      "  Downloading mkl-2025.2.0-py2.py3-none-win_amd64.whl.metadata (1.4 kB)\n",
      "Collecting intel-openmp<2026,>=2024 (from mkl)\n",
      "  Downloading intel_openmp-2025.2.0-py2.py3-none-win_amd64.whl.metadata (1.3 kB)\n",
      "Collecting tbb==2022.* (from mkl)\n",
      "  Downloading tbb-2022.2.0-py3-none-win_amd64.whl.metadata (1.1 kB)\n",
      "Collecting intel-cmplr-lib-ur==2025.2.0 (from intel-openmp<2026,>=2024->mkl)\n",
      "  Downloading intel_cmplr_lib_ur-2025.2.0-py2.py3-none-win_amd64.whl.metadata (1.3 kB)\n",
      "Collecting umf==0.11.* (from intel-cmplr-lib-ur==2025.2.0->intel-openmp<2026,>=2024->mkl)\n",
      "  Downloading umf-0.11.0-py2.py3-none-win_amd64.whl.metadata (1.1 kB)\n",
      "Collecting tcmlib==1.* (from tbb==2022.*->mkl)\n",
      "  Downloading tcmlib-1.4.0-py2.py3-none-win_amd64.whl.metadata (1.0 kB)\n",
      "Downloading mkl-2025.2.0-py2.py3-none-win_amd64.whl (153.6 MB)\n",
      "   ---------------------------------------- 0.0/153.6 MB ? eta -:--:--\n",
      "   ---------------------------------------- 1.8/153.6 MB 14.4 MB/s eta 0:00:11\n",
      "   ----- ---------------------------------- 19.9/153.6 MB 66.2 MB/s eta 0:00:03\n",
      "   ------------ --------------------------- 46.7/153.6 MB 89.9 MB/s eta 0:00:02\n",
      "   ------------------ --------------------- 72.6/153.6 MB 98.6 MB/s eta 0:00:01\n",
      "   ------------------------- ------------- 99.1/153.6 MB 105.4 MB/s eta 0:00:01\n",
      "   ------------------------------ ------- 124.3/153.6 MB 108.7 MB/s eta 0:00:01\n",
      "   ---------------------------------- --- 140.5/153.6 MB 105.6 MB/s eta 0:00:01\n",
      "   -------------------------------------  153.6/153.6 MB 101.2 MB/s eta 0:00:01\n",
      "   -------------------------------------  153.6/153.6 MB 101.2 MB/s eta 0:00:01\n",
      "   -------------------------------------  153.6/153.6 MB 101.2 MB/s eta 0:00:01\n",
      "   --------------------------------------- 153.6/153.6 MB 67.7 MB/s eta 0:00:00\n",
      "Downloading intel_openmp-2025.2.0-py2.py3-none-win_amd64.whl (34.0 MB)\n",
      "   ---------------------------------------- 0.0/34.0 MB ? eta -:--:--\n",
      "   ----------------------------- ---------- 24.9/34.0 MB 121.4 MB/s eta 0:00:01\n",
      "   ---------------------------------------  33.8/34.0 MB 119.4 MB/s eta 0:00:01\n",
      "   ---------------------------------------- 34.0/34.0 MB 69.8 MB/s eta 0:00:00\n",
      "Downloading intel_cmplr_lib_ur-2025.2.0-py2.py3-none-win_amd64.whl (1.2 MB)\n",
      "   ---------------------------------------- 0.0/1.2 MB ? eta -:--:--\n",
      "   ---------------------------------------- 1.2/1.2 MB 29.3 MB/s eta 0:00:00\n",
      "Downloading tbb-2022.2.0-py3-none-win_amd64.whl (420 kB)\n",
      "Downloading tcmlib-1.4.0-py2.py3-none-win_amd64.whl (370 kB)\n",
      "Downloading umf-0.11.0-py2.py3-none-win_amd64.whl (231 kB)\n",
      "Installing collected packages: tcmlib, umf, tbb, intel-cmplr-lib-ur, intel-openmp, mkl\n",
      "\n",
      "   -------------------------- ------------- 4/6 [intel-openmp]\n",
      "   -------------------------- ------------- 4/6 [intel-openmp]\n",
      "   -------------------------- ------------- 4/6 [intel-openmp]\n",
      "   --------------------------------- ------ 5/6 [mkl]\n",
      "   --------------------------------- ------ 5/6 [mkl]\n",
      "   --------------------------------- ------ 5/6 [mkl]\n",
      "   --------------------------------- ------ 5/6 [mkl]\n",
      "   --------------------------------- ------ 5/6 [mkl]\n",
      "   --------------------------------- ------ 5/6 [mkl]\n",
      "   --------------------------------- ------ 5/6 [mkl]\n",
      "   --------------------------------- ------ 5/6 [mkl]\n",
      "   --------------------------------- ------ 5/6 [mkl]\n",
      "   --------------------------------- ------ 5/6 [mkl]\n",
      "   --------------------------------- ------ 5/6 [mkl]\n",
      "   --------------------------------- ------ 5/6 [mkl]\n",
      "   ---------------------------------------- 6/6 [mkl]\n",
      "\n",
      "Successfully installed intel-cmplr-lib-ur-2025.2.0 intel-openmp-2025.2.0 mkl-2025.2.0 tbb-2022.2.0 tcmlib-1.4.0 umf-0.11.0\n"
     ]
    }
   ],
   "source": [
    "!pip install numpy mkl"
   ],
   "metadata": {
    "collapsed": false,
    "ExecuteTime": {
     "start_time": "2025-07-20T11:33:08.988924Z",
     "end_time": "2025-07-20T11:33:18.189476Z"
    }
   }
  },
  {
   "cell_type": "code",
   "execution_count": 7,
   "outputs": [
    {
     "name": "stdout",
     "output_type": "stream",
     "text": [
      "Collecting blinker==1.7.0\n",
      "  Using cached blinker-1.7.0-py3-none-any.whl (13 kB)\n",
      "Installing collected packages: blinker\n",
      "  Attempting uninstall: blinker\n",
      "    Found existing installation: blinker 1.8.2\n",
      "    Uninstalling blinker-1.8.2:\n",
      "      Successfully uninstalled blinker-1.8.2\n",
      "Successfully installed blinker-1.7.0\n"
     ]
    },
    {
     "name": "stderr",
     "output_type": "stream",
     "text": [
      "ERROR: pip's dependency resolver does not currently take into account all the packages that are installed. This behaviour is the source of the following dependency conflicts.\n",
      "apache-airflow 2.10.1 requires cryptography>=41.0.0, but you have cryptography 39.0.1 which is incompatible.\n",
      "apache-airflow 2.10.1 requires sqlalchemy<2.0,>=1.4.36, but you have sqlalchemy 2.0.25 which is incompatible.\n"
     ]
    }
   ],
   "source": [
    "!pip install blinker == 1.7.0"
   ],
   "metadata": {
    "collapsed": false,
    "ExecuteTime": {
     "start_time": "2025-07-17T19:50:44.006772Z",
     "end_time": "2025-07-17T19:50:58.853018Z"
    }
   }
  },
  {
   "cell_type": "code",
   "execution_count": 9,
   "outputs": [
    {
     "name": "stdout",
     "output_type": "stream",
     "text": [
      "Collecting pymongo\n",
      "  Downloading pymongo-4.13.2-cp310-cp310-win_amd64.whl.metadata (22 kB)\n",
      "Collecting dnspython<3.0.0,>=1.16.0 (from pymongo)\n",
      "  Downloading dnspython-2.7.0-py3-none-any.whl.metadata (5.8 kB)\n",
      "Downloading pymongo-4.13.2-cp310-cp310-win_amd64.whl (800 kB)\n",
      "   ---------------------------------------- 0.0/800.2 kB ? eta -:--:--\n",
      "   ---------------------------------------- 800.2/800.2 kB 8.5 MB/s eta 0:00:00\n",
      "Downloading dnspython-2.7.0-py3-none-any.whl (313 kB)\n",
      "Installing collected packages: dnspython, pymongo\n",
      "\n",
      "   ---------------------------------------- 0/2 [dnspython]\n",
      "   ---------------------------------------- 0/2 [dnspython]\n",
      "   ---------------------------------------- 0/2 [dnspython]\n",
      "   ---------------------------------------- 0/2 [dnspython]\n",
      "   -------------------- ------------------- 1/2 [pymongo]\n",
      "   -------------------- ------------------- 1/2 [pymongo]\n",
      "   -------------------- ------------------- 1/2 [pymongo]\n",
      "   -------------------- ------------------- 1/2 [pymongo]\n",
      "   -------------------- ------------------- 1/2 [pymongo]\n",
      "   -------------------- ------------------- 1/2 [pymongo]\n",
      "   ---------------------------------------- 2/2 [pymongo]\n",
      "\n",
      "Successfully installed dnspython-2.7.0 pymongo-4.13.2\n"
     ]
    }
   ],
   "source": [
    "!pip install pymongo"
   ],
   "metadata": {
    "collapsed": false,
    "ExecuteTime": {
     "start_time": "2025-07-18T20:39:41.024567Z",
     "end_time": "2025-07-18T20:39:46.394056Z"
    }
   }
  },
  {
   "cell_type": "code",
   "execution_count": 2,
   "outputs": [],
   "source": [
    "def create_driver():\n",
    "    options = webdriver.ChromeOptions()\n",
    "\n",
    "    options.add_argument(r\"--user-data-dir=C:\\Users\\karol\\AppData\\Local\\Google\\Chrome\\'User Data'\")\n",
    "\n",
    "    options.add_argument(\"--profile-directory='Profile 2'\")\n",
    "    # options.add_argument(\"--user-data-dir=/mnt/c/Users/karol/AppData/Local/Google/Chrome/User Data\")\n",
    "    # options.add_argument(\"--profile-directory=Profile 2\")\n",
    "\n",
    "    options.add_argument('--start-maximized')\n",
    "\n",
    "    service = Service(executable_path=r\"C:\\Users\\karol\\miniconda3\\envs\\scraper_conda\\Scripts\\chromedriver.exe\")\n",
    "\n",
    "    return webdriver.Chrome(service=service, options=options)"
   ],
   "metadata": {
    "collapsed": false,
    "ExecuteTime": {
     "start_time": "2025-07-28T14:27:26.787985Z",
     "end_time": "2025-07-28T14:27:26.808592Z"
    }
   }
  },
  {
   "cell_type": "code",
   "execution_count": 3,
   "outputs": [],
   "source": [
    "driver = create_driver()"
   ],
   "metadata": {
    "collapsed": false,
    "ExecuteTime": {
     "start_time": "2025-07-28T14:27:31.634828Z",
     "end_time": "2025-07-28T14:27:33.931646Z"
    }
   }
  },
  {
   "cell_type": "code",
   "execution_count": 6,
   "outputs": [],
   "source": [
    "driver.quit()"
   ],
   "metadata": {
    "collapsed": false,
    "ExecuteTime": {
     "start_time": "2025-07-23T10:15:37.384899Z",
     "end_time": "2025-07-23T10:15:39.625341Z"
    }
   }
  },
  {
   "cell_type": "code",
   "execution_count": 2,
   "outputs": [],
   "source": [
    "options = webdriver.ChromeOptions()\n",
    "\n",
    "options.add_argument(r\"--user-data-dir=C:\\Users\\karol\\AppData\\Local\\Google\\Chrome\\'User Data'\")\n",
    "\n",
    "options.add_argument(\"--profile-directory='Profile 2'\")\n",
    "# options.add_argument(\"--user-data-dir=/mnt/c/Users/karol/AppData/Local/Google/Chrome/User Data\")\n",
    "# options.add_argument(\"--profile-directory=Profile 2\")\n",
    "\n",
    "options.add_argument('--start-maximized')\n",
    "\n",
    "service = Service(executable_path=r\"C:\\Users\\karol\\miniconda3\\envs\\scraper_conda\\Scripts\\chromedriver.exe\")\n",
    "\n",
    "# options.add_argument(\"--headless\")\n",
    "\n"
   ],
   "metadata": {
    "collapsed": false,
    "ExecuteTime": {
     "start_time": "2025-07-23T09:12:49.039828Z",
     "end_time": "2025-07-23T09:12:49.105000Z"
    }
   }
  },
  {
   "cell_type": "code",
   "execution_count": 3,
   "outputs": [],
   "source": [
    "driver = webdriver.Chrome(service=service, options=options)"
   ],
   "metadata": {
    "collapsed": false,
    "ExecuteTime": {
     "start_time": "2025-07-23T09:12:54.304885Z",
     "end_time": "2025-07-23T09:12:56.758566Z"
    }
   }
  },
  {
   "cell_type": "code",
   "execution_count": 7,
   "outputs": [],
   "source": [
    "driver.get(\"https://borg.wolterskluwer.pl\")"
   ],
   "metadata": {
    "collapsed": false,
    "ExecuteTime": {
     "start_time": "2025-07-22T23:33:55.528065Z",
     "end_time": "2025-07-22T23:33:58.757547Z"
    }
   }
  },
  {
   "cell_type": "code",
   "execution_count": 18,
   "outputs": [],
   "source": [
    "if driver.find_elements(By.ID, \"login\"):\n",
    "    WebDriverWait(driver, 10).until(\n",
    "        EC.presence_of_element_located((By.ID, \"login\"))\n",
    "    ).send_keys(\"xolar1989@o2.pl\")\n",
    "\n",
    "    driver.find_element(By.ID, \"password\").send_keys(\"Awglm12345!\")\n",
    "\n",
    "    driver.find_element(By.ID, \"remember_btn\").click()\n",
    "    driver.find_element(By.ID, \"login_btn\").click()"
   ],
   "metadata": {
    "collapsed": false,
    "ExecuteTime": {
     "start_time": "2025-07-17T19:53:13.693065Z",
     "end_time": "2025-07-17T19:53:13.725312Z"
    }
   }
  },
  {
   "cell_type": "code",
   "execution_count": 5,
   "outputs": [],
   "source": [
    "r = driver.find_element(By.CSS_SELECTOR, '.product_item_container')\n",
    "\n",
    "r.click()"
   ],
   "metadata": {
    "collapsed": false,
    "ExecuteTime": {
     "start_time": "2025-07-22T13:16:23.331551Z",
     "end_time": "2025-07-22T13:16:23.577220Z"
    }
   }
  },
  {
   "cell_type": "code",
   "execution_count": 14,
   "outputs": [
    {
     "ename": "TimeoutException",
     "evalue": "Message: \n",
     "output_type": "error",
     "traceback": [
      "\u001B[1;31m---------------------------------------------------------------------------\u001B[0m",
      "\u001B[1;31mTimeoutException\u001B[0m                          Traceback (most recent call last)",
      "Cell \u001B[1;32mIn[14], line 4\u001B[0m\n\u001B[0;32m      1\u001B[0m original_window \u001B[38;5;241m=\u001B[39m driver\u001B[38;5;241m.\u001B[39mcurrent_window_handle\n\u001B[0;32m      3\u001B[0m \u001B[38;5;66;03m# Wait for the new window\u001B[39;00m\n\u001B[1;32m----> 4\u001B[0m \u001B[43mWebDriverWait\u001B[49m\u001B[43m(\u001B[49m\u001B[43mdriver\u001B[49m\u001B[43m,\u001B[49m\u001B[43m \u001B[49m\u001B[38;5;241;43m10\u001B[39;49m\u001B[43m)\u001B[49m\u001B[38;5;241;43m.\u001B[39;49m\u001B[43muntil\u001B[49m\u001B[43m(\u001B[49m\u001B[43mEC\u001B[49m\u001B[38;5;241;43m.\u001B[39;49m\u001B[43mnumber_of_windows_to_be\u001B[49m\u001B[43m(\u001B[49m\u001B[38;5;241;43m2\u001B[39;49m\u001B[43m)\u001B[49m\u001B[43m)\u001B[49m\n\u001B[0;32m      6\u001B[0m \u001B[38;5;66;03m# Switch to the new window\u001B[39;00m\n\u001B[0;32m      7\u001B[0m \u001B[38;5;28;01mfor\u001B[39;00m handle \u001B[38;5;129;01min\u001B[39;00m driver\u001B[38;5;241m.\u001B[39mwindow_handles:\n",
      "File \u001B[1;32m~\\Desktop\\python-projects\\pytorch-start\\env\\Lib\\site-packages\\selenium\\webdriver\\support\\wait.py:105\u001B[0m, in \u001B[0;36mWebDriverWait.until\u001B[1;34m(self, method, message)\u001B[0m\n\u001B[0;32m    103\u001B[0m     \u001B[38;5;28;01mif\u001B[39;00m time\u001B[38;5;241m.\u001B[39mmonotonic() \u001B[38;5;241m>\u001B[39m end_time:\n\u001B[0;32m    104\u001B[0m         \u001B[38;5;28;01mbreak\u001B[39;00m\n\u001B[1;32m--> 105\u001B[0m \u001B[38;5;28;01mraise\u001B[39;00m TimeoutException(message, screen, stacktrace)\n",
      "\u001B[1;31mTimeoutException\u001B[0m: Message: \n"
     ]
    }
   ],
   "source": [
    "original_window = driver.current_window_handle\n",
    "\n",
    "# Wait for the new window\n",
    "WebDriverWait(driver, 10).until(EC.number_of_windows_to_be(2))\n",
    "\n",
    "# Switch to the new window\n",
    "for handle in driver.window_handles:\n",
    "    if handle != original_window:\n",
    "        driver.switch_to.window(handle)\n",
    "        break"
   ],
   "metadata": {
    "collapsed": false,
    "ExecuteTime": {
     "start_time": "2025-07-22T13:16:47.632525Z",
     "end_time": "2025-07-22T13:16:47.772289Z"
    }
   }
  },
  {
   "cell_type": "code",
   "execution_count": 21,
   "outputs": [],
   "source": [
    "if driver.find_elements(By.XPATH,\n",
    "                        '//*[@id=\"lex\"]/div/header/ng-include/div/nav/div/div[1]/app-left-menu-button/div/button'):\n",
    "    element = WebDriverWait(driver, 10).until(\n",
    "        EC.element_to_be_clickable(\n",
    "            (By.XPATH, '//*[@id=\"lex\"]/div/header/ng-include/div/nav/div/div[1]/app-left-menu-button/div/button'))\n",
    "    )\n",
    "    element.click()"
   ],
   "metadata": {
    "collapsed": false,
    "ExecuteTime": {
     "start_time": "2025-07-17T19:53:33.344194Z",
     "end_time": "2025-07-17T19:53:33.611845Z"
    }
   }
  },
  {
   "cell_type": "code",
   "execution_count": 4,
   "outputs": [],
   "source": [
    "driver.get(\n",
    "    \"https://sip.lex.pl/#/search-resources?p=%7B%22documentMainType%22:%22QA%22,%22domains%22:%5B%7B%22label%22:%22Podatki%22,%22conceptId%22:4697%7D%5D,%22qaValidity%22:%7B%22nrs%22:134217729,%22label%22:%22aktualne%22%7D%7D&sortBy=default\")\n"
   ],
   "metadata": {
    "collapsed": false,
    "ExecuteTime": {
     "start_time": "2025-07-28T11:54:41.798810Z",
     "end_time": "2025-07-28T11:54:42.073924Z"
    }
   }
  },
  {
   "cell_type": "code",
   "execution_count": null,
   "outputs": [],
   "source": [
    "https://sip.lex.pl/#/search-resources?p=%7B%22documentMainType%22:%22QA%22,%22qaValidity%22:%7B%22nrs%22:134217729,%22label%22:%22aktualne%22%7D%7D&sortBy=default"
   ],
   "metadata": {
    "collapsed": false
   }
  },
  {
   "cell_type": "code",
   "execution_count": null,
   "outputs": [],
   "source": [
    "https://sip.lex.pl/#/search-by-category/pytania-i-odpowiedzi?sl=pl&p=%7B%22qaValidity%22:%7B%22value%22:%22134217729%22,%22label%22:%22tylko%20aktualne%22%7D,%22qaAnswerDateFrom%22:%222022-07-07%22,%22qaAnswerDateTo%22:%222025-07-01%22,%22resourcesRequest%22:true,%22documentMainType%22:%22QA%22%7D&pit=2025-07-28"
   ],
   "metadata": {
    "collapsed": false
   }
  },
  {
   "cell_type": "code",
   "execution_count": 20,
   "outputs": [
    {
     "name": "stdout",
     "output_type": "stream",
     "text": [
      "Name: selenium-wire\n",
      "Version: 5.1.0\n",
      "Summary: Extends Selenium to give you the ability to inspect requests made by the browser.\n",
      "Home-page: https://github.com/wkeeling/selenium-wire\n",
      "Author: Will Keeling\n",
      "Author-email: will@zifferent.com\n",
      "License: MIT\n",
      "Location: C:\\Users\\karol\\Desktop\\python-projects\\pytorch-start\\env\\Lib\\site-packages\n",
      "Requires: blinker, brotli, certifi, h2, hyperframe, kaitaistruct, pyasn1, pydivert, pyOpenSSL, pyparsing, pysocks, selenium, wsproto, zstandard\n",
      "Required-by: \n"
     ]
    }
   ],
   "source": [
    "!pip show selenium-wire"
   ],
   "metadata": {
    "collapsed": false,
    "ExecuteTime": {
     "start_time": "2025-07-22T13:32:09.817551Z",
     "end_time": "2025-07-22T13:32:22.612156Z"
    }
   }
  },
  {
   "cell_type": "code",
   "execution_count": 31,
   "outputs": [
    {
     "name": "stdout",
     "output_type": "stream",
     "text": [
      "<div class=\"qa_q\"><p>Spółka jest w trakcie nowej inwestycji która ma na celu posadowienie jednego podestu technologicznego do dwóch maszyn. Aby go posadowić została przygotowana ekspertyza nośności posadzki. Zgodnie z ekspertyzą budowlaną (oceną wytrzymałości) pod słupami podestu należy wzmocnić posadzkę (wylać słupy betonowe).</p><p>Czy podest technologiczny powinien być osobnym środkiem trwałym, czy raczej powinien zwiększać wartość hali produkcyjnej? Jeżeli jest to osobny środek trwały to czy koszt fundamentu powinien zwiększać jego wartość początkową i jakie podest technologiczny powinien mieć KŚT?</p></div>\n"
     ]
    }
   ],
   "source": [
    "matching_requests = [\n",
    "    request for request in driver.requests\n",
    "    if request.response and \"qa.get.json\" in request.url\n",
    "]\n",
    "\n",
    "last_request = max(matching_requests, key=lambda r: r.date)\n",
    "\n",
    "try:\n",
    "    compressed = io.BytesIO(last_request.response.body)\n",
    "    decompressed = gzip.GzipFile(fileobj=compressed).read()\n",
    "    data = json.loads(decompressed.decode('utf-8'))\n",
    "    print(data['questionContent'])\n",
    "\n",
    "except Exception as e:\n",
    "    print(\"❌ Błąd dekodowania:\", e)"
   ],
   "metadata": {
    "collapsed": false,
    "ExecuteTime": {
     "start_time": "2025-07-22T14:13:30.258421Z",
     "end_time": "2025-07-22T14:13:31.071890Z"
    }
   }
  },
  {
   "cell_type": "code",
   "execution_count": null,
   "outputs": [],
   "source": [],
   "metadata": {
    "collapsed": false
   }
  },
  {
   "cell_type": "code",
   "execution_count": 24,
   "outputs": [],
   "source": [
    "t = 4"
   ],
   "metadata": {
    "collapsed": false,
    "ExecuteTime": {
     "start_time": "2025-07-22T13:36:38.602163Z",
     "end_time": "2025-07-22T14:11:42.352054Z"
    }
   }
  },
  {
   "cell_type": "code",
   "execution_count": 12,
   "outputs": [],
   "source": [
    "for request in matching_requests:\n",
    "    try:\n",
    "        compressed = io.BytesIO(request.response.body)\n",
    "        decompressed = gzip.GzipFile(fileobj=compressed).read()\n",
    "        data = json.loads(decompressed.decode('utf-8'))\n",
    "        w = 4\n",
    "    except Exception as e:\n",
    "        print(\"❌ Błąd dekodowania:\", e)"
   ],
   "metadata": {
    "collapsed": false,
    "ExecuteTime": {
     "start_time": "2025-07-22T13:28:24.696731Z",
     "end_time": "2025-07-22T13:28:53.615100Z"
    }
   }
  },
  {
   "cell_type": "code",
   "execution_count": null,
   "outputs": [],
   "source": [
    "https: // sip.lex.pl /  #/question-and-answer/623753629/czy-brak-nip-na-fakturze-zakupu-lokalu-mieszkalnego-uniemozliwia-odliczenie-vat-jesli-lokal..."
   ],
   "metadata": {
    "collapsed": false
   }
  },
  {
   "cell_type": "code",
   "execution_count": 22,
   "outputs": [
    {
     "name": "stdout",
     "output_type": "stream",
     "text": [
      "Request count after clearing: 401\n"
     ]
    }
   ],
   "source": [
    "driver.requests.clear()\n",
    "print(\"Request count after clearing:\", len(driver.requests))  # Should be 0"
   ],
   "metadata": {
    "collapsed": false,
    "ExecuteTime": {
     "start_time": "2025-07-22T13:34:31.668325Z",
     "end_time": "2025-07-22T13:34:32.074022Z"
    }
   }
  },
  {
   "cell_type": "code",
   "execution_count": 23,
   "outputs": [],
   "source": [
    "matching_requests = [\n",
    "    request for request in driver.requests\n",
    "    if request.response and \"searchResults.get.json\" in request.url\n",
    "]\n"
   ],
   "metadata": {
    "collapsed": false,
    "ExecuteTime": {
     "start_time": "2025-07-17T19:54:23.515614Z",
     "end_time": "2025-07-17T19:54:27.184194Z"
    }
   }
  },
  {
   "cell_type": "code",
   "execution_count": 5,
   "outputs": [],
   "source": [
    "\n",
    "\n",
    "rr = 4\n",
    "cutoff_time = datetime.datetime.now()"
   ],
   "metadata": {
    "collapsed": false,
    "ExecuteTime": {
     "start_time": "2025-07-18T22:39:13.902050Z",
     "end_time": "2025-07-18T22:39:13.940141Z"
    }
   }
  },
  {
   "cell_type": "code",
   "execution_count": 37,
   "outputs": [],
   "source": [
    "matched_request = [\n",
    "    request for request in driver.requests\n",
    "    if request.response and\n",
    "       \"searchResults.get.json\" in request.url and\n",
    "       request.date > cutoff_time\n",
    "]\n",
    "\n",
    "\n"
   ],
   "metadata": {
    "collapsed": false,
    "ExecuteTime": {
     "start_time": "2025-07-17T20:01:30.768022Z",
     "end_time": "2025-07-17T20:01:30.874710Z"
    }
   }
  },
  {
   "cell_type": "code",
   "execution_count": 36,
   "outputs": [],
   "source": [
    "all_requests = [\n",
    "    request for request in driver.requests\n",
    "    if request.response and\n",
    "       \"searchResults.get.json\" in request.url\n",
    "]\n",
    "r = 4"
   ],
   "metadata": {
    "collapsed": false,
    "ExecuteTime": {
     "start_time": "2025-07-17T20:01:25.368144Z",
     "end_time": "2025-07-17T20:01:29.393943Z"
    }
   }
  },
  {
   "cell_type": "code",
   "execution_count": 39,
   "outputs": [
    {
     "data": {
      "text/plain": "[Request(method='POST', url='https://sip.lex.pl/api/searchResults.get.json', headers=[('Host', 'sip.lex.pl'), ('Connection', 'keep-alive'), ('Content-Length', '268'), ('sec-ch-ua-platform', '\"Windows\"'), ('X-XSRF-TOKEN', 'a3ac20f3-c67b-4723-944f-03bcb344ab92'), ('sec-ch-ua', '\"Not)A;Brand\";v=\"8\", \"Chromium\";v=\"138\", \"Google Chrome\";v=\"138\"'), ('sec-ch-ua-mobile', '?0'), ('X-Current-Lang', 'pl'), ('X-Requested-With', 'XMLHttpRequest'), ('User-Agent', 'Mozilla/5.0 (Windows NT 10.0; Win64; x64) AppleWebKit/537.36 (KHTML, like Gecko) Chrome/138.0.0.0 Safari/537.36'), ('Accept', 'application/json, text/plain, */*'), ('Content-Type', 'application/json;charset=UTF-8'), ('Origin', 'https://sip.lex.pl'), ('Sec-Fetch-Site', 'same-origin'), ('Sec-Fetch-Mode', 'cors'), ('Sec-Fetch-Dest', 'empty'), ('Referer', 'https://sip.lex.pl/'), ('Accept-Encoding', 'gzip, deflate, br, zstd'), ('Accept-Language', 'pl-PL,pl;q=0.9,en-US;q=0.8,en;q=0.7'), ('Cookie', 'OptanonAlertBoxClosed=2025-07-11T17:17:21.234Z; _ga=GA1.1.1936326279.1752254242; _ga_H41VVB2C1S=GS2.1.s1752254242$o1$g0$t1752254242$j60$l0$h0; OptanonConsent=isGpcEnabled=0&datestamp=Sat+Jul+12+2025+17%3A00%3A58+GMT%2B0200+(czas+%C5%9Brodkowoeuropejski+letni)&version=202503.2.0&browserGpcFlag=0&isIABGlobal=false&consentId=62c82df6-a0f1-4a5f-a32a-e270d9d5fa1d&interactionCount=1&isAnonUser=1&landingPath=NotLandingPage&groups=C0001%3A1%2CC0003%3A1%2CC0002%3A1%2CC0004%3A1&hosts=H81%3A1%2CH6%3A1%2CH1256%3A1%2CH1158%3A1%2CH572%3A1&genVendors=&intType=1&geolocation=PL%3B14&AwaitingReconsent=false; _ga_TRNTF04CYF=GS2.1.s1752331645$o4$g1$t1752332824$j60$l0$h0; _ga_C687J1NLT6=GS2.1.s1752331646$o4$g1$t1752332824$j60$l0$h0; __Host-bsid=eVpJbnJMMG9ab1FQQ2JDRjFlQXFHSkduY2NvMQ==; JSESSIONID=node01nsesbl2toe5l87q0jnashefg366789.node0; app_server_lang=PL; XSRF-TOKEN=a3ac20f3-c67b-4723-944f-03bcb344ab92; newSession=false; userlane-app-session-ol9z9=eyJ2YWx1ZSI6IntcImZvcmVpZ25Vc2VySWRcIjoxMzMxMjM3MDcsXCJzZXNzaW9uSWRcIjpcIjQ5ZjczN2FjLTNkOTMtNGIwMi1iMDMwLWU1NmU2YWI4Y2I3MFwiLFwiY3JlYXRlZEF0XCI6MTc1Mjc3NDgxMzQ5MixcInVwZGF0ZWRBdFwiOjE3NTI3NzQ4MzQ3Njh9In0=')], body=b'{\"documentMainType\":\"QA\",\"domains\":[{\"label\":\"Podatki\",\"conceptId\":4697}],\"qaValidity\":{\"nrs\":134217729,\"label\":\"aktualne\"},\"queryString\":\"*\",\"resourcesRequest\":true,\"startFrom\":8,\"sortBy\":\"DEFAULT\",\"pointInTime\":\"2025-07-17\",\"analyzer\":false,\"showMeAutoThesis\":false}')]"
     },
     "execution_count": 39,
     "metadata": {},
     "output_type": "execute_result"
    }
   ],
   "source": [
    "matched_request"
   ],
   "metadata": {
    "collapsed": false,
    "ExecuteTime": {
     "start_time": "2025-07-17T20:08:40.886264Z",
     "end_time": "2025-07-17T20:08:40.966493Z"
    }
   }
  },
  {
   "cell_type": "code",
   "execution_count": 6,
   "outputs": [],
   "source": [
    "import logging\n",
    "\n",
    "logger = logging.getLogger(__name__)"
   ],
   "metadata": {
    "collapsed": false,
    "ExecuteTime": {
     "start_time": "2025-07-28T12:01:39.351470Z",
     "end_time": "2025-07-28T12:01:39.375485Z"
    }
   }
  },
  {
   "cell_type": "code",
   "execution_count": 12,
   "outputs": [],
   "source": [],
   "metadata": {
    "collapsed": false,
    "ExecuteTime": {
     "start_time": "2025-07-18T20:41:26.499011Z",
     "end_time": "2025-07-18T20:41:26.539689Z"
    }
   }
  },
  {
   "cell_type": "code",
   "execution_count": 54,
   "outputs": [],
   "source": [
    "r = 4"
   ],
   "metadata": {
    "collapsed": false,
    "ExecuteTime": {
     "start_time": "2025-07-18T13:52:35.357310Z",
     "end_time": "2025-07-18T13:52:39.862998Z"
    }
   }
  },
  {
   "cell_type": "code",
   "execution_count": null,
   "outputs": [],
   "source": [],
   "metadata": {
    "collapsed": false
   }
  },
  {
   "cell_type": "code",
   "execution_count": 4,
   "outputs": [],
   "source": [
    "from scraper.questions_objects import QuestionInList\n",
    "from preprocessing.mongo_db.mongodb import get_mongodb_collection\n",
    "\n",
    "rows = get_mongodb_collection(\n",
    "    db_name=\"scraping_lex\",\n",
    "    collection_name=\"list_questions\"\n",
    ").find_many(\n",
    "    {},\n",
    "    {\"_id\": 0}\n",
    ")\n",
    "questions_in_list = list(map(lambda doc: QuestionInList.from_dict(doc), rows))"
   ],
   "metadata": {
    "collapsed": false,
    "ExecuteTime": {
     "start_time": "2025-07-28T14:27:47.932880Z",
     "end_time": "2025-07-28T14:27:51.285525Z"
    }
   }
  },
  {
   "cell_type": "code",
   "execution_count": 53,
   "outputs": [],
   "source": [
    "w = 4"
   ],
   "metadata": {
    "collapsed": false,
    "ExecuteTime": {
     "start_time": "2025-07-22T16:12:56.948252Z",
     "end_time": "2025-07-22T16:13:58.161956Z"
    }
   }
  },
  {
   "cell_type": "code",
   "execution_count": 5,
   "outputs": [],
   "source": [
    "from typing import Mapping, Any\n",
    "from preprocessing.mongo_db.mongodb import MongodbObject\n",
    "from dataclasses import dataclass, asdict\n",
    "from scraper.questions_objects import QuestionWithHtml\n",
    "from datetime import datetime\n",
    "\n",
    "\n",
    "@dataclass\n",
    "class QuestionWithHtml(MongodbObject):\n",
    "    create_date: datetime\n",
    "    nro: int\n",
    "    title: str\n",
    "    question_content: str\n",
    "    answer_content: str\n",
    "\n",
    "    def to_dict(self):\n",
    "        return asdict(self)\n",
    "\n",
    "    @classmethod\n",
    "    def from_dict(cls, dict_object: Mapping[str, Any]):\n",
    "        return cls(**dict_object)"
   ],
   "metadata": {
    "collapsed": false,
    "ExecuteTime": {
     "start_time": "2025-07-28T14:27:53.101832Z",
     "end_time": "2025-07-28T14:27:53.148113Z"
    }
   }
  },
  {
   "cell_type": "code",
   "execution_count": 6,
   "outputs": [
    {
     "data": {
      "text/plain": "18615"
     },
     "execution_count": 6,
     "metadata": {},
     "output_type": "execute_result"
    }
   ],
   "source": [
    "rows_with_html = get_mongodb_collection(\n",
    "    db_name=\"scraping_lex\",\n",
    "    collection_name=\"questions_with_html\"\n",
    ").find_many(\n",
    "    {\n",
    "    },\n",
    "    {\"_id\": 0}\n",
    ")\n",
    "\n",
    "questions_with_html = list(map(lambda doc: QuestionWithHtml.from_dict(doc), rows_with_html))\n",
    "r =4\n",
    "len(questions_with_html)\n",
    "nro_from_html = set([question.nro for question in questions_with_html])\n",
    "len(questions_with_html)"
   ],
   "metadata": {
    "collapsed": false,
    "ExecuteTime": {
     "start_time": "2025-07-28T14:27:56.825194Z",
     "end_time": "2025-07-28T14:28:00.233986Z"
    }
   }
  },
  {
   "cell_type": "code",
   "execution_count": 9,
   "outputs": [
    {
     "data": {
      "text/plain": "18033"
     },
     "execution_count": 9,
     "metadata": {},
     "output_type": "execute_result"
    }
   ],
   "source": [
    "questions_to_process = [q for q in questions_in_list if q.nro not in nro_from_html]\n",
    "len(questions_to_process)"
   ],
   "metadata": {
    "collapsed": false,
    "ExecuteTime": {
     "start_time": "2025-07-28T14:28:13.587544Z",
     "end_time": "2025-07-28T14:28:13.654492Z"
    }
   }
  },
  {
   "cell_type": "code",
   "execution_count": 10,
   "outputs": [],
   "source": [
    "from typing import Mapping, Any\n",
    "from preprocessing.mongo_db.mongodb import MongodbObject\n",
    "from dataclasses import dataclass, asdict\n",
    "from datetime import datetime\n",
    "from preprocessing.mongo_db.mongodb import get_mongodb_collection\n",
    "\n",
    "\n",
    "def get_matching_request(nro_to_match):\n",
    "    matching_requests = [\n",
    "        request for request in driver.requests\n",
    "        if request.response and \"qa.get.json\" in request.url\n",
    "    ]\n",
    "\n",
    "    # Sort by newest first\n",
    "    matching_requests.sort(key=lambda r: r.date, reverse=True)\n",
    "\n",
    "    for request in matching_requests[:5]:\n",
    "        try:\n",
    "            compressed = io.BytesIO(request.response.body)\n",
    "            decompressed = gzip.GzipFile(fileobj=compressed).read()\n",
    "            data = json.loads(decompressed.decode('utf-8'))\n",
    "\n",
    "            # Check if the 'nro' matches\n",
    "            if str(data.get('nro')) == str(nro_to_match):\n",
    "                return data\n",
    "\n",
    "        except Exception as e:\n",
    "            print(\"❌ Error decoding request:\", e)\n",
    "\n",
    "    raise ValueError(\"No matching response found with the given nro.\")\n",
    "\n",
    "\n",
    "def get_response_for_question(nro, timeout=5):\n",
    "    start_time = time.time()\n",
    "    while True:\n",
    "        try:\n",
    "            return get_matching_request(nro)\n",
    "        except ValueError as e:\n",
    "            print(\"❌ Not found matching request:\", e)\n",
    "\n",
    "        if time.time() - start_time > timeout:\n",
    "            raise TimeoutError(\"Timed out waiting for 'qa.get.json'\")\n",
    "        time.sleep(1)\n",
    "        print(f\"it sleeping {time.time() - start_time:.2f} seconds\")\n",
    "\n",
    "\n",
    "\n",
    "\n",
    "# from_db = QuestionWithHtml.from_dict(get_mongodb_collection(\n",
    "#     db_name=\"scraping_lex\",\n",
    "#     collection_name=\"questions_with_html\"\n",
    "# ).find_one(\n",
    "#     {\n",
    "#         \"nro\": nro\n",
    "#     },\n",
    "#     {\"_id\": 0}\n",
    "# )\n",
    "# )\n",
    "\n",
    "# driver.get(f'https://sip.lex.pl/#/question-and-answer/{nro}')\n",
    "#\n",
    "# question_request = get_response_for_question(nro)\n",
    "#\n",
    "# w = datetime.fromtimestamp(question_request['answerDate'] / 1000)\n",
    "#\n",
    "# questions_with_html = QuestionWithHtml(\n",
    "#     nro=question_request['nro'],\n",
    "#     title=question_request['title'],\n",
    "#     question_content=question_request['questionContent'],\n",
    "#     answer_content=question_request['answerContent'],\n",
    "#     create_date=datetime.fromtimestamp(question_request['answerDate'] / 1000)\n",
    "# )\n",
    "#\n",
    "# get_mongodb_collection(\n",
    "#     db_name=\"scraping_lex\",\n",
    "#     collection_name=\"questions_with_html\"\n",
    "# ).insert_one(questions_with_html.to_dict())\n",
    "\n"
   ],
   "metadata": {
    "collapsed": false,
    "ExecuteTime": {
     "start_time": "2025-07-28T14:28:19.551292Z",
     "end_time": "2025-07-28T14:28:19.575849Z"
    }
   }
  },
  {
   "cell_type": "code",
   "execution_count": 11,
   "outputs": [],
   "source": [
    "errors = []\n"
   ],
   "metadata": {
    "collapsed": false,
    "ExecuteTime": {
     "start_time": "2025-07-28T14:28:22.151760Z",
     "end_time": "2025-07-28T14:28:22.192671Z"
    }
   }
  },
  {
   "cell_type": "code",
   "execution_count": 13,
   "outputs": [],
   "source": [
    "driver = create_driver()"
   ],
   "metadata": {
    "collapsed": false,
    "ExecuteTime": {
     "start_time": "2025-07-23T10:16:39.048415Z",
     "end_time": "2025-07-23T10:16:44.470337Z"
    }
   }
  },
  {
   "cell_type": "code",
   "execution_count": null,
   "outputs": [
    {
     "name": "stderr",
     "output_type": "stream",
     "text": [
      "Loading questions:   0%|          | 0/18033 [00:00<?, ?it/s]"
     ]
    },
    {
     "name": "stdout",
     "output_type": "stream",
     "text": [
      "❌ Not found matching request: No matching response found with the given nro.\n",
      "it sleeping 1.42 seconds\n",
      "❌ Not found matching request: No matching response found with the given nro.\n",
      "it sleeping 2.90 seconds\n"
     ]
    },
    {
     "name": "stderr",
     "output_type": "stream",
     "text": [
      "Loading questions:   0%|          | 72/18033 [02:12<11:22:33,  2.28s/it]"
     ]
    },
    {
     "name": "stdout",
     "output_type": "stream",
     "text": [
      "❌ Not found matching request: No matching response found with the given nro.\n",
      "it sleeping 2.43 seconds\n"
     ]
    },
    {
     "name": "stderr",
     "output_type": "stream",
     "text": [
      "Loading questions:   1%|          | 139/18033 [04:37<11:42:55,  2.36s/it]"
     ]
    },
    {
     "name": "stdout",
     "output_type": "stream",
     "text": [
      "❌ Not found matching request: No matching response found with the given nro.\n",
      "it sleeping 2.86 seconds\n"
     ]
    },
    {
     "name": "stderr",
     "output_type": "stream",
     "text": [
      "Loading questions:   1%|          | 142/18033 [04:46<13:00:29,  2.62s/it]"
     ]
    },
    {
     "name": "stdout",
     "output_type": "stream",
     "text": [
      "❌ Not found matching request: No matching response found with the given nro.\n",
      "it sleeping 2.60 seconds\n"
     ]
    },
    {
     "name": "stderr",
     "output_type": "stream",
     "text": [
      "Loading questions:   1%|          | 150/18033 [05:07<12:12:15,  2.46s/it]"
     ]
    },
    {
     "name": "stdout",
     "output_type": "stream",
     "text": [
      "❌ Not found matching request: No matching response found with the given nro.\n",
      "it sleeping 2.71 seconds\n"
     ]
    },
    {
     "name": "stderr",
     "output_type": "stream",
     "text": [
      "Loading questions:   1%|          | 153/18033 [05:16<13:14:06,  2.66s/it]"
     ]
    },
    {
     "name": "stdout",
     "output_type": "stream",
     "text": [
      "❌ Not found matching request: No matching response found with the given nro.\n",
      "it sleeping 2.65 seconds\n"
     ]
    },
    {
     "name": "stderr",
     "output_type": "stream",
     "text": [
      "Loading questions:   1%|          | 161/18033 [05:37<11:51:44,  2.39s/it]"
     ]
    },
    {
     "name": "stdout",
     "output_type": "stream",
     "text": [
      "❌ Not found matching request: No matching response found with the given nro.\n",
      "it sleeping 2.83 seconds\n"
     ]
    },
    {
     "name": "stderr",
     "output_type": "stream",
     "text": [
      "Loading questions:   1%|          | 168/18033 [05:56<12:14:35,  2.47s/it]"
     ]
    },
    {
     "name": "stdout",
     "output_type": "stream",
     "text": [
      "❌ Not found matching request: No matching response found with the given nro.\n",
      "it sleeping 2.66 seconds\n"
     ]
    },
    {
     "name": "stderr",
     "output_type": "stream",
     "text": [
      "Loading questions:   1%|          | 174/18033 [06:12<11:48:33,  2.38s/it]"
     ]
    },
    {
     "name": "stdout",
     "output_type": "stream",
     "text": [
      "❌ Not found matching request: No matching response found with the given nro.\n",
      "it sleeping 2.72 seconds\n"
     ]
    },
    {
     "name": "stderr",
     "output_type": "stream",
     "text": [
      "Loading questions:   1%|          | 177/18033 [06:21<13:29:32,  2.72s/it]"
     ]
    },
    {
     "name": "stdout",
     "output_type": "stream",
     "text": [
      "❌ Not found matching request: No matching response found with the given nro.\n",
      "it sleeping 2.85 seconds\n"
     ]
    },
    {
     "name": "stderr",
     "output_type": "stream",
     "text": [
      "Loading questions:   1%|          | 193/18033 [07:02<11:36:56,  2.34s/it]"
     ]
    },
    {
     "name": "stdout",
     "output_type": "stream",
     "text": [
      "❌ Not found matching request: No matching response found with the given nro.\n",
      "it sleeping 2.55 seconds\n"
     ]
    },
    {
     "name": "stderr",
     "output_type": "stream",
     "text": [
      "Loading questions:   1%|          | 200/18033 [07:21<11:59:53,  2.42s/it]"
     ]
    },
    {
     "name": "stdout",
     "output_type": "stream",
     "text": [
      "Restarting Selenium Wire driver...\n",
      "its done...\n",
      "❌ Not found matching request: No matching response found with the given nro.\n",
      "it sleeping 1.32 seconds\n",
      "❌ Not found matching request: No matching response found with the given nro.\n",
      "it sleeping 2.69 seconds\n"
     ]
    },
    {
     "name": "stderr",
     "output_type": "stream",
     "text": [
      "Loading questions:   1%|▏         | 252/18033 [09:21<10:04:41,  2.04s/it]"
     ]
    },
    {
     "name": "stdout",
     "output_type": "stream",
     "text": [
      "❌ Not found matching request: No matching response found with the given nro.\n",
      "it sleeping 2.23 seconds\n"
     ]
    },
    {
     "name": "stderr",
     "output_type": "stream",
     "text": [
      "Loading questions:   1%|▏         | 261/18033 [09:41<10:31:04,  2.13s/it]"
     ]
    },
    {
     "name": "stdout",
     "output_type": "stream",
     "text": [
      "❌ Not found matching request: No matching response found with the given nro.\n",
      "it sleeping 2.23 seconds\n"
     ]
    },
    {
     "name": "stderr",
     "output_type": "stream",
     "text": [
      "Loading questions:   2%|▏         | 273/18033 [10:08<10:49:39,  2.19s/it]"
     ]
    },
    {
     "name": "stdout",
     "output_type": "stream",
     "text": [
      "❌ Not found matching request: No matching response found with the given nro.\n",
      "it sleeping 2.41 seconds\n"
     ]
    },
    {
     "name": "stderr",
     "output_type": "stream",
     "text": [
      "Loading questions:   2%|▏         | 282/18033 [10:29<10:57:38,  2.22s/it]"
     ]
    },
    {
     "name": "stdout",
     "output_type": "stream",
     "text": [
      "❌ Not found matching request: No matching response found with the given nro.\n",
      "it sleeping 2.39 seconds\n"
     ]
    },
    {
     "name": "stderr",
     "output_type": "stream",
     "text": [
      "Loading questions:   2%|▏         | 285/18033 [10:37<11:48:04,  2.39s/it]"
     ]
    },
    {
     "name": "stdout",
     "output_type": "stream",
     "text": [
      "❌ Not found matching request: No matching response found with the given nro.\n",
      "it sleeping 2.32 seconds\n"
     ]
    },
    {
     "name": "stderr",
     "output_type": "stream",
     "text": [
      "Loading questions:   2%|▏         | 310/18033 [11:37<12:02:13,  2.45s/it]"
     ]
    },
    {
     "name": "stdout",
     "output_type": "stream",
     "text": [
      "❌ Not found matching request: No matching response found with the given nro.\n",
      "it sleeping 2.49 seconds\n"
     ]
    },
    {
     "name": "stderr",
     "output_type": "stream",
     "text": [
      "Loading questions:   2%|▏         | 345/18033 [13:02<11:53:19,  2.42s/it]"
     ]
    },
    {
     "name": "stdout",
     "output_type": "stream",
     "text": [
      "❌ Not found matching request: No matching response found with the given nro.\n",
      "it sleeping 2.60 seconds\n"
     ]
    },
    {
     "name": "stderr",
     "output_type": "stream",
     "text": [
      "Loading questions:   2%|▏         | 362/18033 [13:46<12:22:25,  2.52s/it]"
     ]
    },
    {
     "name": "stdout",
     "output_type": "stream",
     "text": [
      "❌ Not found matching request: No matching response found with the given nro.\n",
      "it sleeping 2.70 seconds\n"
     ]
    },
    {
     "name": "stderr",
     "output_type": "stream",
     "text": [
      "Loading questions:   2%|▏         | 400/18033 [15:30<13:27:29,  2.75s/it]"
     ]
    },
    {
     "name": "stdout",
     "output_type": "stream",
     "text": [
      "Restarting Selenium Wire driver...\n",
      "its done...\n",
      "❌ Not found matching request: No matching response found with the given nro.\n",
      "it sleeping 1.27 seconds\n",
      "❌ Not found matching request: No matching response found with the given nro.\n",
      "it sleeping 2.60 seconds\n"
     ]
    },
    {
     "name": "stderr",
     "output_type": "stream",
     "text": [
      "Loading questions:   2%|▏         | 401/18033 [15:48<36:18:52,  7.41s/it]"
     ]
    },
    {
     "name": "stdout",
     "output_type": "stream",
     "text": [
      "❌ Not found matching request: No matching response found with the given nro.\n",
      "it sleeping 2.23 seconds\n"
     ]
    },
    {
     "name": "stderr",
     "output_type": "stream",
     "text": [
      "Loading questions:   2%|▏         | 431/18033 [16:45<9:23:36,  1.92s/it] "
     ]
    },
    {
     "name": "stdout",
     "output_type": "stream",
     "text": [
      "❌ Not found matching request: No matching response found with the given nro.\n",
      "it sleeping 2.43 seconds\n"
     ]
    },
    {
     "name": "stderr",
     "output_type": "stream",
     "text": [
      "Loading questions:   3%|▎         | 451/18033 [17:26<9:56:11,  2.03s/it] "
     ]
    },
    {
     "name": "stdout",
     "output_type": "stream",
     "text": [
      "❌ Not found matching request: No matching response found with the given nro.\n",
      "it sleeping 2.10 seconds\n"
     ]
    },
    {
     "name": "stderr",
     "output_type": "stream",
     "text": [
      "Loading questions:   3%|▎         | 457/18033 [17:39<10:08:52,  2.08s/it]"
     ]
    },
    {
     "name": "stdout",
     "output_type": "stream",
     "text": [
      "❌ Not found matching request: No matching response found with the given nro.\n",
      "it sleeping 2.22 seconds\n"
     ]
    },
    {
     "name": "stderr",
     "output_type": "stream",
     "text": [
      "Loading questions:   3%|▎         | 465/18033 [17:57<10:18:06,  2.11s/it]"
     ]
    },
    {
     "name": "stdout",
     "output_type": "stream",
     "text": [
      "❌ Not found matching request: No matching response found with the given nro.\n",
      "it sleeping 2.13 seconds\n"
     ]
    },
    {
     "name": "stderr",
     "output_type": "stream",
     "text": [
      "Loading questions:   3%|▎         | 477/18033 [18:24<10:30:44,  2.16s/it]"
     ]
    },
    {
     "name": "stdout",
     "output_type": "stream",
     "text": [
      "❌ Not found matching request: No matching response found with the given nro.\n",
      "it sleeping 2.19 seconds\n"
     ]
    },
    {
     "name": "stderr",
     "output_type": "stream",
     "text": [
      "Loading questions:   3%|▎         | 481/18033 [18:33<10:48:11,  2.22s/it]"
     ]
    },
    {
     "name": "stdout",
     "output_type": "stream",
     "text": [
      "❌ Not found matching request: No matching response found with the given nro.\n",
      "it sleeping 2.35 seconds\n"
     ]
    },
    {
     "name": "stderr",
     "output_type": "stream",
     "text": [
      "Loading questions:   3%|▎         | 484/18033 [18:41<11:22:18,  2.33s/it]"
     ]
    },
    {
     "name": "stdout",
     "output_type": "stream",
     "text": [
      "❌ Not found matching request: No matching response found with the given nro.\n",
      "it sleeping 2.40 seconds\n"
     ]
    },
    {
     "name": "stderr",
     "output_type": "stream",
     "text": [
      "Loading questions:   3%|▎         | 485/18033 [18:45<14:06:44,  2.90s/it]"
     ]
    },
    {
     "name": "stdout",
     "output_type": "stream",
     "text": [
      "❌ Not found matching request: No matching response found with the given nro.\n",
      "it sleeping 2.08 seconds\n"
     ]
    },
    {
     "name": "stderr",
     "output_type": "stream",
     "text": [
      "Loading questions:   3%|▎         | 511/18033 [19:43<10:42:27,  2.20s/it]"
     ]
    },
    {
     "name": "stdout",
     "output_type": "stream",
     "text": [
      "❌ Not found matching request: No matching response found with the given nro.\n",
      "it sleeping 2.49 seconds\n"
     ]
    },
    {
     "name": "stderr",
     "output_type": "stream",
     "text": [
      "Loading questions:   3%|▎         | 525/18033 [20:17<11:47:09,  2.42s/it]"
     ]
    },
    {
     "name": "stdout",
     "output_type": "stream",
     "text": [
      "❌ Not found matching request: No matching response found with the given nro.\n",
      "it sleeping 2.75 seconds\n"
     ]
    },
    {
     "name": "stderr",
     "output_type": "stream",
     "text": [
      "Loading questions:   3%|▎         | 532/18033 [20:36<12:03:58,  2.48s/it]"
     ]
    },
    {
     "name": "stdout",
     "output_type": "stream",
     "text": [
      "❌ Not found matching request: No matching response found with the given nro.\n",
      "it sleeping 2.64 seconds\n"
     ]
    },
    {
     "name": "stderr",
     "output_type": "stream",
     "text": [
      "Loading questions:   3%|▎         | 557/18033 [21:44<12:58:47,  2.67s/it]"
     ]
    },
    {
     "name": "stdout",
     "output_type": "stream",
     "text": [
      "❌ Not found matching request: No matching response found with the given nro.\n",
      "it sleeping 2.83 seconds\n"
     ]
    },
    {
     "name": "stderr",
     "output_type": "stream",
     "text": [
      "Loading questions:   3%|▎         | 564/18033 [22:06<13:37:41,  2.81s/it]"
     ]
    },
    {
     "name": "stdout",
     "output_type": "stream",
     "text": [
      "❌ Not found matching request: No matching response found with the given nro.\n",
      "it sleeping 2.99 seconds\n"
     ]
    },
    {
     "name": "stderr",
     "output_type": "stream",
     "text": [
      "Loading questions:   3%|▎         | 565/18033 [22:11<17:16:21,  3.56s/it]"
     ]
    },
    {
     "name": "stdout",
     "output_type": "stream",
     "text": [
      "❌ Not found matching request: No matching response found with the given nro.\n",
      "it sleeping 2.51 seconds\n"
     ]
    },
    {
     "name": "stderr",
     "output_type": "stream",
     "text": [
      "Loading questions:   3%|▎         | 600/18033 [23:47<13:08:54,  2.72s/it]"
     ]
    },
    {
     "name": "stdout",
     "output_type": "stream",
     "text": [
      "Restarting Selenium Wire driver...\n",
      "its done...\n",
      "❌ Not found matching request: No matching response found with the given nro.\n",
      "it sleeping 1.30 seconds\n",
      "❌ Not found matching request: No matching response found with the given nro.\n",
      "it sleeping 2.71 seconds\n",
      "❌ Not found matching request: No matching response found with the given nro.\n",
      "it sleeping 4.30 seconds\n"
     ]
    },
    {
     "name": "stderr",
     "output_type": "stream",
     "text": [
      "Loading questions:   4%|▎         | 632/18033 [25:04<8:59:27,  1.86s/it] "
     ]
    },
    {
     "name": "stdout",
     "output_type": "stream",
     "text": [
      "❌ Not found matching request: No matching response found with the given nro.\n",
      "it sleeping 2.05 seconds\n"
     ]
    },
    {
     "name": "stderr",
     "output_type": "stream",
     "text": [
      "Loading questions:   4%|▎         | 633/18033 [25:07<11:16:57,  2.33s/it]"
     ]
    },
    {
     "name": "stdout",
     "output_type": "stream",
     "text": [
      "❌ Not found matching request: No matching response found with the given nro.\n",
      "it sleeping 1.81 seconds\n"
     ]
    },
    {
     "name": "stderr",
     "output_type": "stream",
     "text": [
      "Loading questions:   4%|▎         | 669/18033 [26:18<9:46:10,  2.03s/it] "
     ]
    },
    {
     "name": "stdout",
     "output_type": "stream",
     "text": [
      "❌ Not found matching request: No matching response found with the given nro.\n",
      "it sleeping 2.27 seconds\n"
     ]
    },
    {
     "name": "stderr",
     "output_type": "stream",
     "text": [
      "Loading questions:   4%|▍         | 680/18033 [26:43<10:15:32,  2.13s/it]"
     ]
    },
    {
     "name": "stdout",
     "output_type": "stream",
     "text": [
      "❌ Not found matching request: No matching response found with the given nro.\n",
      "it sleeping 2.28 seconds\n"
     ]
    },
    {
     "name": "stderr",
     "output_type": "stream",
     "text": [
      "Loading questions:   4%|▍         | 690/18033 [27:06<10:18:11,  2.14s/it]"
     ]
    },
    {
     "name": "stdout",
     "output_type": "stream",
     "text": [
      "❌ Not found matching request: No matching response found with the given nro.\n",
      "it sleeping 2.24 seconds\n"
     ]
    },
    {
     "name": "stderr",
     "output_type": "stream",
     "text": [
      "Loading questions:   4%|▍         | 693/18033 [27:14<11:08:19,  2.31s/it]"
     ]
    },
    {
     "name": "stdout",
     "output_type": "stream",
     "text": [
      "❌ Not found matching request: No matching response found with the given nro.\n",
      "it sleeping 2.35 seconds\n"
     ]
    },
    {
     "name": "stderr",
     "output_type": "stream",
     "text": [
      "Loading questions:   4%|▍         | 704/18033 [27:39<10:42:03,  2.22s/it]"
     ]
    },
    {
     "name": "stdout",
     "output_type": "stream",
     "text": [
      "❌ Not found matching request: No matching response found with the given nro.\n",
      "it sleeping 2.32 seconds\n"
     ]
    },
    {
     "name": "stderr",
     "output_type": "stream",
     "text": [
      "Loading questions:   4%|▍         | 739/18033 [29:01<11:22:42,  2.37s/it]"
     ]
    },
    {
     "name": "stdout",
     "output_type": "stream",
     "text": [
      "❌ Not found matching request: No matching response found with the given nro.\n",
      "it sleeping 2.60 seconds\n"
     ]
    },
    {
     "name": "stderr",
     "output_type": "stream",
     "text": [
      "Loading questions:   4%|▍         | 746/18033 [29:20<11:55:43,  2.48s/it]"
     ]
    },
    {
     "name": "stdout",
     "output_type": "stream",
     "text": [
      "❌ Not found matching request: No matching response found with the given nro.\n",
      "it sleeping 2.56 seconds\n"
     ]
    },
    {
     "name": "stderr",
     "output_type": "stream",
     "text": [
      "Loading questions:   4%|▍         | 757/18033 [29:50<12:35:12,  2.62s/it]"
     ]
    },
    {
     "name": "stdout",
     "output_type": "stream",
     "text": [
      "❌ Not found matching request: No matching response found with the given nro.\n",
      "it sleeping 2.75 seconds\n"
     ]
    },
    {
     "name": "stderr",
     "output_type": "stream",
     "text": [
      "Loading questions:   4%|▍         | 770/18033 [30:25<12:34:05,  2.62s/it]"
     ]
    },
    {
     "name": "stdout",
     "output_type": "stream",
     "text": [
      "❌ Not found matching request: No matching response found with the given nro.\n",
      "it sleeping 2.67 seconds\n"
     ]
    },
    {
     "name": "stderr",
     "output_type": "stream",
     "text": [
      "Loading questions:   4%|▍         | 793/18033 [31:28<12:45:34,  2.66s/it]"
     ]
    },
    {
     "name": "stdout",
     "output_type": "stream",
     "text": [
      "❌ Not found matching request: No matching response found with the given nro.\n",
      "it sleeping 2.85 seconds\n"
     ]
    },
    {
     "name": "stderr",
     "output_type": "stream",
     "text": [
      "Loading questions:   4%|▍         | 800/18033 [31:48<12:49:52,  2.68s/it]"
     ]
    },
    {
     "name": "stdout",
     "output_type": "stream",
     "text": [
      "Restarting Selenium Wire driver...\n",
      "its done...\n",
      "❌ Not found matching request: No matching response found with the given nro.\n",
      "it sleeping 1.29 seconds\n",
      "❌ Not found matching request: No matching response found with the given nro.\n",
      "it sleeping 2.57 seconds\n"
     ]
    },
    {
     "name": "stderr",
     "output_type": "stream",
     "text": [
      "Loading questions:   4%|▍         | 801/18033 [32:06<34:22:59,  7.18s/it]"
     ]
    },
    {
     "name": "stdout",
     "output_type": "stream",
     "text": [
      "❌ Not found matching request: No matching response found with the given nro.\n",
      "it sleeping 2.23 seconds\n"
     ]
    },
    {
     "name": "stderr",
     "output_type": "stream",
     "text": [
      "Loading questions:   5%|▍         | 830/18033 [33:02<9:02:09,  1.89s/it] "
     ]
    },
    {
     "name": "stdout",
     "output_type": "stream",
     "text": [
      "❌ Not found matching request: No matching response found with the given nro.\n",
      "it sleeping 2.10 seconds\n"
     ]
    },
    {
     "name": "stderr",
     "output_type": "stream",
     "text": [
      "Loading questions:   5%|▍         | 832/18033 [33:07<10:17:06,  2.15s/it]"
     ]
    },
    {
     "name": "stdout",
     "output_type": "stream",
     "text": [
      "❌ Not found matching request: No matching response found with the given nro.\n",
      "it sleeping 2.01 seconds\n"
     ]
    },
    {
     "name": "stderr",
     "output_type": "stream",
     "text": [
      "Loading questions:   5%|▍         | 845/18033 [33:33<9:53:45,  2.07s/it] "
     ]
    },
    {
     "name": "stdout",
     "output_type": "stream",
     "text": [
      "❌ Not found matching request: No matching response found with the given nro.\n",
      "it sleeping 2.05 seconds\n"
     ]
    },
    {
     "name": "stderr",
     "output_type": "stream",
     "text": [
      "Loading questions:   5%|▍         | 878/18033 [34:41<9:54:12,  2.08s/it] "
     ]
    },
    {
     "name": "stdout",
     "output_type": "stream",
     "text": [
      "❌ Not found matching request: No matching response found with the given nro.\n",
      "it sleeping 2.20 seconds\n"
     ]
    },
    {
     "name": "stderr",
     "output_type": "stream",
     "text": [
      "Loading questions:   5%|▍         | 890/18033 [35:08<10:11:00,  2.14s/it]"
     ]
    },
    {
     "name": "stdout",
     "output_type": "stream",
     "text": [
      "❌ Not found matching request: No matching response found with the given nro.\n",
      "it sleeping 2.24 seconds\n"
     ]
    },
    {
     "name": "stderr",
     "output_type": "stream",
     "text": [
      "Loading questions:   5%|▍         | 900/18033 [35:31<10:16:39,  2.16s/it]"
     ]
    },
    {
     "name": "stdout",
     "output_type": "stream",
     "text": [
      "❌ Not found matching request: No matching response found with the given nro.\n",
      "it sleeping 2.51 seconds\n"
     ]
    },
    {
     "name": "stderr",
     "output_type": "stream",
     "text": [
      "Loading questions:   5%|▌         | 908/18033 [35:51<10:42:11,  2.25s/it]"
     ]
    },
    {
     "name": "stdout",
     "output_type": "stream",
     "text": [
      "❌ Not found matching request: No matching response found with the given nro.\n",
      "it sleeping 2.40 seconds\n"
     ]
    },
    {
     "name": "stderr",
     "output_type": "stream",
     "text": [
      "Loading questions:   5%|▌         | 910/18033 [35:56<11:51:49,  2.49s/it]"
     ]
    },
    {
     "name": "stdout",
     "output_type": "stream",
     "text": [
      "❌ Not found matching request: No matching response found with the given nro.\n",
      "it sleeping 2.50 seconds\n"
     ]
    },
    {
     "name": "stderr",
     "output_type": "stream",
     "text": [
      "Loading questions:   5%|▌         | 961/18033 [38:01<12:41:52,  2.68s/it]"
     ]
    },
    {
     "name": "stdout",
     "output_type": "stream",
     "text": [
      "❌ Not found matching request: No matching response found with the given nro.\n",
      "it sleeping 2.80 seconds\n"
     ]
    },
    {
     "name": "stderr",
     "output_type": "stream",
     "text": [
      "Loading questions:   5%|▌         | 969/18033 [38:26<14:57:55,  3.16s/it]"
     ]
    },
    {
     "name": "stdout",
     "output_type": "stream",
     "text": [
      "❌ Not found matching request: No matching response found with the given nro.\n",
      "it sleeping 2.63 seconds\n"
     ]
    },
    {
     "name": "stderr",
     "output_type": "stream",
     "text": [
      "Loading questions:   5%|▌         | 979/18033 [39:00<13:26:47,  2.84s/it]"
     ]
    },
    {
     "name": "stdout",
     "output_type": "stream",
     "text": [
      "❌ Not found matching request: No matching response found with the given nro.\n",
      "it sleeping 2.81 seconds\n"
     ]
    },
    {
     "name": "stderr",
     "output_type": "stream",
     "text": [
      "Loading questions:   6%|▌         | 1000/18033 [40:08<12:59:39,  2.75s/it]"
     ]
    },
    {
     "name": "stdout",
     "output_type": "stream",
     "text": [
      "Restarting Selenium Wire driver...\n",
      "its done...\n",
      "❌ Not found matching request: No matching response found with the given nro.\n",
      "it sleeping 1.32 seconds\n",
      "❌ Not found matching request: No matching response found with the given nro.\n",
      "it sleeping 2.69 seconds\n",
      "❌ Not found matching request: No matching response found with the given nro.\n",
      "it sleeping 4.36 seconds\n"
     ]
    },
    {
     "name": "stderr",
     "output_type": "stream",
     "text": [
      "Loading questions:   6%|▌         | 1024/18033 [41:27<14:16:47,  3.02s/it]"
     ]
    },
    {
     "name": "stdout",
     "output_type": "stream",
     "text": [
      "❌ Not found matching request: No matching response found with the given nro.\n",
      "it sleeping 2.25 seconds\n"
     ]
    },
    {
     "name": "stderr",
     "output_type": "stream",
     "text": [
      "Loading questions:   6%|▌         | 1045/18033 [42:20<11:04:19,  2.35s/it]"
     ]
    },
    {
     "name": "stdout",
     "output_type": "stream",
     "text": [
      "❌ Not found matching request: No matching response found with the given nro.\n",
      "it sleeping 2.10 seconds\n"
     ]
    },
    {
     "name": "stderr",
     "output_type": "stream",
     "text": [
      "Loading questions:   6%|▌         | 1053/18033 [42:38<10:04:18,  2.14s/it]"
     ]
    },
    {
     "name": "stdout",
     "output_type": "stream",
     "text": [
      "❌ Not found matching request: No matching response found with the given nro.\n",
      "it sleeping 2.40 seconds\n"
     ]
    },
    {
     "name": "stderr",
     "output_type": "stream",
     "text": [
      "Loading questions:   6%|▌         | 1113/18033 [44:57<10:12:45,  2.17s/it]"
     ]
    },
    {
     "name": "stdout",
     "output_type": "stream",
     "text": [
      "❌ Not found matching request: No matching response found with the given nro.\n",
      "it sleeping 2.55 seconds\n"
     ]
    },
    {
     "name": "stderr",
     "output_type": "stream",
     "text": [
      "Loading questions:   6%|▋         | 1146/18033 [46:16<11:35:37,  2.47s/it]"
     ]
    },
    {
     "name": "stdout",
     "output_type": "stream",
     "text": [
      "❌ Not found matching request: No matching response found with the given nro.\n",
      "it sleeping 2.57 seconds\n"
     ]
    },
    {
     "name": "stderr",
     "output_type": "stream",
     "text": [
      "Loading questions:   6%|▋         | 1150/18033 [46:28<12:15:32,  2.61s/it]"
     ]
    },
    {
     "name": "stdout",
     "output_type": "stream",
     "text": [
      "❌ Not found matching request: No matching response found with the given nro.\n",
      "it sleeping 2.97 seconds\n"
     ]
    },
    {
     "name": "stderr",
     "output_type": "stream",
     "text": [
      "Loading questions:   6%|▋         | 1162/18033 [47:00<12:01:13,  2.56s/it]"
     ]
    },
    {
     "name": "stdout",
     "output_type": "stream",
     "text": [
      "❌ Not found matching request: No matching response found with the given nro.\n",
      "it sleeping 2.72 seconds\n"
     ]
    },
    {
     "name": "stderr",
     "output_type": "stream",
     "text": [
      "Loading questions:   6%|▋         | 1163/18033 [47:05<15:05:57,  3.22s/it]"
     ]
    },
    {
     "name": "stdout",
     "output_type": "stream",
     "text": [
      "❌ Not found matching request: No matching response found with the given nro.\n",
      "it sleeping 2.30 seconds\n"
     ]
    },
    {
     "name": "stderr",
     "output_type": "stream",
     "text": [
      "Loading questions:   7%|▋         | 1195/18033 [48:32<12:52:40,  2.75s/it]"
     ]
    },
    {
     "name": "stdout",
     "output_type": "stream",
     "text": [
      "❌ Not found matching request: No matching response found with the given nro.\n",
      "it sleeping 2.90 seconds\n"
     ]
    },
    {
     "name": "stderr",
     "output_type": "stream",
     "text": [
      "Loading questions:   7%|▋         | 1200/18033 [48:48<13:36:35,  2.91s/it]"
     ]
    },
    {
     "name": "stdout",
     "output_type": "stream",
     "text": [
      "Restarting Selenium Wire driver...\n",
      "its done...\n",
      "❌ Not found matching request: No matching response found with the given nro.\n",
      "it sleeping 1.28 seconds\n",
      "❌ Not found matching request: No matching response found with the given nro.\n",
      "it sleeping 2.58 seconds\n",
      "❌ Not found matching request: No matching response found with the given nro.\n",
      "it sleeping 4.33 seconds\n"
     ]
    },
    {
     "name": "stderr",
     "output_type": "stream",
     "text": [
      "Loading questions:   7%|▋         | 1230/18033 [50:02<8:56:03,  1.91s/it] "
     ]
    },
    {
     "name": "stdout",
     "output_type": "stream",
     "text": [
      "❌ Not found matching request: No matching response found with the given nro.\n",
      "it sleeping 2.10 seconds\n"
     ]
    },
    {
     "name": "stderr",
     "output_type": "stream",
     "text": [
      "Loading questions:   7%|▋         | 1262/18033 [51:07<9:35:40,  2.06s/it] "
     ]
    },
    {
     "name": "stdout",
     "output_type": "stream",
     "text": [
      "❌ Not found matching request: No matching response found with the given nro.\n",
      "it sleeping 2.32 seconds\n"
     ]
    },
    {
     "name": "stderr",
     "output_type": "stream",
     "text": [
      "Loading questions:   7%|▋         | 1274/18033 [51:33<9:52:10,  2.12s/it] "
     ]
    },
    {
     "name": "stdout",
     "output_type": "stream",
     "text": [
      "❌ Not found matching request: No matching response found with the given nro.\n",
      "it sleeping 2.28 seconds\n"
     ]
    },
    {
     "name": "stderr",
     "output_type": "stream",
     "text": [
      "Loading questions:   7%|▋         | 1279/18033 [51:45<10:13:12,  2.20s/it]"
     ]
    },
    {
     "name": "stdout",
     "output_type": "stream",
     "text": [
      "❌ Not found matching request: No matching response found with the given nro.\n",
      "it sleeping 2.37 seconds\n"
     ]
    },
    {
     "name": "stderr",
     "output_type": "stream",
     "text": [
      "Loading questions:   7%|▋         | 1288/18033 [52:06<9:52:51,  2.12s/it] "
     ]
    },
    {
     "name": "stdout",
     "output_type": "stream",
     "text": [
      "❌ Not found matching request: No matching response found with the given nro.\n",
      "it sleeping 2.44 seconds\n"
     ]
    },
    {
     "name": "stderr",
     "output_type": "stream",
     "text": [
      "Loading questions:   7%|▋         | 1300/18033 [52:33<10:10:00,  2.19s/it]"
     ]
    },
    {
     "name": "stdout",
     "output_type": "stream",
     "text": [
      "❌ Not found matching request: No matching response found with the given nro.\n",
      "it sleeping 2.39 seconds\n"
     ]
    },
    {
     "name": "stderr",
     "output_type": "stream",
     "text": [
      "Loading questions:   7%|▋         | 1347/18033 [54:25<11:47:06,  2.54s/it]"
     ]
    },
    {
     "name": "stdout",
     "output_type": "stream",
     "text": [
      "❌ Not found matching request: No matching response found with the given nro.\n",
      "it sleeping 2.99 seconds\n"
     ]
    },
    {
     "name": "stderr",
     "output_type": "stream",
     "text": [
      "Loading questions:   8%|▊         | 1400/18033 [56:35<11:10:15,  2.42s/it]"
     ]
    },
    {
     "name": "stdout",
     "output_type": "stream",
     "text": [
      "Restarting Selenium Wire driver...\n",
      "its done...\n",
      "❌ Not found matching request: No matching response found with the given nro.\n",
      "it sleeping 1.27 seconds\n",
      "❌ Not found matching request: No matching response found with the given nro.\n",
      "it sleeping 2.65 seconds\n",
      "❌ Not found matching request: No matching response found with the given nro.\n",
      "it sleeping 4.27 seconds\n"
     ]
    },
    {
     "name": "stderr",
     "output_type": "stream",
     "text": [
      "Loading questions:   8%|▊         | 1401/18033 [56:54<34:17:15,  7.42s/it]"
     ]
    },
    {
     "name": "stdout",
     "output_type": "stream",
     "text": [
      "❌ Not found matching request: No matching response found with the given nro.\n",
      "it sleeping 1.75 seconds\n"
     ]
    },
    {
     "name": "stderr",
     "output_type": "stream",
     "text": [
      "Loading questions:   8%|▊         | 1432/18033 [57:53<9:03:55,  1.97s/it] "
     ]
    },
    {
     "name": "stdout",
     "output_type": "stream",
     "text": [
      "❌ Not found matching request: No matching response found with the given nro.\n",
      "it sleeping 2.09 seconds\n"
     ]
    },
    {
     "name": "stderr",
     "output_type": "stream",
     "text": [
      "Loading questions:   8%|▊         | 1458/18033 [58:47<9:35:50,  2.08s/it] "
     ]
    },
    {
     "name": "stdout",
     "output_type": "stream",
     "text": [
      "❌ Not found matching request: No matching response found with the given nro.\n",
      "it sleeping 2.30 seconds\n"
     ]
    },
    {
     "name": "stderr",
     "output_type": "stream",
     "text": [
      "Loading questions:   8%|▊         | 1463/18033 [58:59<9:58:11,  2.17s/it] "
     ]
    },
    {
     "name": "stdout",
     "output_type": "stream",
     "text": [
      "❌ Not found matching request: No matching response found with the given nro.\n",
      "it sleeping 2.30 seconds\n"
     ]
    },
    {
     "name": "stderr",
     "output_type": "stream",
     "text": [
      "Loading questions:   8%|▊         | 1526/18033 [1:01:25<11:34:59,  2.53s/it]"
     ]
    },
    {
     "name": "stdout",
     "output_type": "stream",
     "text": [
      "❌ Not found matching request: No matching response found with the given nro.\n",
      "it sleeping 2.72 seconds\n"
     ]
    },
    {
     "name": "stderr",
     "output_type": "stream",
     "text": [
      "Loading questions:   9%|▉         | 1600/18033 [1:04:58<12:46:34,  2.80s/it]"
     ]
    },
    {
     "name": "stdout",
     "output_type": "stream",
     "text": [
      "Restarting Selenium Wire driver...\n",
      "its done...\n",
      "❌ Not found matching request: No matching response found with the given nro.\n",
      "it sleeping 1.79 seconds\n"
     ]
    },
    {
     "name": "stderr",
     "output_type": "stream",
     "text": [
      "Loading questions:   9%|▉         | 1603/18033 [1:05:21<21:57:19,  4.81s/it]"
     ]
    },
    {
     "name": "stdout",
     "output_type": "stream",
     "text": [
      "❌ Not found matching request: No matching response found with the given nro.\n",
      "it sleeping 2.23 seconds\n"
     ]
    },
    {
     "name": "stderr",
     "output_type": "stream",
     "text": [
      "Loading questions:   9%|▉         | 1630/18033 [1:06:15<9:17:11,  2.04s/it] "
     ]
    },
    {
     "name": "stdout",
     "output_type": "stream",
     "text": [
      "❌ Not found matching request: No matching response found with the given nro.\n",
      "it sleeping 2.24 seconds\n"
     ]
    },
    {
     "name": "stderr",
     "output_type": "stream",
     "text": [
      "Loading questions:   9%|▉         | 1635/18033 [1:06:26<9:18:48,  2.04s/it] "
     ]
    },
    {
     "name": "stdout",
     "output_type": "stream",
     "text": [
      "❌ Not found matching request: No matching response found with the given nro.\n",
      "it sleeping 2.24 seconds\n"
     ]
    },
    {
     "name": "stderr",
     "output_type": "stream",
     "text": [
      "Loading questions:   9%|▉         | 1647/18033 [1:06:51<8:59:46,  1.98s/it] "
     ]
    },
    {
     "name": "stdout",
     "output_type": "stream",
     "text": [
      "❌ Not found matching request: No matching response found with the given nro.\n",
      "it sleeping 2.28 seconds\n"
     ]
    },
    {
     "name": "stderr",
     "output_type": "stream",
     "text": [
      "Loading questions:   9%|▉         | 1660/18033 [1:07:19<9:29:47,  2.09s/it] "
     ]
    },
    {
     "name": "stdout",
     "output_type": "stream",
     "text": [
      "❌ Not found matching request: No matching response found with the given nro.\n",
      "it sleeping 2.34 seconds\n"
     ]
    },
    {
     "name": "stderr",
     "output_type": "stream",
     "text": [
      "Loading questions:   9%|▉         | 1673/18033 [1:07:47<9:23:46,  2.07s/it] "
     ]
    },
    {
     "name": "stdout",
     "output_type": "stream",
     "text": [
      "❌ Not found matching request: No matching response found with the given nro.\n",
      "it sleeping 2.31 seconds\n"
     ]
    },
    {
     "name": "stderr",
     "output_type": "stream",
     "text": [
      "Loading questions:   9%|▉         | 1684/18033 [1:08:12<9:42:32,  2.14s/it] "
     ]
    },
    {
     "name": "stdout",
     "output_type": "stream",
     "text": [
      "❌ Not found matching request: No matching response found with the given nro.\n",
      "it sleeping 2.39 seconds\n"
     ]
    },
    {
     "name": "stderr",
     "output_type": "stream",
     "text": [
      "Loading questions:   9%|▉         | 1713/18033 [1:09:21<10:52:12,  2.40s/it]"
     ]
    },
    {
     "name": "stdout",
     "output_type": "stream",
     "text": [
      "❌ Not found matching request: No matching response found with the given nro.\n",
      "it sleeping 2.46 seconds\n"
     ]
    },
    {
     "name": "stderr",
     "output_type": "stream",
     "text": [
      "Loading questions:  10%|▉         | 1717/18033 [1:09:32<11:16:26,  2.49s/it]"
     ]
    },
    {
     "name": "stdout",
     "output_type": "stream",
     "text": [
      "❌ Not found matching request: No matching response found with the given nro.\n",
      "it sleeping 2.78 seconds\n"
     ]
    },
    {
     "name": "stderr",
     "output_type": "stream",
     "text": [
      "Loading questions:  10%|▉         | 1738/18033 [1:10:26<11:36:00,  2.56s/it]"
     ]
    },
    {
     "name": "stdout",
     "output_type": "stream",
     "text": [
      "❌ Not found matching request: No matching response found with the given nro.\n",
      "it sleeping 2.75 seconds\n"
     ]
    },
    {
     "name": "stderr",
     "output_type": "stream",
     "text": [
      "Loading questions:  10%|▉         | 1742/18033 [1:10:38<12:13:09,  2.70s/it]"
     ]
    },
    {
     "name": "stdout",
     "output_type": "stream",
     "text": [
      "❌ Not found matching request: No matching response found with the given nro.\n",
      "it sleeping 2.78 seconds\n"
     ]
    },
    {
     "name": "stderr",
     "output_type": "stream",
     "text": [
      "Loading questions:  10%|▉         | 1791/18033 [1:12:56<12:41:32,  2.81s/it]"
     ]
    },
    {
     "name": "stdout",
     "output_type": "stream",
     "text": [
      "❌ Not found matching request: No matching response found with the given nro.\n",
      "it sleeping 3.35 seconds\n"
     ]
    },
    {
     "name": "stderr",
     "output_type": "stream",
     "text": [
      "Loading questions:  10%|▉         | 1800/18033 [1:13:26<14:05:40,  3.13s/it]"
     ]
    },
    {
     "name": "stdout",
     "output_type": "stream",
     "text": [
      "Restarting Selenium Wire driver...\n",
      "its done...\n",
      "❌ Not found matching request: No matching response found with the given nro.\n",
      "it sleeping 1.28 seconds\n",
      "❌ Not found matching request: No matching response found with the given nro.\n",
      "it sleeping 3.08 seconds\n",
      "❌ Not found matching request: No matching response found with the given nro.\n",
      "it sleeping 4.70 seconds\n"
     ]
    },
    {
     "name": "stderr",
     "output_type": "stream",
     "text": [
      "Loading questions:  10%|▉         | 1801/18033 [1:13:46<36:25:10,  8.08s/it]"
     ]
    },
    {
     "name": "stdout",
     "output_type": "stream",
     "text": [
      "❌ Not found matching request: No matching response found with the given nro.\n",
      "❌ Error for nro: 623134287 — Timed out waiting for 'qa.get.json'\n",
      "❌ Not found matching request: No matching response found with the given nro.\n",
      "it sleeping 1.14 seconds\n",
      "❌ Not found matching request: No matching response found with the given nro.\n",
      "it sleeping 2.96 seconds\n",
      "❌ Not found matching request: No matching response found with the given nro.\n",
      "it sleeping 4.47 seconds\n",
      "❌ Not found matching request: No matching response found with the given nro.\n"
     ]
    },
    {
     "name": "stderr",
     "output_type": "stream",
     "text": [
      "Loading questions:  10%|▉         | 1802/18033 [1:13:52<33:16:10,  7.38s/it]"
     ]
    },
    {
     "name": "stdout",
     "output_type": "stream",
     "text": [
      "it sleeping 5.51 seconds\n",
      "❌ Not found matching request: No matching response found with the given nro.\n",
      "❌ Error for nro: 623131699 — Timed out waiting for 'qa.get.json'\n",
      "❌ Not found matching request: No matching response found with the given nro.\n",
      "it sleeping 1.21 seconds\n",
      "❌ Not found matching request: No matching response found with the given nro.\n",
      "it sleeping 2.77 seconds\n"
     ]
    },
    {
     "name": "stderr",
     "output_type": "stream",
     "text": [
      "Loading questions:  10%|▉         | 1803/18033 [1:13:58<31:31:28,  6.99s/it]"
     ]
    },
    {
     "name": "stdout",
     "output_type": "stream",
     "text": [
      "❌ Not found matching request: No matching response found with the given nro.\n",
      "it sleeping 2.58 seconds\n"
     ]
    },
    {
     "name": "stderr",
     "output_type": "stream",
     "text": [
      "Loading questions:  10%|█         | 1822/18033 [1:14:36<8:48:17,  1.96s/it] "
     ]
    },
    {
     "name": "stdout",
     "output_type": "stream",
     "text": [
      "❌ Not found matching request: No matching response found with the given nro.\n",
      "it sleeping 2.42 seconds\n"
     ]
    },
    {
     "name": "stderr",
     "output_type": "stream",
     "text": [
      "Loading questions:  10%|█         | 1845/18033 [1:15:27<9:22:21,  2.08s/it] "
     ]
    },
    {
     "name": "stdout",
     "output_type": "stream",
     "text": [
      "❌ Not found matching request: No matching response found with the given nro.\n",
      "it sleeping 2.36 seconds\n"
     ]
    },
    {
     "name": "stderr",
     "output_type": "stream",
     "text": [
      "Loading questions:  10%|█         | 1850/18033 [1:15:39<9:49:16,  2.18s/it] "
     ]
    },
    {
     "name": "stdout",
     "output_type": "stream",
     "text": [
      "❌ Not found matching request: No matching response found with the given nro.\n",
      "it sleeping 2.45 seconds\n"
     ]
    },
    {
     "name": "stderr",
     "output_type": "stream",
     "text": [
      "Loading questions:  10%|█         | 1868/18033 [1:16:22<10:03:52,  2.24s/it]"
     ]
    },
    {
     "name": "stdout",
     "output_type": "stream",
     "text": [
      "❌ Not found matching request: No matching response found with the given nro.\n",
      "it sleeping 2.31 seconds\n"
     ]
    },
    {
     "name": "stderr",
     "output_type": "stream",
     "text": [
      "Loading questions:  11%|█         | 1925/18033 [1:19:05<14:18:15,  3.20s/it]"
     ]
    },
    {
     "name": "stdout",
     "output_type": "stream",
     "text": [
      "❌ Not found matching request: No matching response found with the given nro.\n",
      "it sleeping 3.23 seconds\n"
     ]
    },
    {
     "name": "stderr",
     "output_type": "stream",
     "text": [
      "Loading questions:  11%|█         | 1932/18033 [1:19:31<16:21:01,  3.66s/it]"
     ]
    },
    {
     "name": "stdout",
     "output_type": "stream",
     "text": [
      "❌ Not found matching request: No matching response found with the given nro.\n",
      "it sleeping 3.75 seconds\n"
     ]
    },
    {
     "name": "stderr",
     "output_type": "stream",
     "text": [
      "Loading questions:  11%|█         | 1940/18033 [1:20:00<15:02:11,  3.36s/it]"
     ]
    },
    {
     "name": "stdout",
     "output_type": "stream",
     "text": [
      "❌ Not found matching request: No matching response found with the given nro.\n",
      "it sleeping 3.24 seconds\n"
     ]
    },
    {
     "name": "stderr",
     "output_type": "stream",
     "text": [
      "Loading questions:  11%|█         | 1949/18033 [1:20:31<14:37:32,  3.27s/it]"
     ]
    },
    {
     "name": "stdout",
     "output_type": "stream",
     "text": [
      "❌ Not found matching request: No matching response found with the given nro.\n",
      "it sleeping 3.32 seconds\n"
     ]
    },
    {
     "name": "stderr",
     "output_type": "stream",
     "text": [
      "Loading questions:  11%|█         | 1952/18033 [1:20:43<16:14:36,  3.64s/it]"
     ]
    },
    {
     "name": "stdout",
     "output_type": "stream",
     "text": [
      "❌ Not found matching request: No matching response found with the given nro.\n",
      "it sleeping 3.59 seconds\n"
     ]
    },
    {
     "name": "stderr",
     "output_type": "stream",
     "text": [
      "Loading questions:  11%|█         | 1955/18033 [1:20:55<16:10:11,  3.62s/it]"
     ]
    },
    {
     "name": "stdout",
     "output_type": "stream",
     "text": [
      "❌ Not found matching request: No matching response found with the given nro.\n",
      "it sleeping 3.46 seconds\n"
     ]
    },
    {
     "name": "stderr",
     "output_type": "stream",
     "text": [
      "Loading questions:  11%|█         | 1966/18033 [1:21:34<15:13:06,  3.41s/it]"
     ]
    },
    {
     "name": "stdout",
     "output_type": "stream",
     "text": [
      "❌ Not found matching request: No matching response found with the given nro.\n",
      "it sleeping 3.40 seconds\n"
     ]
    },
    {
     "name": "stderr",
     "output_type": "stream",
     "text": [
      "Loading questions:  11%|█         | 1969/18033 [1:21:46<16:08:23,  3.62s/it]"
     ]
    },
    {
     "name": "stdout",
     "output_type": "stream",
     "text": [
      "❌ Not found matching request: No matching response found with the given nro.\n",
      "it sleeping 3.48 seconds\n"
     ]
    },
    {
     "name": "stderr",
     "output_type": "stream",
     "text": [
      "Loading questions:  11%|█         | 1984/18033 [1:22:42<15:15:19,  3.42s/it]"
     ]
    },
    {
     "name": "stdout",
     "output_type": "stream",
     "text": [
      "❌ Not found matching request: No matching response found with the given nro.\n",
      "it sleeping 3.34 seconds\n"
     ]
    },
    {
     "name": "stderr",
     "output_type": "stream",
     "text": [
      "Loading questions:  11%|█         | 2000/18033 [1:23:40<15:46:26,  3.54s/it]"
     ]
    },
    {
     "name": "stdout",
     "output_type": "stream",
     "text": [
      "Restarting Selenium Wire driver...\n",
      "its done...\n",
      "❌ Not found matching request: No matching response found with the given nro.\n",
      "it sleeping 1.28 seconds\n",
      "❌ Not found matching request: No matching response found with the given nro.\n",
      "it sleeping 2.52 seconds\n",
      "❌ Not found matching request: No matching response found with the given nro.\n",
      "it sleeping 4.14 seconds\n"
     ]
    },
    {
     "name": "stderr",
     "output_type": "stream",
     "text": [
      "Loading questions:  11%|█         | 2001/18033 [1:24:00<38:40:17,  8.68s/it]"
     ]
    },
    {
     "name": "stdout",
     "output_type": "stream",
     "text": [
      "❌ Not found matching request: No matching response found with the given nro.\n",
      "it sleeping 2.18 seconds\n"
     ]
    },
    {
     "name": "stderr",
     "output_type": "stream",
     "text": [
      "Loading questions:  11%|█         | 2024/18033 [1:24:50<9:28:49,  2.13s/it] "
     ]
    },
    {
     "name": "stdout",
     "output_type": "stream",
     "text": [
      "❌ Not found matching request: No matching response found with the given nro.\n",
      "it sleeping 2.49 seconds\n"
     ]
    },
    {
     "name": "stderr",
     "output_type": "stream",
     "text": [
      "Loading questions:  11%|█         | 2028/18033 [1:25:00<10:17:33,  2.32s/it]"
     ]
    },
    {
     "name": "stdout",
     "output_type": "stream",
     "text": [
      "❌ Not found matching request: No matching response found with the given nro.\n",
      "it sleeping 2.40 seconds\n"
     ]
    },
    {
     "name": "stderr",
     "output_type": "stream",
     "text": [
      "Loading questions:  11%|█▏        | 2032/18033 [1:25:10<10:26:06,  2.35s/it]"
     ]
    },
    {
     "name": "stdout",
     "output_type": "stream",
     "text": [
      "❌ Not found matching request: No matching response found with the given nro.\n",
      "it sleeping 2.53 seconds\n"
     ]
    },
    {
     "name": "stderr",
     "output_type": "stream",
     "text": [
      "Loading questions:  12%|█▏        | 2076/18033 [1:26:57<11:20:04,  2.56s/it]"
     ]
    },
    {
     "name": "stdout",
     "output_type": "stream",
     "text": [
      "❌ Not found matching request: No matching response found with the given nro.\n",
      "it sleeping 2.81 seconds\n"
     ]
    },
    {
     "name": "stderr",
     "output_type": "stream",
     "text": [
      "Loading questions:  12%|█▏        | 2106/18033 [1:28:27<11:55:32,  2.70s/it]"
     ]
    },
    {
     "name": "stdout",
     "output_type": "stream",
     "text": [
      "❌ Not found matching request: No matching response found with the given nro.\n",
      "it sleeping 2.88 seconds\n"
     ]
    },
    {
     "name": "stderr",
     "output_type": "stream",
     "text": [
      "Loading questions:  12%|█▏        | 2109/18033 [1:28:37<13:02:30,  2.95s/it]"
     ]
    },
    {
     "name": "stdout",
     "output_type": "stream",
     "text": [
      "❌ Not found matching request: No matching response found with the given nro.\n",
      "it sleeping 2.88 seconds\n"
     ]
    },
    {
     "name": "stderr",
     "output_type": "stream",
     "text": [
      "Loading questions:  12%|█▏        | 2118/18033 [1:29:04<12:41:24,  2.87s/it]"
     ]
    },
    {
     "name": "stdout",
     "output_type": "stream",
     "text": [
      "❌ Not found matching request: No matching response found with the given nro.\n",
      "it sleeping 3.04 seconds\n"
     ]
    },
    {
     "name": "stderr",
     "output_type": "stream",
     "text": [
      "Loading questions:  12%|█▏        | 2119/18033 [1:29:09<15:37:39,  3.54s/it]"
     ]
    },
    {
     "name": "stdout",
     "output_type": "stream",
     "text": [
      "❌ Not found matching request: No matching response found with the given nro.\n",
      "it sleeping 2.57 seconds\n"
     ]
    },
    {
     "name": "stderr",
     "output_type": "stream",
     "text": [
      "Loading questions:  12%|█▏        | 2125/18033 [1:29:28<13:36:26,  3.08s/it]"
     ]
    },
    {
     "name": "stdout",
     "output_type": "stream",
     "text": [
      "❌ Not found matching request: No matching response found with the given nro.\n",
      "it sleeping 3.11 seconds\n"
     ]
    },
    {
     "name": "stderr",
     "output_type": "stream",
     "text": [
      "Loading questions:  12%|█▏        | 2126/18033 [1:29:33<16:12:24,  3.67s/it]"
     ]
    },
    {
     "name": "stdout",
     "output_type": "stream",
     "text": [
      "❌ Not found matching request: No matching response found with the given nro.\n",
      "it sleeping 2.81 seconds\n"
     ]
    },
    {
     "name": "stderr",
     "output_type": "stream",
     "text": [
      "Loading questions:  12%|█▏        | 2143/18033 [1:30:25<13:20:20,  3.02s/it]"
     ]
    },
    {
     "name": "stdout",
     "output_type": "stream",
     "text": [
      "❌ Not found matching request: No matching response found with the given nro.\n",
      "it sleeping 3.16 seconds\n"
     ]
    },
    {
     "name": "stderr",
     "output_type": "stream",
     "text": [
      "Loading questions:  12%|█▏        | 2161/18033 [1:31:23<14:05:35,  3.20s/it]"
     ]
    },
    {
     "name": "stdout",
     "output_type": "stream",
     "text": [
      "❌ Not found matching request: No matching response found with the given nro.\n",
      "it sleeping 3.83 seconds\n"
     ]
    },
    {
     "name": "stderr",
     "output_type": "stream",
     "text": [
      "Loading questions:  12%|█▏        | 2176/18033 [1:32:17<15:57:53,  3.62s/it]"
     ]
    },
    {
     "name": "stdout",
     "output_type": "stream",
     "text": [
      "❌ Not found matching request: No matching response found with the given nro.\n",
      "it sleeping 3.76 seconds\n"
     ]
    },
    {
     "name": "stderr",
     "output_type": "stream",
     "text": [
      "Loading questions:  12%|█▏        | 2188/18033 [1:33:04<15:59:55,  3.63s/it]"
     ]
    },
    {
     "name": "stdout",
     "output_type": "stream",
     "text": [
      "❌ Not found matching request: No matching response found with the given nro.\n",
      "it sleeping 3.89 seconds\n"
     ]
    },
    {
     "name": "stderr",
     "output_type": "stream",
     "text": [
      "Loading questions:  12%|█▏        | 2200/18033 [1:33:52<16:21:05,  3.72s/it]"
     ]
    },
    {
     "name": "stdout",
     "output_type": "stream",
     "text": [
      "Restarting Selenium Wire driver...\n",
      "its done...\n",
      "❌ Not found matching request: No matching response found with the given nro.\n",
      "it sleeping 1.34 seconds\n",
      "❌ Not found matching request: No matching response found with the given nro.\n",
      "it sleeping 2.70 seconds\n",
      "❌ Not found matching request: No matching response found with the given nro.\n",
      "it sleeping 4.34 seconds\n"
     ]
    },
    {
     "name": "stderr",
     "output_type": "stream",
     "text": [
      "Loading questions:  12%|█▏        | 2201/18033 [1:34:13<39:22:52,  8.95s/it]"
     ]
    },
    {
     "name": "stdout",
     "output_type": "stream",
     "text": [
      "❌ Not found matching request: No matching response found with the given nro.\n",
      "it sleeping 1.91 seconds\n"
     ]
    },
    {
     "name": "stderr",
     "output_type": "stream",
     "text": [
      "Loading questions:  12%|█▏        | 2202/18033 [1:34:16<32:02:41,  7.29s/it]"
     ]
    },
    {
     "name": "stdout",
     "output_type": "stream",
     "text": [
      "❌ Not found matching request: No matching response found with the given nro.\n",
      "it sleeping 1.94 seconds\n"
     ]
    },
    {
     "name": "stderr",
     "output_type": "stream",
     "text": [
      "Loading questions:  12%|█▏        | 2221/18033 [1:35:01<10:22:13,  2.36s/it]"
     ]
    },
    {
     "name": "stdout",
     "output_type": "stream",
     "text": [
      "❌ Not found matching request: No matching response found with the given nro.\n",
      "it sleeping 2.45 seconds\n"
     ]
    },
    {
     "name": "stderr",
     "output_type": "stream",
     "text": [
      "Loading questions:  12%|█▏        | 2223/18033 [1:35:06<10:46:54,  2.46s/it]"
     ]
    },
    {
     "name": "stdout",
     "output_type": "stream",
     "text": [
      "❌ Not found matching request: No matching response found with the given nro.\n",
      "it sleeping 2.40 seconds\n"
     ]
    },
    {
     "name": "stderr",
     "output_type": "stream",
     "text": [
      "Loading questions:  12%|█▏        | 2225/18033 [1:35:12<11:24:28,  2.60s/it]"
     ]
    },
    {
     "name": "stdout",
     "output_type": "stream",
     "text": [
      "❌ Not found matching request: No matching response found with the given nro.\n",
      "it sleeping 2.42 seconds\n"
     ]
    },
    {
     "name": "stderr",
     "output_type": "stream",
     "text": [
      "Loading questions:  12%|█▏        | 2228/18033 [1:35:21<11:26:56,  2.61s/it]"
     ]
    },
    {
     "name": "stdout",
     "output_type": "stream",
     "text": [
      "❌ Not found matching request: No matching response found with the given nro.\n",
      "it sleeping 2.47 seconds\n"
     ]
    },
    {
     "name": "stderr",
     "output_type": "stream",
     "text": [
      "Loading questions:  12%|█▏        | 2236/18033 [1:35:39<9:43:43,  2.22s/it] "
     ]
    },
    {
     "name": "stdout",
     "output_type": "stream",
     "text": [
      "❌ Not found matching request: No matching response found with the given nro.\n",
      "it sleeping 2.33 seconds\n"
     ]
    },
    {
     "name": "stderr",
     "output_type": "stream",
     "text": [
      "Loading questions:  13%|█▎        | 2356/18033 [1:40:58<13:16:15,  3.05s/it]"
     ]
    },
    {
     "name": "stdout",
     "output_type": "stream",
     "text": [
      "❌ Not found matching request: No matching response found with the given nro.\n",
      "it sleeping 3.30 seconds\n"
     ]
    },
    {
     "name": "stderr",
     "output_type": "stream",
     "text": [
      "Loading questions:  13%|█▎        | 2369/18033 [1:41:41<13:45:15,  3.16s/it]"
     ]
    },
    {
     "name": "stdout",
     "output_type": "stream",
     "text": [
      "❌ Not found matching request: No matching response found with the given nro.\n",
      "it sleeping 3.56 seconds\n"
     ]
    },
    {
     "name": "stderr",
     "output_type": "stream",
     "text": [
      "Loading questions:  13%|█▎        | 2372/18033 [1:41:53<15:15:28,  3.51s/it]"
     ]
    },
    {
     "name": "stdout",
     "output_type": "stream",
     "text": [
      "❌ Not found matching request: No matching response found with the given nro.\n",
      "it sleeping 3.26 seconds\n"
     ]
    },
    {
     "name": "stderr",
     "output_type": "stream",
     "text": [
      "Loading questions:  13%|█▎        | 2375/18033 [1:42:05<15:39:25,  3.60s/it]"
     ]
    },
    {
     "name": "stdout",
     "output_type": "stream",
     "text": [
      "❌ Not found matching request: No matching response found with the given nro.\n",
      "it sleeping 3.41 seconds\n"
     ]
    },
    {
     "name": "stderr",
     "output_type": "stream",
     "text": [
      "Loading questions:  13%|█▎        | 2377/18033 [1:42:13<16:33:42,  3.81s/it]"
     ]
    },
    {
     "name": "stdout",
     "output_type": "stream",
     "text": [
      "❌ Not found matching request: No matching response found with the given nro.\n",
      "it sleeping 3.64 seconds\n"
     ]
    },
    {
     "name": "stderr",
     "output_type": "stream",
     "text": [
      "Loading questions:  13%|█▎        | 2383/18033 [1:42:36<15:22:31,  3.54s/it]"
     ]
    },
    {
     "name": "stdout",
     "output_type": "stream",
     "text": [
      "❌ Not found matching request: No matching response found with the given nro.\n",
      "it sleeping 3.36 seconds\n"
     ]
    },
    {
     "name": "stderr",
     "output_type": "stream",
     "text": [
      "Loading questions:  13%|█▎        | 2389/18033 [1:42:58<14:58:45,  3.45s/it]"
     ]
    },
    {
     "name": "stdout",
     "output_type": "stream",
     "text": [
      "❌ Not found matching request: No matching response found with the given nro.\n",
      "it sleeping 3.44 seconds\n"
     ]
    },
    {
     "name": "stderr",
     "output_type": "stream",
     "text": [
      "Loading questions:  13%|█▎        | 2391/18033 [1:43:07<16:24:38,  3.78s/it]"
     ]
    },
    {
     "name": "stdout",
     "output_type": "stream",
     "text": [
      "❌ Not found matching request: No matching response found with the given nro.\n",
      "it sleeping 3.41 seconds\n"
     ]
    },
    {
     "name": "stderr",
     "output_type": "stream",
     "text": [
      "Loading questions:  13%|█▎        | 2397/18033 [1:43:29<15:16:40,  3.52s/it]"
     ]
    },
    {
     "name": "stdout",
     "output_type": "stream",
     "text": [
      "❌ Not found matching request: No matching response found with the given nro.\n",
      "it sleeping 3.80 seconds\n"
     ]
    },
    {
     "name": "stderr",
     "output_type": "stream",
     "text": [
      "Loading questions:  13%|█▎        | 2400/18033 [1:43:42<16:30:03,  3.80s/it]"
     ]
    },
    {
     "name": "stdout",
     "output_type": "stream",
     "text": [
      "Restarting Selenium Wire driver...\n",
      "its done...\n",
      "❌ Not found matching request: No matching response found with the given nro.\n",
      "it sleeping 1.28 seconds\n",
      "❌ Not found matching request: No matching response found with the given nro.\n",
      "it sleeping 2.56 seconds\n",
      "❌ Not found matching request: No matching response found with the given nro.\n",
      "it sleeping 4.37 seconds\n"
     ]
    },
    {
     "name": "stderr",
     "output_type": "stream",
     "text": [
      "Loading questions:  13%|█▎        | 2401/18033 [1:44:03<38:25:12,  8.85s/it]"
     ]
    },
    {
     "name": "stdout",
     "output_type": "stream",
     "text": [
      "❌ Not found matching request: No matching response found with the given nro.\n",
      "it sleeping 2.01 seconds\n"
     ]
    },
    {
     "name": "stderr",
     "output_type": "stream",
     "text": [
      "Loading questions:  13%|█▎        | 2412/18033 [1:44:26<9:46:34,  2.25s/it] "
     ]
    },
    {
     "name": "stdout",
     "output_type": "stream",
     "text": [
      "❌ Not found matching request: No matching response found with the given nro.\n",
      "it sleeping 2.19 seconds\n"
     ]
    },
    {
     "name": "stderr",
     "output_type": "stream",
     "text": [
      "Loading questions:  13%|█▎        | 2422/18033 [1:44:49<9:15:32,  2.14s/it] "
     ]
    },
    {
     "name": "stdout",
     "output_type": "stream",
     "text": [
      "❌ Not found matching request: No matching response found with the given nro.\n",
      "it sleeping 2.28 seconds\n"
     ]
    },
    {
     "name": "stderr",
     "output_type": "stream",
     "text": [
      "Loading questions:  13%|█▎        | 2424/18033 [1:44:54<10:33:18,  2.43s/it]"
     ]
    },
    {
     "name": "stdout",
     "output_type": "stream",
     "text": [
      "❌ Not found matching request: No matching response found with the given nro.\n",
      "it sleeping 2.43 seconds\n"
     ]
    },
    {
     "name": "stderr",
     "output_type": "stream",
     "text": [
      "Loading questions:  14%|█▎        | 2443/18033 [1:45:37<9:38:07,  2.22s/it] "
     ]
    },
    {
     "name": "stdout",
     "output_type": "stream",
     "text": [
      "❌ Not found matching request: No matching response found with the given nro.\n",
      "it sleeping 2.59 seconds\n"
     ]
    },
    {
     "name": "stderr",
     "output_type": "stream",
     "text": [
      "Loading questions:  14%|█▎        | 2478/18033 [1:47:03<10:52:55,  2.52s/it]"
     ]
    },
    {
     "name": "stdout",
     "output_type": "stream",
     "text": [
      "❌ Not found matching request: No matching response found with the given nro.\n",
      "it sleeping 2.71 seconds\n"
     ]
    },
    {
     "name": "stderr",
     "output_type": "stream",
     "text": [
      "Loading questions:  14%|█▍        | 2490/18033 [1:47:35<11:01:04,  2.55s/it]"
     ]
    },
    {
     "name": "stdout",
     "output_type": "stream",
     "text": [
      "❌ Not found matching request: No matching response found with the given nro.\n",
      "it sleeping 2.78 seconds\n"
     ]
    },
    {
     "name": "stderr",
     "output_type": "stream",
     "text": [
      "Loading questions:  14%|█▍        | 2501/18033 [1:48:06<11:28:24,  2.66s/it]"
     ]
    },
    {
     "name": "stdout",
     "output_type": "stream",
     "text": [
      "❌ Not found matching request: No matching response found with the given nro.\n",
      "it sleeping 2.92 seconds\n"
     ]
    },
    {
     "name": "stderr",
     "output_type": "stream",
     "text": [
      "Loading questions:  14%|█▍        | 2529/18033 [1:49:25<12:12:20,  2.83s/it]"
     ]
    },
    {
     "name": "stdout",
     "output_type": "stream",
     "text": [
      "❌ Not found matching request: No matching response found with the given nro.\n",
      "it sleeping 3.10 seconds\n"
     ]
    },
    {
     "name": "stderr",
     "output_type": "stream",
     "text": [
      "Loading questions:  14%|█▍        | 2530/18033 [1:49:30<15:04:06,  3.50s/it]"
     ]
    },
    {
     "name": "stdout",
     "output_type": "stream",
     "text": [
      "❌ Not found matching request: No matching response found with the given nro.\n",
      "it sleeping 2.82 seconds\n"
     ]
    },
    {
     "name": "stderr",
     "output_type": "stream",
     "text": [
      "Loading questions:  14%|█▍        | 2537/18033 [1:49:53<13:16:44,  3.08s/it]"
     ]
    },
    {
     "name": "stdout",
     "output_type": "stream",
     "text": [
      "❌ Not found matching request: No matching response found with the given nro.\n",
      "it sleeping 3.21 seconds\n"
     ]
    },
    {
     "name": "stderr",
     "output_type": "stream",
     "text": [
      "Loading questions:  14%|█▍        | 2544/18033 [1:50:16<13:38:06,  3.17s/it]"
     ]
    },
    {
     "name": "stdout",
     "output_type": "stream",
     "text": [
      "❌ Not found matching request: No matching response found with the given nro.\n",
      "it sleeping 3.53 seconds\n"
     ]
    },
    {
     "name": "stderr",
     "output_type": "stream",
     "text": [
      "Loading questions:  14%|█▍        | 2557/18033 [1:50:59<14:00:41,  3.26s/it]"
     ]
    },
    {
     "name": "stdout",
     "output_type": "stream",
     "text": [
      "❌ Not found matching request: No matching response found with the given nro.\n",
      "it sleeping 3.74 seconds\n"
     ]
    },
    {
     "name": "stderr",
     "output_type": "stream",
     "text": [
      "Loading questions:  14%|█▍        | 2563/18033 [1:51:22<15:18:25,  3.56s/it]"
     ]
    },
    {
     "name": "stdout",
     "output_type": "stream",
     "text": [
      "❌ Not found matching request: No matching response found with the given nro.\n",
      "it sleeping 4.37 seconds\n"
     ]
    },
    {
     "name": "stderr",
     "output_type": "stream",
     "text": [
      "Loading questions:  14%|█▍        | 2567/18033 [1:51:40<17:00:07,  3.96s/it]"
     ]
    },
    {
     "name": "stdout",
     "output_type": "stream",
     "text": [
      "❌ Not found matching request: No matching response found with the given nro.\n",
      "it sleeping 3.62 seconds\n"
     ]
    },
    {
     "name": "stderr",
     "output_type": "stream",
     "text": [
      "Loading questions:  14%|█▍        | 2577/18033 [1:52:17<14:47:12,  3.44s/it]"
     ]
    },
    {
     "name": "stdout",
     "output_type": "stream",
     "text": [
      "❌ Not found matching request: No matching response found with the given nro.\n",
      "it sleeping 3.93 seconds\n"
     ]
    },
    {
     "name": "stderr",
     "output_type": "stream",
     "text": [
      "Loading questions:  14%|█▍        | 2582/18033 [1:52:37<16:03:33,  3.74s/it]"
     ]
    },
    {
     "name": "stdout",
     "output_type": "stream",
     "text": [
      "❌ Not found matching request: No matching response found with the given nro.\n",
      "it sleeping 3.76 seconds\n"
     ]
    },
    {
     "name": "stderr",
     "output_type": "stream",
     "text": [
      "Loading questions:  14%|█▍        | 2585/18033 [1:52:50<16:35:19,  3.87s/it]"
     ]
    },
    {
     "name": "stdout",
     "output_type": "stream",
     "text": [
      "❌ Not found matching request: No matching response found with the given nro.\n",
      "it sleeping 3.39 seconds\n"
     ]
    },
    {
     "name": "stderr",
     "output_type": "stream",
     "text": [
      "Loading questions:  14%|█▍        | 2591/18033 [1:53:12<15:07:45,  3.53s/it]"
     ]
    },
    {
     "name": "stdout",
     "output_type": "stream",
     "text": [
      "❌ Not found matching request: No matching response found with the given nro.\n",
      "it sleeping 3.54 seconds\n"
     ]
    },
    {
     "name": "stderr",
     "output_type": "stream",
     "text": [
      "Loading questions:  14%|█▍        | 2600/18033 [1:53:45<14:47:00,  3.45s/it]"
     ]
    },
    {
     "name": "stdout",
     "output_type": "stream",
     "text": [
      "Restarting Selenium Wire driver...\n",
      "its done...\n",
      "❌ Not found matching request: No matching response found with the given nro.\n",
      "it sleeping 1.25 seconds\n",
      "❌ Not found matching request: No matching response found with the given nro.\n",
      "it sleeping 2.69 seconds\n",
      "❌ Not found matching request: No matching response found with the given nro.\n",
      "it sleeping 4.50 seconds\n"
     ]
    },
    {
     "name": "stderr",
     "output_type": "stream",
     "text": [
      "Loading questions:  14%|█▍        | 2601/18033 [1:54:05<36:31:49,  8.52s/it]"
     ]
    },
    {
     "name": "stdout",
     "output_type": "stream",
     "text": [
      "❌ Not found matching request: No matching response found with the given nro.\n",
      "it sleeping 1.94 seconds\n"
     ]
    },
    {
     "name": "stderr",
     "output_type": "stream",
     "text": [
      "Loading questions:  15%|█▍        | 2648/18033 [1:55:32<7:47:09,  1.82s/it] "
     ]
    }
   ],
   "source": [
    "\n",
    "from tqdm import tqdm\n",
    "import time\n",
    "start_time = time.time()\n",
    "request_counter = 0\n",
    "for question in tqdm(questions_to_process, desc=\"Loading questions\"):\n",
    "    if request_counter >= 200:\n",
    "        print(\"Restarting Selenium Wire driver...\")\n",
    "        try:\n",
    "            driver.quit()\n",
    "            print(\"its done...\")\n",
    "        except Exception:\n",
    "            pass  # in case it's already closed\n",
    "        time.sleep(2)\n",
    "        driver = create_driver()\n",
    "        time.sleep(5)\n",
    "        request_counter = 0\n",
    "    request_counter+=1\n",
    "    driver.get(f'https://sip.lex.pl/#/question-and-answer/{question.nro}')\n",
    "    try:\n",
    "        try:\n",
    "            question_request = get_response_for_question(question.nro)\n",
    "        except TimeoutError as e:\n",
    "            raise e\n",
    "        w = datetime.fromtimestamp(question_request['answerDate'] / 1000)\n",
    "\n",
    "        questions_with_html = QuestionWithHtml(\n",
    "            nro=question_request['nro'],\n",
    "            title=question_request['title'],\n",
    "            question_content=question_request['questionContent'],\n",
    "            answer_content=question_request['answerContent'],\n",
    "            create_date=datetime.fromtimestamp(question_request['answerDate'] / 1000)\n",
    "        )\n",
    "\n",
    "        get_mongodb_collection(\n",
    "            db_name=\"scraping_lex\",\n",
    "            collection_name=\"questions_with_html\"\n",
    "        ).insert_one(questions_with_html.to_dict())\n",
    "    except Exception as e:\n",
    "        print(f\"❌ Error for nro: {question.nro} — {str(e)}\")\n",
    "        errors.append({\n",
    "            \"nro\": question.nro,\n",
    "            \"error\": str(e)\n",
    "        })\n",
    "        continue\n",
    "\n",
    "print(f\"⏱️ Done in {time.time() - start_time:.2f} seconds.\")"
   ],
   "metadata": {
    "collapsed": false,
    "pycharm": {
     "is_executing": true
    }
   }
  },
  {
   "cell_type": "code",
   "execution_count": 10,
   "outputs": [],
   "source": [
    "from datetime import datetime, timedelta\n",
    "from dateutil.relativedelta import relativedelta\n",
    "\n",
    "\n",
    "def generate_month_ranges(start_date: str, end_date: str):\n",
    "    \"\"\"Yield pairs of (from_date, to_date) for each month.\"\"\"\n",
    "    current = datetime.strptime(start_date, \"%Y-%m-%d\")\n",
    "    end = datetime.strptime(end_date, \"%Y-%m-%d\")\n",
    "\n",
    "    while current < end:\n",
    "        from_date = current.strftime(\"%Y-%m-%d\")\n",
    "        to_date = (current + relativedelta(months=1) - timedelta(days=1)).strftime(\"%Y-%m-%d\")\n",
    "        yield from_date, to_date\n",
    "        current += relativedelta(months=1)\n"
   ],
   "metadata": {
    "collapsed": false,
    "ExecuteTime": {
     "start_time": "2025-07-28T12:09:02.113215Z",
     "end_time": "2025-07-28T12:09:02.158654Z"
    }
   }
  },
  {
   "cell_type": "code",
   "execution_count": 11,
   "outputs": [
    {
     "name": "stdout",
     "output_type": "stream",
     "text": [
      "🗓️ Processing: 2022-07-01 → 2022-07-31\n",
      "🗓️ Processing: 2022-08-01 → 2022-08-31\n",
      "🗓️ Processing: 2022-09-01 → 2022-09-30\n",
      "🗓️ Processing: 2022-10-01 → 2022-10-31\n",
      "🗓️ Processing: 2022-11-01 → 2022-11-30\n",
      "🗓️ Processing: 2022-12-01 → 2022-12-31\n",
      "🗓️ Processing: 2023-01-01 → 2023-01-31\n",
      "🗓️ Processing: 2023-02-01 → 2023-02-28\n",
      "🗓️ Processing: 2023-03-01 → 2023-03-31\n",
      "🗓️ Processing: 2023-04-01 → 2023-04-30\n",
      "🗓️ Processing: 2023-05-01 → 2023-05-31\n",
      "🗓️ Processing: 2023-06-01 → 2023-06-30\n",
      "🗓️ Processing: 2023-07-01 → 2023-07-31\n",
      "🗓️ Processing: 2023-08-01 → 2023-08-31\n",
      "🗓️ Processing: 2023-09-01 → 2023-09-30\n",
      "🗓️ Processing: 2023-10-01 → 2023-10-31\n",
      "🗓️ Processing: 2023-11-01 → 2023-11-30\n"
     ]
    }
   ],
   "source": [
    "\n",
    "\n",
    "for from_date, to_date in generate_month_ranges(\"2022-07-01\", \"2023-12-01\"):\n",
    "    print(\"🗓️ Processing:\", from_date, \"→\", to_date)"
   ],
   "metadata": {
    "collapsed": false,
    "ExecuteTime": {
     "start_time": "2025-07-28T12:09:05.984822Z",
     "end_time": "2025-07-28T12:09:06.027093Z"
    }
   }
  },
  {
   "cell_type": "code",
   "execution_count": 11,
   "outputs": [],
   "source": [
    "from preprocessing.mongo_db.mongodb import get_mongodb_collection\n",
    "from typing import Dict\n",
    "from datetime import datetime\n",
    "\n",
    "\n",
    "def get_last_response(current_driver, cutoff_time: datetime):\n",
    "    last_request = [\n",
    "        request for request in current_driver.requests\n",
    "        if request.response and\n",
    "           \"searchResults.get.json\" in request.url and\n",
    "           request.date > cutoff_time\n",
    "    ]\n",
    "    if len(last_request) != 1:\n",
    "        raise RuntimeError(\"Invalid state\")\n",
    "    last_request = last_request[0]\n",
    "    try:\n",
    "        compressed = io.BytesIO(last_request.response.body)\n",
    "        decompressed = gzip.GzipFile(fileobj=compressed).read()\n",
    "        data = json.loads(decompressed.decode('utf-8'))\n",
    "        return data\n",
    "    except Exception as e:\n",
    "        print(\"❌ Błąd dekodowania:\", e)\n",
    "\n",
    "\n",
    "def get_questions_from_response(json: Dict, questions_in_list: List[QuestionInList]):\n",
    "    questions_to_save = []\n",
    "    for document in json['documentList']:\n",
    "        question = QuestionInList(\n",
    "            title=document['title'],\n",
    "            nro=document['nro']\n",
    "        )\n",
    "\n",
    "        if QuestionInList.is_in_list(question, questions_in_list):\n",
    "            logger.warn(f\"Question with nro: {question.nro}, title: {question.title}\")\n",
    "        else:\n",
    "            questions_to_save.append(question)\n",
    "    return questions_to_save\n",
    "\n",
    "# data_from_response = get_last_response(driver, cutoff_time)\n",
    "#\n",
    "# questions_to_save = get_questions_from_response(data_from_response, questions_in_list)\n",
    "#\n",
    "# get_mongodb_collection(\n",
    "#     db_name=\"scraping_lex\",\n",
    "#     collection_name=\"list_questions\"\n",
    "# ).insert_many([question.to_dict() for question in questions_to_save])\n",
    "#\n",
    "# questions_in_list.extend(questions_to_save)\n",
    "\n"
   ],
   "metadata": {
    "collapsed": false,
    "ExecuteTime": {
     "start_time": "2025-07-18T22:39:36.439191Z",
     "end_time": "2025-07-18T22:39:36.470826Z"
    }
   }
  },
  {
   "cell_type": "code",
   "execution_count": null,
   "outputs": [],
   "source": [
    "get_last_response(driver, cutoff_time)"
   ],
   "metadata": {
    "collapsed": false
   }
  },
  {
   "cell_type": "code",
   "execution_count": 70,
   "outputs": [],
   "source": [
    "field = 'Podatki'\n",
    "\n",
    "subfield_for_podatki = {\n",
    "    'przedmioty_opodatkowania': 'https://sip.lex.pl/#/search-resources?p=%7B%22documentMainType%22:%22QA%22,%22domains%22:%5B%7B%22label%22:%22Podatki%22,%22conceptId%22:4697%7D%5D,%22qaValidity%22:%7B%22nrs%22:134217729,%22label%22:%22aktualne%22%7D,%22uiKeyword%22:%5B%7B%22label%22:%22Przedmiot%20opodatkowania%22,%22conceptId%22:3063%7D%5D%7D&sortBy=dateASC',\n",
    "    'koszty_uzyskania_przychodow': 'https://sip.lex.pl/#/search-resources?p=%7B%22documentMainType%22:%22QA%22,%22domains%22:%5B%7B%22label%22:%22Podatki%22,%22conceptId%22:4697%7D%5D,%22qaValidity%22:%7B%22nrs%22:134217729,%22label%22:%22aktualne%22%7D,%22uiKeyword%22:%5B%7B%22label%22:%22Koszty%20uzyskania%20przychod%C3%B3w%22,%22conceptId%22:2471%7D%5D%7D&sortBy=dateASC',\n",
    "    'ulgi_uzyskania_podatkow': 'https://sip.lex.pl/#/search-resources?p=%7B%22documentMainType%22:%22QA%22,%22domains%22:%5B%7B%22label%22:%22Podatki%22,%22conceptId%22:4697%7D%5D,%22qaValidity%22:%7B%22nrs%22:134217729,%22label%22:%22aktualne%22%7D,%22uiKeyword%22:%5B%7B%22label%22:%22Ulgi%20i%20zwolnienia%20podatkowe%22,%22conceptId%22:3070%7D%5D%7D&sortBy=dateASC',\n",
    "    'przychody_podatkowe': 'https://sip.lex.pl/#/search-resources?p=%7B%22documentMainType%22:%22QA%22,%22domains%22:%5B%7B%22label%22:%22Podatki%22,%22conceptId%22:4697%7D%5D,%22qaValidity%22:%7B%22nrs%22:134217729,%22label%22:%22aktualne%22%7D,%22uiKeyword%22:%5B%7B%22label%22:%22Przychody%20podatkowe%22,%22conceptId%22:3077%7D%5D%7D&sortBy=dateASC',\n",
    "    'przedmioty_opodatkowania_vat': 'https://sip.lex.pl/#/search-resources?p=%7B%22documentMainType%22:%22QA%22,%22domains%22:%5B%7B%22label%22:%22Podatki%22,%22conceptId%22:4697%7D%5D,%22qaValidity%22:%7B%22nrs%22:134217729,%22label%22:%22aktualne%22%7D,%22uiKeyword%22:%5B%7B%22label%22:%22Przedmiot%20opodatkowania%20VAT%22,%22conceptId%22:5314%7D%5D%7D&sortBy=dateASC'\n",
    "}"
   ],
   "metadata": {
    "collapsed": false,
    "ExecuteTime": {
     "start_time": "2025-07-18T18:52:07.049623Z",
     "end_time": "2025-07-18T18:52:07.065404Z"
    }
   }
  },
  {
   "cell_type": "code",
   "execution_count": null,
   "outputs": [
    {
     "name": "stdout",
     "output_type": "stream",
     "text": [
      "🗓️ Processing: 2015-09-01 → 2015-09-30\n"
     ]
    },
    {
     "name": "stderr",
     "output_type": "stream",
     "text": [
      "C:\\Users\\karol\\AppData\\Local\\Temp\\ipykernel_502056\\3232922609.py:37: DeprecationWarning: The 'warn' method is deprecated, use 'warning' instead\n",
      "  logger.warn(f\"Question with nro: {question.nro}, title: {question.title}\")\n",
      "Question with nro: 621361335, title: Na jakim dziale, rozdziale i paragrafie powinna być zaksięgowana należność z tytułu odszkodowania za przedawnienie należności z tytułu podatku od nieruchomości z winy firmy doręczającej pocztę?\n",
      "Question with nro: 621362355, title: Na jakim koncie należy księgować faktury za odsetki od udzielonej pożyczki?\n",
      "Question with nro: 621362259, title: W jaki sposób powinna przebiegać ewidencja księgowa wadliwych wyrobów?\n",
      "Question with nro: 621362160, title: Czy biuro rachunkowe wystawić fakturę na firmę, która na dzień wystawienia tejże faktury będzie już zlikwidowana?\n",
      "Question with nro: 620861188, title: Czy przy zakupie towarów i usług na rzecz ambulatorium, finansowanych z ZFRON, spółce przysługuje prawo do odliczenia VAT naliczonego?\n",
      "Question with nro: 621360738, title: Czy urlop szkoleniowy przysługuje tylko wtedy, gdy szkolenie jest zakończone egzaminem?\n",
      "Question with nro: 621363677, title: Czy VW Amarok podlega amortyzacji podatkowej w pełnej kwocie zakupu?\n",
      "Question with nro: 621362649, title: Czy wycenę nieruchomości należy zakwalifikować jako należność licencyjną i pobrać 5% podatku od źródła?\n",
      "Question with nro: 621362614, title: Czy wydatki na samochód służbowy wykorzystywany do przewozu pracowników między terenami prowadzonymi przez spółkę budów, może być uznany za służący celom prywatnym pracownika?\n",
      "Question with nro: 620837656, title: Jaką stawkę VAT należy zastosować przy sprzedaży pojemników na odpady komunalne?\n",
      "Question with nro: 620988521, title: Jakie są konsekwencje w zakresie VAT przy nieodpłatnym przekazaniu pracownikom telefonów komórkowych na ich własne potrzeby?\n",
      "Question with nro: 621360874, title: Jak prawidłowo rozliczać urlop wypoczynkowy pracownikowi w przypadku równoległego zatrudnienia?\n",
      "Question with nro: 621360795, title: Kiedy dochodzi do WNT?\n",
      "Question with nro: 621010235, title: Kiedy można uznać fakturę za fakturę uproszczoną?\n"
     ]
    },
    {
     "name": "stdout",
     "output_type": "stream",
     "text": [
      "it scroll further\n"
     ]
    },
    {
     "name": "stderr",
     "output_type": "stream",
     "text": [
      "Question with nro: 621361335, title: Na jakim dziale, rozdziale i paragrafie powinna być zaksięgowana należność z tytułu odszkodowania za przedawnienie należności z tytułu podatku od nieruchomości z winy firmy doręczającej pocztę?\n",
      "Question with nro: 621362355, title: Na jakim koncie należy księgować faktury za odsetki od udzielonej pożyczki?\n",
      "Question with nro: 621362259, title: W jaki sposób powinna przebiegać ewidencja księgowa wadliwych wyrobów?\n",
      "Question with nro: 621362160, title: Czy biuro rachunkowe wystawić fakturę na firmę, która na dzień wystawienia tejże faktury będzie już zlikwidowana?\n",
      "Question with nro: 620861188, title: Czy przy zakupie towarów i usług na rzecz ambulatorium, finansowanych z ZFRON, spółce przysługuje prawo do odliczenia VAT naliczonego?\n",
      "Question with nro: 621360738, title: Czy urlop szkoleniowy przysługuje tylko wtedy, gdy szkolenie jest zakończone egzaminem?\n",
      "Question with nro: 621363677, title: Czy VW Amarok podlega amortyzacji podatkowej w pełnej kwocie zakupu?\n",
      "Question with nro: 621362649, title: Czy wycenę nieruchomości należy zakwalifikować jako należność licencyjną i pobrać 5% podatku od źródła?\n",
      "Question with nro: 621362614, title: Czy wydatki na samochód służbowy wykorzystywany do przewozu pracowników między terenami prowadzonymi przez spółkę budów, może być uznany za służący celom prywatnym pracownika?\n",
      "Question with nro: 620837656, title: Jaką stawkę VAT należy zastosować przy sprzedaży pojemników na odpady komunalne?\n",
      "Question with nro: 620988521, title: Jakie są konsekwencje w zakresie VAT przy nieodpłatnym przekazaniu pracownikom telefonów komórkowych na ich własne potrzeby?\n",
      "Question with nro: 621360874, title: Jak prawidłowo rozliczać urlop wypoczynkowy pracownikowi w przypadku równoległego zatrudnienia?\n",
      "Question with nro: 621360795, title: Kiedy dochodzi do WNT?\n",
      "Question with nro: 621010235, title: Kiedy można uznać fakturę za fakturę uproszczoną?\n"
     ]
    },
    {
     "name": "stdout",
     "output_type": "stream",
     "text": [
      "it scroll further\n"
     ]
    },
    {
     "name": "stderr",
     "output_type": "stream",
     "text": [
      "Question with nro: 621361335, title: Na jakim dziale, rozdziale i paragrafie powinna być zaksięgowana należność z tytułu odszkodowania za przedawnienie należności z tytułu podatku od nieruchomości z winy firmy doręczającej pocztę?\n",
      "Question with nro: 621362355, title: Na jakim koncie należy księgować faktury za odsetki od udzielonej pożyczki?\n",
      "Question with nro: 621362259, title: W jaki sposób powinna przebiegać ewidencja księgowa wadliwych wyrobów?\n",
      "Question with nro: 621362160, title: Czy biuro rachunkowe wystawić fakturę na firmę, która na dzień wystawienia tejże faktury będzie już zlikwidowana?\n",
      "Question with nro: 620861188, title: Czy przy zakupie towarów i usług na rzecz ambulatorium, finansowanych z ZFRON, spółce przysługuje prawo do odliczenia VAT naliczonego?\n",
      "Question with nro: 621360738, title: Czy urlop szkoleniowy przysługuje tylko wtedy, gdy szkolenie jest zakończone egzaminem?\n",
      "Question with nro: 621363677, title: Czy VW Amarok podlega amortyzacji podatkowej w pełnej kwocie zakupu?\n",
      "Question with nro: 621362649, title: Czy wycenę nieruchomości należy zakwalifikować jako należność licencyjną i pobrać 5% podatku od źródła?\n",
      "Question with nro: 621362614, title: Czy wydatki na samochód służbowy wykorzystywany do przewozu pracowników między terenami prowadzonymi przez spółkę budów, może być uznany za służący celom prywatnym pracownika?\n",
      "Question with nro: 620837656, title: Jaką stawkę VAT należy zastosować przy sprzedaży pojemników na odpady komunalne?\n",
      "Question with nro: 620988521, title: Jakie są konsekwencje w zakresie VAT przy nieodpłatnym przekazaniu pracownikom telefonów komórkowych na ich własne potrzeby?\n",
      "Question with nro: 621360874, title: Jak prawidłowo rozliczać urlop wypoczynkowy pracownikowi w przypadku równoległego zatrudnienia?\n",
      "Question with nro: 621360795, title: Kiedy dochodzi do WNT?\n",
      "Question with nro: 621010235, title: Kiedy można uznać fakturę za fakturę uproszczoną?\n"
     ]
    },
    {
     "name": "stdout",
     "output_type": "stream",
     "text": [
      "it scroll further\n",
      "It change to new range\n",
      "🗓️ Processing: 2015-10-01 → 2015-10-31\n"
     ]
    },
    {
     "name": "stderr",
     "output_type": "stream",
     "text": [
      "Question with nro: 621374970, title: Czy szczepienie pracowników przeciwko grypie podlega opodatkowaniu i oskładkowaniu?\n",
      "Question with nro: 621372243, title: Czy w sytuacji nabywania przez podatnika usług cateringowych dla ekipy filmowej realizującej zdjęcia, należy uznać je za świadczenie uzyskane przez pracownika i od ich wartości naliczyć oraz odprowadzić podatek?\n",
      "Question with nro: 621373807, title: Czy zatrudnionemu w starostwie członkowi rady nadzorczej zakładu gospodarki mieszkaniowej należy płacić za nieobecności wynikające z uczestnictwa w posiedzeniach tej rady?\n",
      "Question with nro: 621373928, title: Z jaką stawką amortyzacji należy przyjąć wykonanie melioracji i kanalizacji?\n"
     ]
    },
    {
     "name": "stdout",
     "output_type": "stream",
     "text": [
      "it scroll further\n"
     ]
    },
    {
     "name": "stderr",
     "output_type": "stream",
     "text": [
      "Question with nro: 621374970, title: Czy szczepienie pracowników przeciwko grypie podlega opodatkowaniu i oskładkowaniu?\n",
      "Question with nro: 621372243, title: Czy w sytuacji nabywania przez podatnika usług cateringowych dla ekipy filmowej realizującej zdjęcia, należy uznać je za świadczenie uzyskane przez pracownika i od ich wartości naliczyć oraz odprowadzić podatek?\n",
      "Question with nro: 621373807, title: Czy zatrudnionemu w starostwie członkowi rady nadzorczej zakładu gospodarki mieszkaniowej należy płacić za nieobecności wynikające z uczestnictwa w posiedzeniach tej rady?\n",
      "Question with nro: 621373928, title: Z jaką stawką amortyzacji należy przyjąć wykonanie melioracji i kanalizacji?\n"
     ]
    },
    {
     "name": "stdout",
     "output_type": "stream",
     "text": [
      "it scroll further\n"
     ]
    },
    {
     "name": "stderr",
     "output_type": "stream",
     "text": [
      "Question with nro: 621374970, title: Czy szczepienie pracowników przeciwko grypie podlega opodatkowaniu i oskładkowaniu?\n",
      "Question with nro: 621372243, title: Czy w sytuacji nabywania przez podatnika usług cateringowych dla ekipy filmowej realizującej zdjęcia, należy uznać je za świadczenie uzyskane przez pracownika i od ich wartości naliczyć oraz odprowadzić podatek?\n",
      "Question with nro: 621373807, title: Czy zatrudnionemu w starostwie członkowi rady nadzorczej zakładu gospodarki mieszkaniowej należy płacić za nieobecności wynikające z uczestnictwa w posiedzeniach tej rady?\n",
      "Question with nro: 621373928, title: Z jaką stawką amortyzacji należy przyjąć wykonanie melioracji i kanalizacji?\n"
     ]
    },
    {
     "name": "stdout",
     "output_type": "stream",
     "text": [
      "it scroll further\n",
      "It change to new range\n",
      "🗓️ Processing: 2015-11-01 → 2015-11-30\n"
     ]
    },
    {
     "name": "stderr",
     "output_type": "stream",
     "text": [
      "Question with nro: 621385863, title: Jak obliczyć wynagrodzenie chorobowe pracownika, jeżeli poprzednio był zatrudniony u pracodawcy w ramach prac interwencyjnych?\n",
      "Question with nro: 621386497, title: Jak opodatkować pożyczkę udzielone wspólnikowi przez spółkę cywilną?\n",
      "Question with nro: 620894129, title: Jak ująć w księgach przyjęcie zamienników wadliwych materiałów?\n",
      "Question with nro: 621383871, title: Jak uzupełnić zmienne składniki wynagrodzenia przed włączeniem ich do podstawy wymiaru ekwiwalentu za urlop?\n",
      "Question with nro: 621386055, title: Jak zrekompensować 9 godzin pracy w dniu wolnym wynikającym z rozkładu czasu pracy w przeciętnie pięciodniowym tygodniu pracy?\n",
      "Question with nro: 621385809, title: Kiedy świadczenie finansowe na rzecz pracownika należy kwalifikować jako uznaniowy składnik wynagrodzenia?\n",
      "Question with nro: 621383618, title: W jakim trybie rada powiatu może odwołać etatowego członka zarządu?\n"
     ]
    },
    {
     "name": "stdout",
     "output_type": "stream",
     "text": [
      "it scroll further\n"
     ]
    },
    {
     "name": "stderr",
     "output_type": "stream",
     "text": [
      "Question with nro: 621385863, title: Jak obliczyć wynagrodzenie chorobowe pracownika, jeżeli poprzednio był zatrudniony u pracodawcy w ramach prac interwencyjnych?\n",
      "Question with nro: 621386497, title: Jak opodatkować pożyczkę udzielone wspólnikowi przez spółkę cywilną?\n",
      "Question with nro: 620894129, title: Jak ująć w księgach przyjęcie zamienników wadliwych materiałów?\n",
      "Question with nro: 621383871, title: Jak uzupełnić zmienne składniki wynagrodzenia przed włączeniem ich do podstawy wymiaru ekwiwalentu za urlop?\n",
      "Question with nro: 621386055, title: Jak zrekompensować 9 godzin pracy w dniu wolnym wynikającym z rozkładu czasu pracy w przeciętnie pięciodniowym tygodniu pracy?\n",
      "Question with nro: 621385809, title: Kiedy świadczenie finansowe na rzecz pracownika należy kwalifikować jako uznaniowy składnik wynagrodzenia?\n",
      "Question with nro: 621383618, title: W jakim trybie rada powiatu może odwołać etatowego członka zarządu?\n"
     ]
    },
    {
     "name": "stdout",
     "output_type": "stream",
     "text": [
      "it scroll further\n"
     ]
    },
    {
     "name": "stderr",
     "output_type": "stream",
     "text": [
      "Question with nro: 621385863, title: Jak obliczyć wynagrodzenie chorobowe pracownika, jeżeli poprzednio był zatrudniony u pracodawcy w ramach prac interwencyjnych?\n",
      "Question with nro: 621386497, title: Jak opodatkować pożyczkę udzielone wspólnikowi przez spółkę cywilną?\n",
      "Question with nro: 620894129, title: Jak ująć w księgach przyjęcie zamienników wadliwych materiałów?\n",
      "Question with nro: 621383871, title: Jak uzupełnić zmienne składniki wynagrodzenia przed włączeniem ich do podstawy wymiaru ekwiwalentu za urlop?\n",
      "Question with nro: 621386055, title: Jak zrekompensować 9 godzin pracy w dniu wolnym wynikającym z rozkładu czasu pracy w przeciętnie pięciodniowym tygodniu pracy?\n",
      "Question with nro: 621385809, title: Kiedy świadczenie finansowe na rzecz pracownika należy kwalifikować jako uznaniowy składnik wynagrodzenia?\n",
      "Question with nro: 621383618, title: W jakim trybie rada powiatu może odwołać etatowego członka zarządu?\n"
     ]
    },
    {
     "name": "stdout",
     "output_type": "stream",
     "text": [
      "it scroll further\n",
      "It change to new range\n",
      "🗓️ Processing: 2015-12-01 → 2015-12-31\n"
     ]
    },
    {
     "name": "stderr",
     "output_type": "stream",
     "text": [
      "Question with nro: 620933213, title: W której pozycji deklaracji VAT wykazać świadczenie usług remontowo-budowlanych na terenie Unii Europejskiej?\n"
     ]
    },
    {
     "name": "stdout",
     "output_type": "stream",
     "text": [
      "it scroll further\n"
     ]
    },
    {
     "name": "stderr",
     "output_type": "stream",
     "text": [
      "Question with nro: 620933213, title: W której pozycji deklaracji VAT wykazać świadczenie usług remontowo-budowlanych na terenie Unii Europejskiej?\n"
     ]
    },
    {
     "name": "stdout",
     "output_type": "stream",
     "text": [
      "it scroll further\n"
     ]
    },
    {
     "name": "stderr",
     "output_type": "stream",
     "text": [
      "Question with nro: 620933213, title: W której pozycji deklaracji VAT wykazać świadczenie usług remontowo-budowlanych na terenie Unii Europejskiej?\n"
     ]
    },
    {
     "name": "stdout",
     "output_type": "stream",
     "text": [
      "it scroll further\n",
      "It change to new range\n",
      "🗓️ Processing: 2016-01-01 → 2016-01-31\n"
     ]
    },
    {
     "name": "stderr",
     "output_type": "stream",
     "text": [
      "Question with nro: 620904587, title: Do jakiej grupy KŚT zakwalifikować urządzenie do pomiaru głębokości zbiorników wodnych?\n",
      "Question with nro: 620873883, title: Czy ojcu dziecka przysługuje prawo do opieki w wymiarze 2 dni?\n",
      "Question with nro: 620917544, title: Do jakiej grupy KŚT należy zakwalifikować i jaką stawką amortyzować sterowaną komputerowo hydrauliczną prasę krawędziową?\n"
     ]
    },
    {
     "name": "stdout",
     "output_type": "stream",
     "text": [
      "it scroll further\n"
     ]
    },
    {
     "name": "stderr",
     "output_type": "stream",
     "text": [
      "Question with nro: 620904587, title: Do jakiej grupy KŚT zakwalifikować urządzenie do pomiaru głębokości zbiorników wodnych?\n",
      "Question with nro: 620873883, title: Czy ojcu dziecka przysługuje prawo do opieki w wymiarze 2 dni?\n",
      "Question with nro: 620917544, title: Do jakiej grupy KŚT należy zakwalifikować i jaką stawką amortyzować sterowaną komputerowo hydrauliczną prasę krawędziową?\n"
     ]
    },
    {
     "name": "stdout",
     "output_type": "stream",
     "text": [
      "it scroll further\n"
     ]
    },
    {
     "name": "stderr",
     "output_type": "stream",
     "text": [
      "Question with nro: 620904587, title: Do jakiej grupy KŚT zakwalifikować urządzenie do pomiaru głębokości zbiorników wodnych?\n",
      "Question with nro: 620873883, title: Czy ojcu dziecka przysługuje prawo do opieki w wymiarze 2 dni?\n",
      "Question with nro: 620917544, title: Do jakiej grupy KŚT należy zakwalifikować i jaką stawką amortyzować sterowaną komputerowo hydrauliczną prasę krawędziową?\n"
     ]
    },
    {
     "name": "stdout",
     "output_type": "stream",
     "text": [
      "it scroll further\n",
      "It change to new range\n",
      "🗓️ Processing: 2016-02-01 → 2016-02-29\n"
     ]
    },
    {
     "name": "stderr",
     "output_type": "stream",
     "text": [
      "Question with nro: 621418900, title: Na jakich zasadach należy udzielać dodatkowego urlopu wypoczynkowego przysługującego pracownikom niepełnosprawnym?\n"
     ]
    },
    {
     "name": "stdout",
     "output_type": "stream",
     "text": [
      "it scroll further\n"
     ]
    },
    {
     "name": "stderr",
     "output_type": "stream",
     "text": [
      "Question with nro: 621418900, title: Na jakich zasadach należy udzielać dodatkowego urlopu wypoczynkowego przysługującego pracownikom niepełnosprawnym?\n"
     ]
    },
    {
     "name": "stdout",
     "output_type": "stream",
     "text": [
      "it scroll further\n"
     ]
    },
    {
     "name": "stderr",
     "output_type": "stream",
     "text": [
      "Question with nro: 621418900, title: Na jakich zasadach należy udzielać dodatkowego urlopu wypoczynkowego przysługującego pracownikom niepełnosprawnym?\n"
     ]
    },
    {
     "name": "stdout",
     "output_type": "stream",
     "text": [
      "it scroll further\n",
      "It change to new range\n",
      "🗓️ Processing: 2016-03-01 → 2016-03-31\n"
     ]
    },
    {
     "name": "stderr",
     "output_type": "stream",
     "text": [
      "Question with nro: 621436844, title: Czy sprzedaż nieruchomości należącej do wspólnoty gruntowej podlega opodatkowaniu po upływie 5 lat od daty nabycia?\n",
      "Question with nro: 621432761, title: Jak prawidłowo rozliczyć wynagrodzenie pracownika?\n",
      "Question with nro: 621434941, title: Jak prawidłowo ustalić podstawę wymiaru zasiłku chorobowego, jeżeli niezdolność do pracy powstała po zmianie wymiaru czasu pracy?\n",
      "Question with nro: 621433460, title: Jak prawidłowo w warunkach zatrudnienia należy zawrzeć informację o godzinach pracy w porze nocnej?\n",
      "Question with nro: 621432750, title: Jak ustalić czas pracy koordynatora zespołu radców prawnych?\n",
      "Question with nro: 621432909, title: Jak ustalić wymiar urlopu pracownika tymczasowego?\n",
      "Question with nro: 621433312, title: Kiedy należy złożyć ZUS RSA z kodem 350?\n",
      "Question with nro: 621433255, title: Kiedy pracownikowi na urlopie wychowawczym należy wypłacić nagrodę jubileuszową?\n",
      "Question with nro: 621433480, title: Kiedy w ZUS RSA wykazać okres niezdolności do pracy wskutek choroby, jeśli pracownik dostarczył zwolnienie po kilku miesiącach?\n",
      "Question with nro: 621433139, title: W jakich spółkach obowiązuje 70% podatku od odpraw i odszkodowań?\n",
      "Question with nro: 621399049, title: W którym momencie dokonać korekty przychodów w związku z otrzymaniem faktur korygujących?\n"
     ]
    },
    {
     "name": "stdout",
     "output_type": "stream",
     "text": [
      "it scroll further\n"
     ]
    },
    {
     "name": "stderr",
     "output_type": "stream",
     "text": [
      "Question with nro: 621436844, title: Czy sprzedaż nieruchomości należącej do wspólnoty gruntowej podlega opodatkowaniu po upływie 5 lat od daty nabycia?\n",
      "Question with nro: 621432761, title: Jak prawidłowo rozliczyć wynagrodzenie pracownika?\n",
      "Question with nro: 621434941, title: Jak prawidłowo ustalić podstawę wymiaru zasiłku chorobowego, jeżeli niezdolność do pracy powstała po zmianie wymiaru czasu pracy?\n",
      "Question with nro: 621433460, title: Jak prawidłowo w warunkach zatrudnienia należy zawrzeć informację o godzinach pracy w porze nocnej?\n",
      "Question with nro: 621432750, title: Jak ustalić czas pracy koordynatora zespołu radców prawnych?\n",
      "Question with nro: 621432909, title: Jak ustalić wymiar urlopu pracownika tymczasowego?\n",
      "Question with nro: 621433312, title: Kiedy należy złożyć ZUS RSA z kodem 350?\n",
      "Question with nro: 621433255, title: Kiedy pracownikowi na urlopie wychowawczym należy wypłacić nagrodę jubileuszową?\n",
      "Question with nro: 621433480, title: Kiedy w ZUS RSA wykazać okres niezdolności do pracy wskutek choroby, jeśli pracownik dostarczył zwolnienie po kilku miesiącach?\n",
      "Question with nro: 621433139, title: W jakich spółkach obowiązuje 70% podatku od odpraw i odszkodowań?\n",
      "Question with nro: 621399049, title: W którym momencie dokonać korekty przychodów w związku z otrzymaniem faktur korygujących?\n"
     ]
    },
    {
     "name": "stdout",
     "output_type": "stream",
     "text": [
      "it scroll further\n"
     ]
    },
    {
     "name": "stderr",
     "output_type": "stream",
     "text": [
      "Question with nro: 621436844, title: Czy sprzedaż nieruchomości należącej do wspólnoty gruntowej podlega opodatkowaniu po upływie 5 lat od daty nabycia?\n",
      "Question with nro: 621432761, title: Jak prawidłowo rozliczyć wynagrodzenie pracownika?\n",
      "Question with nro: 621434941, title: Jak prawidłowo ustalić podstawę wymiaru zasiłku chorobowego, jeżeli niezdolność do pracy powstała po zmianie wymiaru czasu pracy?\n",
      "Question with nro: 621433460, title: Jak prawidłowo w warunkach zatrudnienia należy zawrzeć informację o godzinach pracy w porze nocnej?\n",
      "Question with nro: 621432750, title: Jak ustalić czas pracy koordynatora zespołu radców prawnych?\n",
      "Question with nro: 621432909, title: Jak ustalić wymiar urlopu pracownika tymczasowego?\n",
      "Question with nro: 621433312, title: Kiedy należy złożyć ZUS RSA z kodem 350?\n",
      "Question with nro: 621433255, title: Kiedy pracownikowi na urlopie wychowawczym należy wypłacić nagrodę jubileuszową?\n",
      "Question with nro: 621433480, title: Kiedy w ZUS RSA wykazać okres niezdolności do pracy wskutek choroby, jeśli pracownik dostarczył zwolnienie po kilku miesiącach?\n",
      "Question with nro: 621433139, title: W jakich spółkach obowiązuje 70% podatku od odpraw i odszkodowań?\n",
      "Question with nro: 621399049, title: W którym momencie dokonać korekty przychodów w związku z otrzymaniem faktur korygujących?\n"
     ]
    },
    {
     "name": "stdout",
     "output_type": "stream",
     "text": [
      "it scroll further\n",
      "It change to new range\n",
      "🗓️ Processing: 2016-04-01 → 2016-04-30\n"
     ]
    },
    {
     "name": "stderr",
     "output_type": "stream",
     "text": [
      "Question with nro: 621447826, title: Czy w umowie o pracę można wykluczyć podejmowanie dodatkowej działalności zarobkowej przez pracownika?\n",
      "Question with nro: 621447288, title: Czy zapłacony zaległy podatek może być kosztem w roku jego uregulowania?\n",
      "Question with nro: 621328874, title: Jak obliczyć urlop wypoczynkowy przysługujący pracownikowi po powrocie z urlopu bezpłatnego udzielonego na czas służby przygotowawczej?\n",
      "Question with nro: 621448046, title: Jak powinna wyglądać ewidencja zakupu środka trwałego w części sfinansowanego pożyczką?\n",
      "Question with nro: 621447249, title: Jak prawidłowo ustalić podstawę wymiaru zasiłku macierzyńskiego przedsiębiorcy?\n",
      "Question with nro: 621448119, title: Jak wypłacić zysk z lat poprzednich osobie fizycznej, która prowadzi księgi rachunkowe?\n",
      "Question with nro: 621448219, title: Od czego zależy uwzględnianie, bądź nie, premii w podstawie wymiaru świadczeń chorobowych?\n"
     ]
    },
    {
     "name": "stdout",
     "output_type": "stream",
     "text": [
      "it scroll further\n"
     ]
    },
    {
     "name": "stderr",
     "output_type": "stream",
     "text": [
      "Question with nro: 621447826, title: Czy w umowie o pracę można wykluczyć podejmowanie dodatkowej działalności zarobkowej przez pracownika?\n",
      "Question with nro: 621447288, title: Czy zapłacony zaległy podatek może być kosztem w roku jego uregulowania?\n",
      "Question with nro: 621328874, title: Jak obliczyć urlop wypoczynkowy przysługujący pracownikowi po powrocie z urlopu bezpłatnego udzielonego na czas służby przygotowawczej?\n",
      "Question with nro: 621448046, title: Jak powinna wyglądać ewidencja zakupu środka trwałego w części sfinansowanego pożyczką?\n",
      "Question with nro: 621447249, title: Jak prawidłowo ustalić podstawę wymiaru zasiłku macierzyńskiego przedsiębiorcy?\n",
      "Question with nro: 621448119, title: Jak wypłacić zysk z lat poprzednich osobie fizycznej, która prowadzi księgi rachunkowe?\n",
      "Question with nro: 621448219, title: Od czego zależy uwzględnianie, bądź nie, premii w podstawie wymiaru świadczeń chorobowych?\n"
     ]
    },
    {
     "name": "stdout",
     "output_type": "stream",
     "text": [
      "it scroll further\n"
     ]
    },
    {
     "name": "stderr",
     "output_type": "stream",
     "text": [
      "Question with nro: 621447826, title: Czy w umowie o pracę można wykluczyć podejmowanie dodatkowej działalności zarobkowej przez pracownika?\n",
      "Question with nro: 621447288, title: Czy zapłacony zaległy podatek może być kosztem w roku jego uregulowania?\n",
      "Question with nro: 621328874, title: Jak obliczyć urlop wypoczynkowy przysługujący pracownikowi po powrocie z urlopu bezpłatnego udzielonego na czas służby przygotowawczej?\n",
      "Question with nro: 621448046, title: Jak powinna wyglądać ewidencja zakupu środka trwałego w części sfinansowanego pożyczką?\n",
      "Question with nro: 621447249, title: Jak prawidłowo ustalić podstawę wymiaru zasiłku macierzyńskiego przedsiębiorcy?\n",
      "Question with nro: 621448119, title: Jak wypłacić zysk z lat poprzednich osobie fizycznej, która prowadzi księgi rachunkowe?\n",
      "Question with nro: 621448219, title: Od czego zależy uwzględnianie, bądź nie, premii w podstawie wymiaru świadczeń chorobowych?\n"
     ]
    },
    {
     "name": "stdout",
     "output_type": "stream",
     "text": [
      "it scroll further\n",
      "It change to new range\n",
      "🗓️ Processing: 2016-05-01 → 2016-05-31\n"
     ]
    },
    {
     "name": "stderr",
     "output_type": "stream",
     "text": [
      "Question with nro: 621459263, title: Czy przedsiębiorca jest zobowiązany zapłacić VAT wynikający z faktury wystawionej na rzecz samego siebie?\n",
      "Question with nro: 621460247, title: Czy przychód jaki uzyskuje pracownik, który wykorzystuje samochód służbowy do celów prywatnych należy wykazywać w zaświadczeniu składanym do ZUS?\n",
      "Question with nro: 621460222, title: Czy rezygnacja z urlopu rodzicielskiego wpływa na uprawnienie pracownika do urlopu wychowawczego?\n",
      "Question with nro: 621460265, title: Czy ruchomy czas pracy może funkcjonować w ramach systemu równoważnego?\n",
      "Question with nro: 621460959, title: Czy spółka powinna skorygować CIT-8, jeżeli otrzymała fakturę po zatwierdzeniu sprawozdania?\n",
      "Question with nro: 621460176, title: Czy udzielenie dnia wolnego za pracę w niedzielę zwalnia od obowiązku wypłaty wynagrodzenia?\n",
      "Question with nro: 621459418, title: Czy urlop z pierwszej umowy może być wykorzystany w ramach drugiej umowy zawartej z tym samym pracodawcą po kilkudniowej przerwie?\n",
      "Question with nro: 621459806, title: Czy wieloletni pracownik socjalny bez specjalizacji I stopnia może ubiegać się o specjalizację II stopnia w tym zawodzie?\n",
      "Question with nro: 621460460, title: Jaką umowę zawrzeć w celu przeprowadzenia warsztatów plastycznych dla dziećmi?\n",
      "Question with nro: 621461041, title: Jak poinformować pracowników o nie tworzeniu ZFŚS i niewypłacaniu świadczenia urlopowego?\n",
      "Question with nro: 621460138, title: Jak prawidłowo wypłacić wyrównanie dodatku stażowego za okres trzech lat wstecz?\n",
      "Question with nro: 621460696, title: Jak rozliczać koszty utwardzenia placu i przyłączenia do sieci?\n",
      "Question with nro: 621460211, title: Kto dokonuje kontroli delegacji?\n",
      "Question with nro: 620912499, title: Od jakiej kwoty należy dokonać potrąceń z wynagrodzenia pracownika?\n",
      "Question with nro: 620860092, title: Czy na urlopie wychowawczym można wejść w spółkę i prowadzić działalność gospodarcza?\n"
     ]
    },
    {
     "name": "stdout",
     "output_type": "stream",
     "text": [
      "it scroll further\n"
     ]
    },
    {
     "name": "stderr",
     "output_type": "stream",
     "text": [
      "Question with nro: 621459263, title: Czy przedsiębiorca jest zobowiązany zapłacić VAT wynikający z faktury wystawionej na rzecz samego siebie?\n",
      "Question with nro: 621460247, title: Czy przychód jaki uzyskuje pracownik, który wykorzystuje samochód służbowy do celów prywatnych należy wykazywać w zaświadczeniu składanym do ZUS?\n",
      "Question with nro: 621460222, title: Czy rezygnacja z urlopu rodzicielskiego wpływa na uprawnienie pracownika do urlopu wychowawczego?\n",
      "Question with nro: 621460265, title: Czy ruchomy czas pracy może funkcjonować w ramach systemu równoważnego?\n",
      "Question with nro: 621460959, title: Czy spółka powinna skorygować CIT-8, jeżeli otrzymała fakturę po zatwierdzeniu sprawozdania?\n",
      "Question with nro: 621460176, title: Czy udzielenie dnia wolnego za pracę w niedzielę zwalnia od obowiązku wypłaty wynagrodzenia?\n",
      "Question with nro: 621459418, title: Czy urlop z pierwszej umowy może być wykorzystany w ramach drugiej umowy zawartej z tym samym pracodawcą po kilkudniowej przerwie?\n",
      "Question with nro: 621459806, title: Czy wieloletni pracownik socjalny bez specjalizacji I stopnia może ubiegać się o specjalizację II stopnia w tym zawodzie?\n",
      "Question with nro: 621460460, title: Jaką umowę zawrzeć w celu przeprowadzenia warsztatów plastycznych dla dziećmi?\n",
      "Question with nro: 621461041, title: Jak poinformować pracowników o nie tworzeniu ZFŚS i niewypłacaniu świadczenia urlopowego?\n",
      "Question with nro: 621460138, title: Jak prawidłowo wypłacić wyrównanie dodatku stażowego za okres trzech lat wstecz?\n",
      "Question with nro: 621460696, title: Jak rozliczać koszty utwardzenia placu i przyłączenia do sieci?\n",
      "Question with nro: 621460211, title: Kto dokonuje kontroli delegacji?\n",
      "Question with nro: 620912499, title: Od jakiej kwoty należy dokonać potrąceń z wynagrodzenia pracownika?\n",
      "Question with nro: 620860092, title: Czy na urlopie wychowawczym można wejść w spółkę i prowadzić działalność gospodarcza?\n"
     ]
    },
    {
     "name": "stdout",
     "output_type": "stream",
     "text": [
      "it scroll further\n"
     ]
    },
    {
     "name": "stderr",
     "output_type": "stream",
     "text": [
      "Question with nro: 621459263, title: Czy przedsiębiorca jest zobowiązany zapłacić VAT wynikający z faktury wystawionej na rzecz samego siebie?\n",
      "Question with nro: 621460247, title: Czy przychód jaki uzyskuje pracownik, który wykorzystuje samochód służbowy do celów prywatnych należy wykazywać w zaświadczeniu składanym do ZUS?\n",
      "Question with nro: 621460222, title: Czy rezygnacja z urlopu rodzicielskiego wpływa na uprawnienie pracownika do urlopu wychowawczego?\n",
      "Question with nro: 621460265, title: Czy ruchomy czas pracy może funkcjonować w ramach systemu równoważnego?\n",
      "Question with nro: 621460959, title: Czy spółka powinna skorygować CIT-8, jeżeli otrzymała fakturę po zatwierdzeniu sprawozdania?\n",
      "Question with nro: 621460176, title: Czy udzielenie dnia wolnego za pracę w niedzielę zwalnia od obowiązku wypłaty wynagrodzenia?\n",
      "Question with nro: 621459418, title: Czy urlop z pierwszej umowy może być wykorzystany w ramach drugiej umowy zawartej z tym samym pracodawcą po kilkudniowej przerwie?\n",
      "Question with nro: 621459806, title: Czy wieloletni pracownik socjalny bez specjalizacji I stopnia może ubiegać się o specjalizację II stopnia w tym zawodzie?\n",
      "Question with nro: 621460460, title: Jaką umowę zawrzeć w celu przeprowadzenia warsztatów plastycznych dla dziećmi?\n",
      "Question with nro: 621461041, title: Jak poinformować pracowników o nie tworzeniu ZFŚS i niewypłacaniu świadczenia urlopowego?\n",
      "Question with nro: 621460138, title: Jak prawidłowo wypłacić wyrównanie dodatku stażowego za okres trzech lat wstecz?\n",
      "Question with nro: 621460696, title: Jak rozliczać koszty utwardzenia placu i przyłączenia do sieci?\n",
      "Question with nro: 621460211, title: Kto dokonuje kontroli delegacji?\n",
      "Question with nro: 620912499, title: Od jakiej kwoty należy dokonać potrąceń z wynagrodzenia pracownika?\n",
      "Question with nro: 620860092, title: Czy na urlopie wychowawczym można wejść w spółkę i prowadzić działalność gospodarcza?\n"
     ]
    },
    {
     "name": "stdout",
     "output_type": "stream",
     "text": [
      "it scroll further\n",
      "It change to new range\n",
      "🗓️ Processing: 2016-06-01 → 2016-06-30\n"
     ]
    },
    {
     "name": "stderr",
     "output_type": "stream",
     "text": [
      "Question with nro: 621473201, title: Jakie są uprawnienia i obowiązki pracodawcy, który zatrudnia osobę niepełnosprawną?\n",
      "Question with nro: 621472616, title: Jak prawidłowo obliczyć podstawę ekwiwalentu pieniężnego za niewykorzystany urlop wypoczynkowy pracownicy, która odeszła na rentę?\n",
      "Question with nro: 621472320, title: Jak prawidłowo ustalić kiedy przyjście pracownika do pracy w tej samej dobie generuje pracę w godzinach nadliczbowych?\n",
      "Question with nro: 621472533, title: Jak prawidłowo wypełnić kolumnę 11 druku ZUS Z-3?\n",
      "Question with nro: 621472148, title: Kiedy decyzja ostateczna w razie wykonania wywołałaby czyn zagrożony karą?\n",
      "Question with nro: 621472393, title: Kiedy powstanie obowiązek rozliczenia VAT w spółce, która ufundowała  w konkursie nagrody w postaci kart podarunkowych?\n",
      "Question with nro: 621473511, title: Które z 7 struktur JPK mały przedsiębiorca prowadzący PKPiR będzie musiał przekazać na żądanie urzędu skarbowego po 1 lipca 2018 r.?\n",
      "Question with nro: 621473289, title: Po jakim kursie dla celów CIT należy przeliczyć na PLN fakturę korygującą?\n",
      "Question with nro: 621474230, title: W jakim terminie należy rozliczyć sprzedaż mieszkania jeśli skorzystano z ulgi mieszkaniowej?\n"
     ]
    },
    {
     "name": "stdout",
     "output_type": "stream",
     "text": [
      "it scroll further\n"
     ]
    },
    {
     "name": "stderr",
     "output_type": "stream",
     "text": [
      "Question with nro: 621473201, title: Jakie są uprawnienia i obowiązki pracodawcy, który zatrudnia osobę niepełnosprawną?\n",
      "Question with nro: 621472616, title: Jak prawidłowo obliczyć podstawę ekwiwalentu pieniężnego za niewykorzystany urlop wypoczynkowy pracownicy, która odeszła na rentę?\n",
      "Question with nro: 621472320, title: Jak prawidłowo ustalić kiedy przyjście pracownika do pracy w tej samej dobie generuje pracę w godzinach nadliczbowych?\n",
      "Question with nro: 621472533, title: Jak prawidłowo wypełnić kolumnę 11 druku ZUS Z-3?\n",
      "Question with nro: 621472148, title: Kiedy decyzja ostateczna w razie wykonania wywołałaby czyn zagrożony karą?\n",
      "Question with nro: 621472393, title: Kiedy powstanie obowiązek rozliczenia VAT w spółce, która ufundowała  w konkursie nagrody w postaci kart podarunkowych?\n",
      "Question with nro: 621473511, title: Które z 7 struktur JPK mały przedsiębiorca prowadzący PKPiR będzie musiał przekazać na żądanie urzędu skarbowego po 1 lipca 2018 r.?\n",
      "Question with nro: 621473289, title: Po jakim kursie dla celów CIT należy przeliczyć na PLN fakturę korygującą?\n",
      "Question with nro: 621474230, title: W jakim terminie należy rozliczyć sprzedaż mieszkania jeśli skorzystano z ulgi mieszkaniowej?\n"
     ]
    },
    {
     "name": "stdout",
     "output_type": "stream",
     "text": [
      "it scroll further\n"
     ]
    },
    {
     "name": "stderr",
     "output_type": "stream",
     "text": [
      "Question with nro: 621473201, title: Jakie są uprawnienia i obowiązki pracodawcy, który zatrudnia osobę niepełnosprawną?\n",
      "Question with nro: 621472616, title: Jak prawidłowo obliczyć podstawę ekwiwalentu pieniężnego za niewykorzystany urlop wypoczynkowy pracownicy, która odeszła na rentę?\n",
      "Question with nro: 621472320, title: Jak prawidłowo ustalić kiedy przyjście pracownika do pracy w tej samej dobie generuje pracę w godzinach nadliczbowych?\n",
      "Question with nro: 621472533, title: Jak prawidłowo wypełnić kolumnę 11 druku ZUS Z-3?\n",
      "Question with nro: 621472148, title: Kiedy decyzja ostateczna w razie wykonania wywołałaby czyn zagrożony karą?\n",
      "Question with nro: 621472393, title: Kiedy powstanie obowiązek rozliczenia VAT w spółce, która ufundowała  w konkursie nagrody w postaci kart podarunkowych?\n",
      "Question with nro: 621473511, title: Które z 7 struktur JPK mały przedsiębiorca prowadzący PKPiR będzie musiał przekazać na żądanie urzędu skarbowego po 1 lipca 2018 r.?\n",
      "Question with nro: 621473289, title: Po jakim kursie dla celów CIT należy przeliczyć na PLN fakturę korygującą?\n",
      "Question with nro: 621474230, title: W jakim terminie należy rozliczyć sprzedaż mieszkania jeśli skorzystano z ulgi mieszkaniowej?\n"
     ]
    },
    {
     "name": "stdout",
     "output_type": "stream",
     "text": [
      "it scroll further\n",
      "It change to new range\n",
      "🗓️ Processing: 2016-07-01 → 2016-07-31\n"
     ]
    },
    {
     "name": "stderr",
     "output_type": "stream",
     "text": [
      "Question with nro: 621487496, title: W jakich przypadkach pracownik może być zwolniony ze wstępnych badań lekarskich?\n",
      "Question with nro: 621487255, title: W jaki sposób oblicza się wysokość zasiłku chorobowego?\n",
      "Question with nro: 621486839, title: Czy asortyment pracodawcy może stanowić świadczenie rzeczowe finansowane z ZFŚS?\n",
      "Question with nro: 621487206, title: Czy można odmówić udzielenia zwolnienia od pracy pracownicy w ciąży na czas zleconego przez lekarza badania lekarskiego?\n",
      "Question with nro: 621485150, title: Czym powinien się kierować lekarz medycyny pracy dokonując wyboru wzoru zaświadczenia lekarskiego dla pracownika?\n",
      "Question with nro: 620776124, title: Czy odsetki od rachunku ZFRON zwiększają fundusz ZFRON?\n",
      "Question with nro: 621487542, title: Czy pracodawca może skierować pracownika na badania kontrolne do lekarza medycyny pracy w trakcie trwania zwolnienia lekarskiego?\n",
      "Question with nro: 620936429, title: Czy pracownicy, która jest opiekunem prawnym rodzeństwa ma prawo do 2 dni opieki nad dzieckiem?\n",
      "Question with nro: 621485675, title: Czy pracowników objętych ruchomą organizacją czasu pracy można zobowiązać do przychodzenia do pracy o konkretnej godzinie?\n",
      "Question with nro: 621486321, title: Czy w związku z nieodpłatnym przekazaniem towarów, podatnik jest zobowiązany do naliczenia VAT?\n",
      "Question with nro: 621486503, title: Jakie dodatki należy wypłacić, jeśli doszło do powstania pracy nadliczbowej wynikającej z przekroczenia dobowej i średniotygodniowej normy czasu pracy?\n",
      "Question with nro: 621485739, title: Jak obliczyć ekwiwalent za 1 godzinę niewykorzystanego urlopu?\n",
      "Question with nro: 621485697, title: Jak przy zasiłku rodzinnym ustalić dochody rodziny zastępczej?\n",
      "Question with nro: 621486328, title: Jak zakwalifikować niemożliwość wykonywania pracy w związku z wystąpieniem awarii?\n"
     ]
    },
    {
     "name": "stdout",
     "output_type": "stream",
     "text": [
      "it scroll further\n"
     ]
    },
    {
     "name": "stderr",
     "output_type": "stream",
     "text": [
      "Question with nro: 621487496, title: W jakich przypadkach pracownik może być zwolniony ze wstępnych badań lekarskich?\n",
      "Question with nro: 621487255, title: W jaki sposób oblicza się wysokość zasiłku chorobowego?\n",
      "Question with nro: 621486839, title: Czy asortyment pracodawcy może stanowić świadczenie rzeczowe finansowane z ZFŚS?\n",
      "Question with nro: 621487206, title: Czy można odmówić udzielenia zwolnienia od pracy pracownicy w ciąży na czas zleconego przez lekarza badania lekarskiego?\n",
      "Question with nro: 621485150, title: Czym powinien się kierować lekarz medycyny pracy dokonując wyboru wzoru zaświadczenia lekarskiego dla pracownika?\n",
      "Question with nro: 620776124, title: Czy odsetki od rachunku ZFRON zwiększają fundusz ZFRON?\n",
      "Question with nro: 621487542, title: Czy pracodawca może skierować pracownika na badania kontrolne do lekarza medycyny pracy w trakcie trwania zwolnienia lekarskiego?\n",
      "Question with nro: 620936429, title: Czy pracownicy, która jest opiekunem prawnym rodzeństwa ma prawo do 2 dni opieki nad dzieckiem?\n",
      "Question with nro: 621485675, title: Czy pracowników objętych ruchomą organizacją czasu pracy można zobowiązać do przychodzenia do pracy o konkretnej godzinie?\n",
      "Question with nro: 621486321, title: Czy w związku z nieodpłatnym przekazaniem towarów, podatnik jest zobowiązany do naliczenia VAT?\n",
      "Question with nro: 621486503, title: Jakie dodatki należy wypłacić, jeśli doszło do powstania pracy nadliczbowej wynikającej z przekroczenia dobowej i średniotygodniowej normy czasu pracy?\n",
      "Question with nro: 621485739, title: Jak obliczyć ekwiwalent za 1 godzinę niewykorzystanego urlopu?\n",
      "Question with nro: 621485697, title: Jak przy zasiłku rodzinnym ustalić dochody rodziny zastępczej?\n",
      "Question with nro: 621486328, title: Jak zakwalifikować niemożliwość wykonywania pracy w związku z wystąpieniem awarii?\n"
     ]
    },
    {
     "name": "stdout",
     "output_type": "stream",
     "text": [
      "it scroll further\n"
     ]
    },
    {
     "name": "stderr",
     "output_type": "stream",
     "text": [
      "Question with nro: 621487496, title: W jakich przypadkach pracownik może być zwolniony ze wstępnych badań lekarskich?\n",
      "Question with nro: 621487255, title: W jaki sposób oblicza się wysokość zasiłku chorobowego?\n",
      "Question with nro: 621486839, title: Czy asortyment pracodawcy może stanowić świadczenie rzeczowe finansowane z ZFŚS?\n",
      "Question with nro: 621487206, title: Czy można odmówić udzielenia zwolnienia od pracy pracownicy w ciąży na czas zleconego przez lekarza badania lekarskiego?\n",
      "Question with nro: 621485150, title: Czym powinien się kierować lekarz medycyny pracy dokonując wyboru wzoru zaświadczenia lekarskiego dla pracownika?\n",
      "Question with nro: 620776124, title: Czy odsetki od rachunku ZFRON zwiększają fundusz ZFRON?\n",
      "Question with nro: 621487542, title: Czy pracodawca może skierować pracownika na badania kontrolne do lekarza medycyny pracy w trakcie trwania zwolnienia lekarskiego?\n",
      "Question with nro: 620936429, title: Czy pracownicy, która jest opiekunem prawnym rodzeństwa ma prawo do 2 dni opieki nad dzieckiem?\n",
      "Question with nro: 621485675, title: Czy pracowników objętych ruchomą organizacją czasu pracy można zobowiązać do przychodzenia do pracy o konkretnej godzinie?\n",
      "Question with nro: 621486321, title: Czy w związku z nieodpłatnym przekazaniem towarów, podatnik jest zobowiązany do naliczenia VAT?\n",
      "Question with nro: 621486503, title: Jakie dodatki należy wypłacić, jeśli doszło do powstania pracy nadliczbowej wynikającej z przekroczenia dobowej i średniotygodniowej normy czasu pracy?\n",
      "Question with nro: 621485739, title: Jak obliczyć ekwiwalent za 1 godzinę niewykorzystanego urlopu?\n",
      "Question with nro: 621485697, title: Jak przy zasiłku rodzinnym ustalić dochody rodziny zastępczej?\n",
      "Question with nro: 621486328, title: Jak zakwalifikować niemożliwość wykonywania pracy w związku z wystąpieniem awarii?\n"
     ]
    },
    {
     "name": "stdout",
     "output_type": "stream",
     "text": [
      "it scroll further\n",
      "It change to new range\n",
      "🗓️ Processing: 2016-08-01 → 2016-08-31\n"
     ]
    },
    {
     "name": "stderr",
     "output_type": "stream",
     "text": [
      "Question with nro: 621498119, title: Jak rozliczyć korektę zaległej opłaty za wieczyste użytkowanie?\n",
      "Question with nro: 621496450, title: Jak ustala się wynagrodzenie za dni wolne na poszukiwanie pracy?\n",
      "Question with nro: 621496452, title: Jak uwzględnić dodatek za nadgodziny przy obliczaniu ekwiwalentu za niewykorzystany urlop?\n",
      "Question with nro: 621498124, title: Jak zaksięgować przekazanie w ramach nagrody towaru na festyn organizowany przez gminę?\n",
      "Question with nro: 621497641, title: Od kiedy pracownikowi przysługuje zasiłek chorobowy, jeżeli przyczyną jego nieobecności jest wypadek przy pracy?\n",
      "Question with nro: 621496454, title: W jaki sposób ustala się podstawę ekwiwalentu za urlop?\n",
      "Question with nro: 621498873, title: W jaki sposób wypłacić odprawę dla nauczyciela pracującego w szkole, która będzie zlikwidowana w danym roku szkolnym?\n",
      "Question with nro: 621497572, title: W którym miejscu zatrudnienia pracownikowi przysługuje odprawa emerytalna?\n",
      "Question with nro: 621488201, title: Czy zakup auta ze środków ZFRON może zostać podważony przez urząd skarbowy?\n",
      "Question with nro: 620830006, title: Jak dokonać korekty wpłaconych zaliczek na podatek dochodowy za wspólników spółki jawnej?\n"
     ]
    },
    {
     "name": "stdout",
     "output_type": "stream",
     "text": [
      "it scroll further\n"
     ]
    },
    {
     "name": "stderr",
     "output_type": "stream",
     "text": [
      "Question with nro: 621498119, title: Jak rozliczyć korektę zaległej opłaty za wieczyste użytkowanie?\n",
      "Question with nro: 621496450, title: Jak ustala się wynagrodzenie za dni wolne na poszukiwanie pracy?\n",
      "Question with nro: 621496452, title: Jak uwzględnić dodatek za nadgodziny przy obliczaniu ekwiwalentu za niewykorzystany urlop?\n",
      "Question with nro: 621498124, title: Jak zaksięgować przekazanie w ramach nagrody towaru na festyn organizowany przez gminę?\n",
      "Question with nro: 621497641, title: Od kiedy pracownikowi przysługuje zasiłek chorobowy, jeżeli przyczyną jego nieobecności jest wypadek przy pracy?\n",
      "Question with nro: 621496454, title: W jaki sposób ustala się podstawę ekwiwalentu za urlop?\n",
      "Question with nro: 621498873, title: W jaki sposób wypłacić odprawę dla nauczyciela pracującego w szkole, która będzie zlikwidowana w danym roku szkolnym?\n",
      "Question with nro: 621497572, title: W którym miejscu zatrudnienia pracownikowi przysługuje odprawa emerytalna?\n",
      "Question with nro: 621488201, title: Czy zakup auta ze środków ZFRON może zostać podważony przez urząd skarbowy?\n",
      "Question with nro: 620830006, title: Jak dokonać korekty wpłaconych zaliczek na podatek dochodowy za wspólników spółki jawnej?\n"
     ]
    },
    {
     "name": "stdout",
     "output_type": "stream",
     "text": [
      "it scroll further\n"
     ]
    },
    {
     "name": "stderr",
     "output_type": "stream",
     "text": [
      "Question with nro: 621498119, title: Jak rozliczyć korektę zaległej opłaty za wieczyste użytkowanie?\n",
      "Question with nro: 621496450, title: Jak ustala się wynagrodzenie za dni wolne na poszukiwanie pracy?\n",
      "Question with nro: 621496452, title: Jak uwzględnić dodatek za nadgodziny przy obliczaniu ekwiwalentu za niewykorzystany urlop?\n",
      "Question with nro: 621498124, title: Jak zaksięgować przekazanie w ramach nagrody towaru na festyn organizowany przez gminę?\n",
      "Question with nro: 621497641, title: Od kiedy pracownikowi przysługuje zasiłek chorobowy, jeżeli przyczyną jego nieobecności jest wypadek przy pracy?\n",
      "Question with nro: 621496454, title: W jaki sposób ustala się podstawę ekwiwalentu za urlop?\n",
      "Question with nro: 621498873, title: W jaki sposób wypłacić odprawę dla nauczyciela pracującego w szkole, która będzie zlikwidowana w danym roku szkolnym?\n",
      "Question with nro: 621497572, title: W którym miejscu zatrudnienia pracownikowi przysługuje odprawa emerytalna?\n",
      "Question with nro: 621488201, title: Czy zakup auta ze środków ZFRON może zostać podważony przez urząd skarbowy?\n",
      "Question with nro: 620830006, title: Jak dokonać korekty wpłaconych zaliczek na podatek dochodowy za wspólników spółki jawnej?\n"
     ]
    },
    {
     "name": "stdout",
     "output_type": "stream",
     "text": [
      "it scroll further\n",
      "It change to new range\n",
      "🗓️ Processing: 2016-09-01 → 2016-09-30\n"
     ]
    },
    {
     "name": "stderr",
     "output_type": "stream",
     "text": [
      "Question with nro: 621506978, title: Jakie przesłanki powinny zostać spełnione, aby organ umorzył nienależnie pobrane świadczenia rodzinne?\n",
      "Question with nro: 621508647, title: Jak powinien postąpić organ, jeżeli osoba pobierająca zasiłek pielęgnacyjny otrzymuje dodatkowo dodatek pielęgnacyjny z ZUS?\n",
      "Question with nro: 621506749, title: W jakim terminie należy rozpoznać obowiązek podatkowy w VAT w przypadku przekazania samochodu przez likwidowaną spółkę, jeśli darowizna skutkuje zgodnie z umową z dniem wykreślenia spółki z KRS?\n"
     ]
    },
    {
     "name": "stdout",
     "output_type": "stream",
     "text": [
      "it scroll further\n"
     ]
    },
    {
     "name": "stderr",
     "output_type": "stream",
     "text": [
      "Question with nro: 621506978, title: Jakie przesłanki powinny zostać spełnione, aby organ umorzył nienależnie pobrane świadczenia rodzinne?\n",
      "Question with nro: 621508647, title: Jak powinien postąpić organ, jeżeli osoba pobierająca zasiłek pielęgnacyjny otrzymuje dodatkowo dodatek pielęgnacyjny z ZUS?\n",
      "Question with nro: 621506749, title: W jakim terminie należy rozpoznać obowiązek podatkowy w VAT w przypadku przekazania samochodu przez likwidowaną spółkę, jeśli darowizna skutkuje zgodnie z umową z dniem wykreślenia spółki z KRS?\n"
     ]
    },
    {
     "name": "stdout",
     "output_type": "stream",
     "text": [
      "it scroll further\n"
     ]
    },
    {
     "name": "stderr",
     "output_type": "stream",
     "text": [
      "Question with nro: 621506978, title: Jakie przesłanki powinny zostać spełnione, aby organ umorzył nienależnie pobrane świadczenia rodzinne?\n",
      "Question with nro: 621508647, title: Jak powinien postąpić organ, jeżeli osoba pobierająca zasiłek pielęgnacyjny otrzymuje dodatkowo dodatek pielęgnacyjny z ZUS?\n",
      "Question with nro: 621506749, title: W jakim terminie należy rozpoznać obowiązek podatkowy w VAT w przypadku przekazania samochodu przez likwidowaną spółkę, jeśli darowizna skutkuje zgodnie z umową z dniem wykreślenia spółki z KRS?\n"
     ]
    },
    {
     "name": "stdout",
     "output_type": "stream",
     "text": [
      "it scroll further\n",
      "It change to new range\n",
      "🗓️ Processing: 2016-10-01 → 2016-10-31\n"
     ]
    },
    {
     "name": "stderr",
     "output_type": "stream",
     "text": [
      "Question with nro: 621522131, title: Jak prawidłowo uzupełnić zaświadczenie o zatrudnieniu, jeżeli pracownik wykonywał umowy na czas określony bez przerwy?\n",
      "Question with nro: 621522956, title: Jak zwracać koszty podróży wykonawcy umowy o dzieło, który miejsce zamieszkania ma w Niemczech?\n",
      "Question with nro: 621520390, title: Komu pracodawca powinien wypłacić świadczenia po zmarłym pracowniku?\n"
     ]
    },
    {
     "name": "stdout",
     "output_type": "stream",
     "text": [
      "it scroll further\n"
     ]
    },
    {
     "name": "stderr",
     "output_type": "stream",
     "text": [
      "Question with nro: 621522131, title: Jak prawidłowo uzupełnić zaświadczenie o zatrudnieniu, jeżeli pracownik wykonywał umowy na czas określony bez przerwy?\n",
      "Question with nro: 621522956, title: Jak zwracać koszty podróży wykonawcy umowy o dzieło, który miejsce zamieszkania ma w Niemczech?\n",
      "Question with nro: 621520390, title: Komu pracodawca powinien wypłacić świadczenia po zmarłym pracowniku?\n"
     ]
    },
    {
     "name": "stdout",
     "output_type": "stream",
     "text": [
      "it scroll further\n"
     ]
    },
    {
     "name": "stderr",
     "output_type": "stream",
     "text": [
      "Question with nro: 621522131, title: Jak prawidłowo uzupełnić zaświadczenie o zatrudnieniu, jeżeli pracownik wykonywał umowy na czas określony bez przerwy?\n",
      "Question with nro: 621522956, title: Jak zwracać koszty podróży wykonawcy umowy o dzieło, który miejsce zamieszkania ma w Niemczech?\n",
      "Question with nro: 621520390, title: Komu pracodawca powinien wypłacić świadczenia po zmarłym pracowniku?\n"
     ]
    },
    {
     "name": "stdout",
     "output_type": "stream",
     "text": [
      "it scroll further\n",
      "It change to new range\n",
      "🗓️ Processing: 2016-11-01 → 2016-11-30\n"
     ]
    },
    {
     "name": "stderr",
     "output_type": "stream",
     "text": [
      "Question with nro: 621534739, title: Jak oblicza się podstawę wymiaru zasiłku macierzyńskiego?\n",
      "Question with nro: 621534931, title: Jak powinna wyglądać ewidencja faktury dokumentującej odsetki od częściowo spłaconej pożyczki, które to odsetki zaksięgowano bilansowo w poprzednim roku?\n",
      "Question with nro: 620953967, title: Jak prawidłowo obliczyć wynagrodzenie za okres zwolnienia z obowiązku świadczenia pracy?\n",
      "Question with nro: 620990962, title: Jak prawidłowo rozwiązać umowę o pracę?\n",
      "Question with nro: 621537213, title: Jak w księgach ciepłowni ująć koszty poniesione na edukację ekologiczną, a jak uzyskane na ten cel dofinansowanie?\n",
      "Question with nro: 621536187, title: Jak zaksięgować i w jakiej wartości otrzymany od gminy aport środków trwałych?\n",
      "Question with nro: 621537085, title: Jak zaksięgować spłatę pożyczki od córki udziałowca przez jej ojca z jednoczesnym zawarciem nowej umowy pożyczki z tym udziałowcem?\n",
      "Question with nro: 621536817, title: Kiedy powstaje moment podatkowy w CIT przy pośrednictwie sprzedaży energii/gazu w ciągu roku?\n",
      "Question with nro: 620983893, title: Kiedy pracownikowi należy udzielić zwolnienia na poszukiwanie pracy?\n",
      "Question with nro: 621536335, title: Kiedy roszczenie o wypłatę dodatku za sprawowanie funkcji opiekuna stażu ulega przedawnieniu?\n",
      "Question with nro: 621537222, title: Na jakim koncie powinny być zaksięgowane zapłacone odsetki z tytułu udzielonej pożyczki spółce, która sama zajmuje się udzielaniem pożyczek?\n",
      "Question with nro: 621535859, title: Od kiedy należy przyznać zasiłek pielęgnacyjny i wypłacić wyrównanie, jeśli wniosek o ustalenie stopnia niepełnosprawności został złożony we wrześniu 2015 r., a o zasiłek pielęgnacyjny - w październiku 2016 r.?\n",
      "Question with nro: 621535070, title: W jaki sposób, zgodnie z ustawą o pracownikach samorządowych, należy rozliczyć pracę w godzinach nadliczbowych kadry zarządzającej i kierowników wyodrębnionych komórek organizacyjnych?\n",
      "Question with nro: 621297221, title: W jaki sposób przekazuje się zaświadczenie płatnika składek ZUS Z-3b?\n",
      "Question with nro: 621532648, title: Czym różni się prowadzenie ksiąg rachunkowych jednostki prowadzącej kantor od innych podmiotów oraz na co należy zwracać szczególną uwagę podczas konstruowania polityki rachunkowości i zakładowego planu kont?\n"
     ]
    },
    {
     "name": "stdout",
     "output_type": "stream",
     "text": [
      "it scroll further\n"
     ]
    },
    {
     "name": "stderr",
     "output_type": "stream",
     "text": [
      "Question with nro: 621534739, title: Jak oblicza się podstawę wymiaru zasiłku macierzyńskiego?\n",
      "Question with nro: 621534931, title: Jak powinna wyglądać ewidencja faktury dokumentującej odsetki od częściowo spłaconej pożyczki, które to odsetki zaksięgowano bilansowo w poprzednim roku?\n",
      "Question with nro: 620953967, title: Jak prawidłowo obliczyć wynagrodzenie za okres zwolnienia z obowiązku świadczenia pracy?\n",
      "Question with nro: 620990962, title: Jak prawidłowo rozwiązać umowę o pracę?\n",
      "Question with nro: 621537213, title: Jak w księgach ciepłowni ująć koszty poniesione na edukację ekologiczną, a jak uzyskane na ten cel dofinansowanie?\n",
      "Question with nro: 621536187, title: Jak zaksięgować i w jakiej wartości otrzymany od gminy aport środków trwałych?\n",
      "Question with nro: 621537085, title: Jak zaksięgować spłatę pożyczki od córki udziałowca przez jej ojca z jednoczesnym zawarciem nowej umowy pożyczki z tym udziałowcem?\n",
      "Question with nro: 621536817, title: Kiedy powstaje moment podatkowy w CIT przy pośrednictwie sprzedaży energii/gazu w ciągu roku?\n",
      "Question with nro: 620983893, title: Kiedy pracownikowi należy udzielić zwolnienia na poszukiwanie pracy?\n",
      "Question with nro: 621536335, title: Kiedy roszczenie o wypłatę dodatku za sprawowanie funkcji opiekuna stażu ulega przedawnieniu?\n",
      "Question with nro: 621537222, title: Na jakim koncie powinny być zaksięgowane zapłacone odsetki z tytułu udzielonej pożyczki spółce, która sama zajmuje się udzielaniem pożyczek?\n",
      "Question with nro: 621535859, title: Od kiedy należy przyznać zasiłek pielęgnacyjny i wypłacić wyrównanie, jeśli wniosek o ustalenie stopnia niepełnosprawności został złożony we wrześniu 2015 r., a o zasiłek pielęgnacyjny - w październiku 2016 r.?\n",
      "Question with nro: 621535070, title: W jaki sposób, zgodnie z ustawą o pracownikach samorządowych, należy rozliczyć pracę w godzinach nadliczbowych kadry zarządzającej i kierowników wyodrębnionych komórek organizacyjnych?\n",
      "Question with nro: 621297221, title: W jaki sposób przekazuje się zaświadczenie płatnika składek ZUS Z-3b?\n",
      "Question with nro: 621532648, title: Czym różni się prowadzenie ksiąg rachunkowych jednostki prowadzącej kantor od innych podmiotów oraz na co należy zwracać szczególną uwagę podczas konstruowania polityki rachunkowości i zakładowego planu kont?\n"
     ]
    },
    {
     "name": "stdout",
     "output_type": "stream",
     "text": [
      "it scroll further\n"
     ]
    },
    {
     "name": "stderr",
     "output_type": "stream",
     "text": [
      "Question with nro: 621534739, title: Jak oblicza się podstawę wymiaru zasiłku macierzyńskiego?\n",
      "Question with nro: 621534931, title: Jak powinna wyglądać ewidencja faktury dokumentującej odsetki od częściowo spłaconej pożyczki, które to odsetki zaksięgowano bilansowo w poprzednim roku?\n",
      "Question with nro: 620953967, title: Jak prawidłowo obliczyć wynagrodzenie za okres zwolnienia z obowiązku świadczenia pracy?\n",
      "Question with nro: 620990962, title: Jak prawidłowo rozwiązać umowę o pracę?\n",
      "Question with nro: 621537213, title: Jak w księgach ciepłowni ująć koszty poniesione na edukację ekologiczną, a jak uzyskane na ten cel dofinansowanie?\n",
      "Question with nro: 621536187, title: Jak zaksięgować i w jakiej wartości otrzymany od gminy aport środków trwałych?\n",
      "Question with nro: 621537085, title: Jak zaksięgować spłatę pożyczki od córki udziałowca przez jej ojca z jednoczesnym zawarciem nowej umowy pożyczki z tym udziałowcem?\n",
      "Question with nro: 621536817, title: Kiedy powstaje moment podatkowy w CIT przy pośrednictwie sprzedaży energii/gazu w ciągu roku?\n",
      "Question with nro: 620983893, title: Kiedy pracownikowi należy udzielić zwolnienia na poszukiwanie pracy?\n",
      "Question with nro: 621536335, title: Kiedy roszczenie o wypłatę dodatku za sprawowanie funkcji opiekuna stażu ulega przedawnieniu?\n",
      "Question with nro: 621537222, title: Na jakim koncie powinny być zaksięgowane zapłacone odsetki z tytułu udzielonej pożyczki spółce, która sama zajmuje się udzielaniem pożyczek?\n",
      "Question with nro: 621535859, title: Od kiedy należy przyznać zasiłek pielęgnacyjny i wypłacić wyrównanie, jeśli wniosek o ustalenie stopnia niepełnosprawności został złożony we wrześniu 2015 r., a o zasiłek pielęgnacyjny - w październiku 2016 r.?\n",
      "Question with nro: 621535070, title: W jaki sposób, zgodnie z ustawą o pracownikach samorządowych, należy rozliczyć pracę w godzinach nadliczbowych kadry zarządzającej i kierowników wyodrębnionych komórek organizacyjnych?\n",
      "Question with nro: 621297221, title: W jaki sposób przekazuje się zaświadczenie płatnika składek ZUS Z-3b?\n",
      "Question with nro: 621532648, title: Czym różni się prowadzenie ksiąg rachunkowych jednostki prowadzącej kantor od innych podmiotów oraz na co należy zwracać szczególną uwagę podczas konstruowania polityki rachunkowości i zakładowego planu kont?\n"
     ]
    },
    {
     "name": "stdout",
     "output_type": "stream",
     "text": [
      "it scroll further\n",
      "It change to new range\n",
      "🗓️ Processing: 2016-12-01 → 2016-12-31\n"
     ]
    },
    {
     "name": "stderr",
     "output_type": "stream",
     "text": [
      "Question with nro: 621550069, title: Jak zwrócić nadpłatę w podatku od nieruchomości, leśnym i rolnym?\n",
      "Question with nro: 620961833, title: Kto jest płatnikiem PCC w przypadku zmiany umowy spółki cywilnej?\n",
      "Question with nro: 620989798, title: Z jaką stawką amortyzować nowo wybudowany pawilon handlowy trwale związany z gruntem?\n"
     ]
    },
    {
     "name": "stdout",
     "output_type": "stream",
     "text": [
      "it scroll further\n"
     ]
    },
    {
     "name": "stderr",
     "output_type": "stream",
     "text": [
      "Question with nro: 621550069, title: Jak zwrócić nadpłatę w podatku od nieruchomości, leśnym i rolnym?\n",
      "Question with nro: 620961833, title: Kto jest płatnikiem PCC w przypadku zmiany umowy spółki cywilnej?\n",
      "Question with nro: 620989798, title: Z jaką stawką amortyzować nowo wybudowany pawilon handlowy trwale związany z gruntem?\n"
     ]
    },
    {
     "name": "stdout",
     "output_type": "stream",
     "text": [
      "it scroll further\n"
     ]
    },
    {
     "name": "stderr",
     "output_type": "stream",
     "text": [
      "Question with nro: 621550069, title: Jak zwrócić nadpłatę w podatku od nieruchomości, leśnym i rolnym?\n",
      "Question with nro: 620961833, title: Kto jest płatnikiem PCC w przypadku zmiany umowy spółki cywilnej?\n",
      "Question with nro: 620989798, title: Z jaką stawką amortyzować nowo wybudowany pawilon handlowy trwale związany z gruntem?\n"
     ]
    },
    {
     "name": "stdout",
     "output_type": "stream",
     "text": [
      "it scroll further\n",
      "It change to new range\n",
      "🗓️ Processing: 2017-01-01 → 2017-01-31\n"
     ]
    },
    {
     "name": "stderr",
     "output_type": "stream",
     "text": [
      "Question with nro: 620873244, title: Jak prawidłowo powinno być zaewidencjonowane przerwanie urlopu wypoczynkowego przez pracownika?\n",
      "Question with nro: 621141701, title: Jak ustalić podstawę wymiaru zasiłku chorobowego pracownika?\n",
      "Question with nro: 620896898, title: Jak wprowadzić do regulaminu wynagradzania premię zadaniową?\n",
      "Question with nro: 620908673, title: Kiedy należy zawrzeć z pracownikiem umowę o odpowiedzialności materialnej?\n",
      "Question with nro: 620963820, title: Kiedy pracodawca może zawrzeć z pracownikami umowy o odpowiedzialności materialnej za powierzone mienie?\n",
      "Question with nro: 620844354, title: W jakiej formie należy prowadzić księgowość w spółce komandytowo-akcyjnej?\n",
      "Question with nro: 620791721, title: W którym miejscu świadectwa pracy należy wpisać informację o nieusprawiedliwionej nieobecności pracownika?\n"
     ]
    },
    {
     "name": "stdout",
     "output_type": "stream",
     "text": [
      "it scroll further\n"
     ]
    },
    {
     "name": "stderr",
     "output_type": "stream",
     "text": [
      "Question with nro: 620873244, title: Jak prawidłowo powinno być zaewidencjonowane przerwanie urlopu wypoczynkowego przez pracownika?\n",
      "Question with nro: 621141701, title: Jak ustalić podstawę wymiaru zasiłku chorobowego pracownika?\n",
      "Question with nro: 620896898, title: Jak wprowadzić do regulaminu wynagradzania premię zadaniową?\n",
      "Question with nro: 620908673, title: Kiedy należy zawrzeć z pracownikiem umowę o odpowiedzialności materialnej?\n",
      "Question with nro: 620963820, title: Kiedy pracodawca może zawrzeć z pracownikami umowy o odpowiedzialności materialnej za powierzone mienie?\n",
      "Question with nro: 620844354, title: W jakiej formie należy prowadzić księgowość w spółce komandytowo-akcyjnej?\n",
      "Question with nro: 620791721, title: W którym miejscu świadectwa pracy należy wpisać informację o nieusprawiedliwionej nieobecności pracownika?\n"
     ]
    },
    {
     "name": "stdout",
     "output_type": "stream",
     "text": [
      "it scroll further\n"
     ]
    },
    {
     "name": "stderr",
     "output_type": "stream",
     "text": [
      "Question with nro: 620873244, title: Jak prawidłowo powinno być zaewidencjonowane przerwanie urlopu wypoczynkowego przez pracownika?\n",
      "Question with nro: 621141701, title: Jak ustalić podstawę wymiaru zasiłku chorobowego pracownika?\n",
      "Question with nro: 620896898, title: Jak wprowadzić do regulaminu wynagradzania premię zadaniową?\n",
      "Question with nro: 620908673, title: Kiedy należy zawrzeć z pracownikiem umowę o odpowiedzialności materialnej?\n",
      "Question with nro: 620963820, title: Kiedy pracodawca może zawrzeć z pracownikami umowy o odpowiedzialności materialnej za powierzone mienie?\n",
      "Question with nro: 620844354, title: W jakiej formie należy prowadzić księgowość w spółce komandytowo-akcyjnej?\n",
      "Question with nro: 620791721, title: W którym miejscu świadectwa pracy należy wpisać informację o nieusprawiedliwionej nieobecności pracownika?\n"
     ]
    },
    {
     "name": "stdout",
     "output_type": "stream",
     "text": [
      "it scroll further\n",
      "It change to new range\n",
      "🗓️ Processing: 2017-02-01 → 2017-02-28\n"
     ]
    },
    {
     "name": "stderr",
     "output_type": "stream",
     "text": [
      "Question with nro: 621573490, title: Jak ustalić datę powstania przychodu, jeśli do zapłaty doszło w grudniu, a faktura została wystawiona w styczniu następnego roku?\n",
      "Question with nro: 621572995, title: W jaki sposób należy obliczyć dochód rodziny w sprawie świadczenia wychowawczego i zasiłku rodzinnego?\n",
      "Question with nro: 621221827, title: W jaki sposób rozliczyć w kosztach podatkowych wydatek na zakup okapu kuchennego oraz sprzętu kuchennego do zabudowy meblowej?\n",
      "Question with nro: 621086583, title: W jaki sposób sklasyfikować przyłącza energetyczne oraz wodno-kanalizacyjne, które będą obsługiwały 3 budynki nowo powstałej firmy?\n",
      "Question with nro: 621106847, title: W jaki sposób ująć w kosztach podatkowych wydatek na pług oraz szczotkę do czyszczenia ulic, jeśli współpracują one z większą ilością ciągników?\n",
      "Question with nro: 621132602, title: W jaki sposób ująć w kosztach podatkowych wydatki na przebudowę nieruchomości, związaną z dobudowaniem do niej nowego budynku?\n",
      "Question with nro: 621068723, title: W jaki sposób ustalić koszt podatkowy przy sprzedaży nieruchomości wniesionych aportem do spółki osobowej?\n"
     ]
    },
    {
     "name": "stdout",
     "output_type": "stream",
     "text": [
      "it scroll further\n"
     ]
    },
    {
     "name": "stderr",
     "output_type": "stream",
     "text": [
      "Question with nro: 621573490, title: Jak ustalić datę powstania przychodu, jeśli do zapłaty doszło w grudniu, a faktura została wystawiona w styczniu następnego roku?\n",
      "Question with nro: 621572995, title: W jaki sposób należy obliczyć dochód rodziny w sprawie świadczenia wychowawczego i zasiłku rodzinnego?\n",
      "Question with nro: 621221827, title: W jaki sposób rozliczyć w kosztach podatkowych wydatek na zakup okapu kuchennego oraz sprzętu kuchennego do zabudowy meblowej?\n",
      "Question with nro: 621086583, title: W jaki sposób sklasyfikować przyłącza energetyczne oraz wodno-kanalizacyjne, które będą obsługiwały 3 budynki nowo powstałej firmy?\n",
      "Question with nro: 621106847, title: W jaki sposób ująć w kosztach podatkowych wydatek na pług oraz szczotkę do czyszczenia ulic, jeśli współpracują one z większą ilością ciągników?\n",
      "Question with nro: 621132602, title: W jaki sposób ująć w kosztach podatkowych wydatki na przebudowę nieruchomości, związaną z dobudowaniem do niej nowego budynku?\n",
      "Question with nro: 621068723, title: W jaki sposób ustalić koszt podatkowy przy sprzedaży nieruchomości wniesionych aportem do spółki osobowej?\n"
     ]
    },
    {
     "name": "stdout",
     "output_type": "stream",
     "text": [
      "it scroll further\n"
     ]
    },
    {
     "name": "stderr",
     "output_type": "stream",
     "text": [
      "Question with nro: 621573490, title: Jak ustalić datę powstania przychodu, jeśli do zapłaty doszło w grudniu, a faktura została wystawiona w styczniu następnego roku?\n",
      "Question with nro: 621572995, title: W jaki sposób należy obliczyć dochód rodziny w sprawie świadczenia wychowawczego i zasiłku rodzinnego?\n",
      "Question with nro: 621221827, title: W jaki sposób rozliczyć w kosztach podatkowych wydatek na zakup okapu kuchennego oraz sprzętu kuchennego do zabudowy meblowej?\n",
      "Question with nro: 621086583, title: W jaki sposób sklasyfikować przyłącza energetyczne oraz wodno-kanalizacyjne, które będą obsługiwały 3 budynki nowo powstałej firmy?\n",
      "Question with nro: 621106847, title: W jaki sposób ująć w kosztach podatkowych wydatek na pług oraz szczotkę do czyszczenia ulic, jeśli współpracują one z większą ilością ciągników?\n",
      "Question with nro: 621132602, title: W jaki sposób ująć w kosztach podatkowych wydatki na przebudowę nieruchomości, związaną z dobudowaniem do niej nowego budynku?\n",
      "Question with nro: 621068723, title: W jaki sposób ustalić koszt podatkowy przy sprzedaży nieruchomości wniesionych aportem do spółki osobowej?\n"
     ]
    },
    {
     "name": "stdout",
     "output_type": "stream",
     "text": [
      "it scroll further\n",
      "It change to new range\n",
      "🗓️ Processing: 2017-03-01 → 2017-03-31\n"
     ]
    },
    {
     "name": "stderr",
     "output_type": "stream",
     "text": [
      "Question with nro: 621586604, title: W jakiej wysokości podatnik może odliczyć VAT od zakupu urządzenia grzewczego do samochodu?\n",
      "Question with nro: 621587328, title: W jaki sposób spółka z o. o. jako dłużnik powinna udokumentować i rozliczyć z punktu widzenia przepisów o VAT sprzedaż działek w postępowaniu komorniczym?\n"
     ]
    },
    {
     "name": "stdout",
     "output_type": "stream",
     "text": [
      "it scroll further\n"
     ]
    },
    {
     "name": "stderr",
     "output_type": "stream",
     "text": [
      "Question with nro: 621586604, title: W jakiej wysokości podatnik może odliczyć VAT od zakupu urządzenia grzewczego do samochodu?\n",
      "Question with nro: 621587328, title: W jaki sposób spółka z o. o. jako dłużnik powinna udokumentować i rozliczyć z punktu widzenia przepisów o VAT sprzedaż działek w postępowaniu komorniczym?\n"
     ]
    },
    {
     "name": "stdout",
     "output_type": "stream",
     "text": [
      "it scroll further\n"
     ]
    },
    {
     "name": "stderr",
     "output_type": "stream",
     "text": [
      "Question with nro: 621586604, title: W jakiej wysokości podatnik może odliczyć VAT od zakupu urządzenia grzewczego do samochodu?\n",
      "Question with nro: 621587328, title: W jaki sposób spółka z o. o. jako dłużnik powinna udokumentować i rozliczyć z punktu widzenia przepisów o VAT sprzedaż działek w postępowaniu komorniczym?\n"
     ]
    },
    {
     "name": "stdout",
     "output_type": "stream",
     "text": [
      "it scroll further\n",
      "It change to new range\n",
      "🗓️ Processing: 2017-04-01 → 2017-04-30\n"
     ]
    },
    {
     "name": "stderr",
     "output_type": "stream",
     "text": [
      "Question with nro: 621604912, title: W jaki sposób opodatkować VAT świadczenie usług w ambasadzie Francji w Warszawie?\n",
      "Question with nro: 621604959, title: W jaki sposób podatnik powinien wykazać dostawę samochodu w deklaracji VAT-7 i czy powinna być ona wykazana w deklaracji podsumowującej UE?\n",
      "Question with nro: 621605005, title: W jaki sposób rozliczyć w PKPiR zwrot telefonu komórkowego?\n",
      "Question with nro: 621604981, title: Czy dla wynajmującego nieodpłatne udostępnienie budynku do prac instalacyjnych rodzi obowiązek podatkowy?\n",
      "Question with nro: 621604645, title: Czy przychód z tytułu zatrzymanej kaucji podlega opodatkowaniu?\n",
      "Question with nro: 620871643, title: Czy dla celów uzyskania certyfikatu E101 przychód uzyskany z usługi rekrutacji pracowników do pracy za granicą jest przychodem z Polski, czy z zagranicy?\n",
      "Question with nro: 620884600, title: Czy dochody obywatela Austrii, prowadzącego działalność na terenie Austrii oraz zakład przedsiębiorstwa zagranicznego w Polsce, podlegają opodatkowaniu w Polsce?\n",
      "Question with nro: 620868771, title: Czy odpisy amortyzacyjne przypadające na okres rozliczania się na ryczałcie stanowią koszty uzyskania przychodu?\n",
      "Question with nro: 620920234, title: Jaki charakter mają gratyfikacje otrzymywane w związku z zakupami dokonywanymi od kontrahenta?\n",
      "Question with nro: 620880199, title: Jakie będą skutki zakupu przez podatnika prowadzącego działalność gospodarczą na swój koszt biletu PKP dla osoby również prowadzącej działalność, z którą współpracuje?\n",
      "Question with nro: 620895562, title: Jakie istnieją zasady opodatkowania dochodów osiągniętych w Polsce przez obywatela Argentyny jako osoby fizycznej niemającej certyfikatu rezydencji podatkowej w Polsce?\n",
      "Question with nro: 620887773, title: Jak należy rozliczyć dochody ze sprzedaży udziałów w spółce jawnej?\n"
     ]
    },
    {
     "name": "stdout",
     "output_type": "stream",
     "text": [
      "it scroll further\n"
     ]
    },
    {
     "name": "stderr",
     "output_type": "stream",
     "text": [
      "Question with nro: 621604912, title: W jaki sposób opodatkować VAT świadczenie usług w ambasadzie Francji w Warszawie?\n",
      "Question with nro: 621604959, title: W jaki sposób podatnik powinien wykazać dostawę samochodu w deklaracji VAT-7 i czy powinna być ona wykazana w deklaracji podsumowującej UE?\n",
      "Question with nro: 621605005, title: W jaki sposób rozliczyć w PKPiR zwrot telefonu komórkowego?\n",
      "Question with nro: 621604981, title: Czy dla wynajmującego nieodpłatne udostępnienie budynku do prac instalacyjnych rodzi obowiązek podatkowy?\n",
      "Question with nro: 621604645, title: Czy przychód z tytułu zatrzymanej kaucji podlega opodatkowaniu?\n",
      "Question with nro: 620871643, title: Czy dla celów uzyskania certyfikatu E101 przychód uzyskany z usługi rekrutacji pracowników do pracy za granicą jest przychodem z Polski, czy z zagranicy?\n",
      "Question with nro: 620884600, title: Czy dochody obywatela Austrii, prowadzącego działalność na terenie Austrii oraz zakład przedsiębiorstwa zagranicznego w Polsce, podlegają opodatkowaniu w Polsce?\n",
      "Question with nro: 620868771, title: Czy odpisy amortyzacyjne przypadające na okres rozliczania się na ryczałcie stanowią koszty uzyskania przychodu?\n",
      "Question with nro: 620920234, title: Jaki charakter mają gratyfikacje otrzymywane w związku z zakupami dokonywanymi od kontrahenta?\n",
      "Question with nro: 620880199, title: Jakie będą skutki zakupu przez podatnika prowadzącego działalność gospodarczą na swój koszt biletu PKP dla osoby również prowadzącej działalność, z którą współpracuje?\n",
      "Question with nro: 620895562, title: Jakie istnieją zasady opodatkowania dochodów osiągniętych w Polsce przez obywatela Argentyny jako osoby fizycznej niemającej certyfikatu rezydencji podatkowej w Polsce?\n",
      "Question with nro: 620887773, title: Jak należy rozliczyć dochody ze sprzedaży udziałów w spółce jawnej?\n"
     ]
    },
    {
     "name": "stdout",
     "output_type": "stream",
     "text": [
      "it scroll further\n"
     ]
    },
    {
     "name": "stderr",
     "output_type": "stream",
     "text": [
      "Question with nro: 621604912, title: W jaki sposób opodatkować VAT świadczenie usług w ambasadzie Francji w Warszawie?\n",
      "Question with nro: 621604959, title: W jaki sposób podatnik powinien wykazać dostawę samochodu w deklaracji VAT-7 i czy powinna być ona wykazana w deklaracji podsumowującej UE?\n",
      "Question with nro: 621605005, title: W jaki sposób rozliczyć w PKPiR zwrot telefonu komórkowego?\n",
      "Question with nro: 621604981, title: Czy dla wynajmującego nieodpłatne udostępnienie budynku do prac instalacyjnych rodzi obowiązek podatkowy?\n",
      "Question with nro: 621604645, title: Czy przychód z tytułu zatrzymanej kaucji podlega opodatkowaniu?\n",
      "Question with nro: 620871643, title: Czy dla celów uzyskania certyfikatu E101 przychód uzyskany z usługi rekrutacji pracowników do pracy za granicą jest przychodem z Polski, czy z zagranicy?\n",
      "Question with nro: 620884600, title: Czy dochody obywatela Austrii, prowadzącego działalność na terenie Austrii oraz zakład przedsiębiorstwa zagranicznego w Polsce, podlegają opodatkowaniu w Polsce?\n",
      "Question with nro: 620868771, title: Czy odpisy amortyzacyjne przypadające na okres rozliczania się na ryczałcie stanowią koszty uzyskania przychodu?\n",
      "Question with nro: 620920234, title: Jaki charakter mają gratyfikacje otrzymywane w związku z zakupami dokonywanymi od kontrahenta?\n",
      "Question with nro: 620880199, title: Jakie będą skutki zakupu przez podatnika prowadzącego działalność gospodarczą na swój koszt biletu PKP dla osoby również prowadzącej działalność, z którą współpracuje?\n",
      "Question with nro: 620895562, title: Jakie istnieją zasady opodatkowania dochodów osiągniętych w Polsce przez obywatela Argentyny jako osoby fizycznej niemającej certyfikatu rezydencji podatkowej w Polsce?\n",
      "Question with nro: 620887773, title: Jak należy rozliczyć dochody ze sprzedaży udziałów w spółce jawnej?\n"
     ]
    },
    {
     "name": "stdout",
     "output_type": "stream",
     "text": [
      "it scroll further\n",
      "It change to new range\n",
      "🗓️ Processing: 2017-05-01 → 2017-05-31\n"
     ]
    },
    {
     "name": "stderr",
     "output_type": "stream",
     "text": [
      "Question with nro: 621202583, title: Czy sfinansowanie szkolenia pracownikowi tymczasowemu generuje po jego stronie przychód podatkowy?\n",
      "Question with nro: 620916610, title: Czy wynagrodzenie wypłacone pracownikom oddelegowanym do pracy do Holandii i Belgii podlega opodatkowaniu podatkiem dochodowym od osób fizycznych w Polsce?\n",
      "Question with nro: 620937934, title: Jakie skutki podatkowe dla spółki jawnej wywoła wniesienie przez jednego ze wspólników aportu w postaci samochodu, jako podwyższenie kapitału spółki?\n",
      "Question with nro: 620940052, title: Na jakich zasadach powinna opodatkować dochód z najmu w Polsce, osoba fizyczna prowadząca działalność gospodarczą zarejestrowaną w Luksemburgu?\n",
      "Question with nro: 620936569, title: Na jakich zasadach rozlicza się Polak zamieszkujący w Nowej Zelandii, otrzymujący w Polsce wynagrodzenie?\n",
      "Question with nro: 620951823, title: W jaki sposób dokonać rocznego rozliczenia wspólnika spółki jawnej, jeśli w trakcie roku błędnie wyliczano zaliczki na podatek dochodowy?\n",
      "Question with nro: 620952795, title: W jaki sposób należy opodatkować dochody uzyskana zarówno w Polsce jak i Hong Kongu, jeżeli podatniczka przebywa w Hong Kongu ponad 183 dni w roku?\n"
     ]
    },
    {
     "name": "stdout",
     "output_type": "stream",
     "text": [
      "it scroll further\n"
     ]
    },
    {
     "name": "stderr",
     "output_type": "stream",
     "text": [
      "Question with nro: 621202583, title: Czy sfinansowanie szkolenia pracownikowi tymczasowemu generuje po jego stronie przychód podatkowy?\n",
      "Question with nro: 620916610, title: Czy wynagrodzenie wypłacone pracownikom oddelegowanym do pracy do Holandii i Belgii podlega opodatkowaniu podatkiem dochodowym od osób fizycznych w Polsce?\n",
      "Question with nro: 620937934, title: Jakie skutki podatkowe dla spółki jawnej wywoła wniesienie przez jednego ze wspólników aportu w postaci samochodu, jako podwyższenie kapitału spółki?\n",
      "Question with nro: 620940052, title: Na jakich zasadach powinna opodatkować dochód z najmu w Polsce, osoba fizyczna prowadząca działalność gospodarczą zarejestrowaną w Luksemburgu?\n",
      "Question with nro: 620936569, title: Na jakich zasadach rozlicza się Polak zamieszkujący w Nowej Zelandii, otrzymujący w Polsce wynagrodzenie?\n",
      "Question with nro: 620951823, title: W jaki sposób dokonać rocznego rozliczenia wspólnika spółki jawnej, jeśli w trakcie roku błędnie wyliczano zaliczki na podatek dochodowy?\n",
      "Question with nro: 620952795, title: W jaki sposób należy opodatkować dochody uzyskana zarówno w Polsce jak i Hong Kongu, jeżeli podatniczka przebywa w Hong Kongu ponad 183 dni w roku?\n"
     ]
    },
    {
     "name": "stdout",
     "output_type": "stream",
     "text": [
      "it scroll further\n"
     ]
    },
    {
     "name": "stderr",
     "output_type": "stream",
     "text": [
      "Question with nro: 621202583, title: Czy sfinansowanie szkolenia pracownikowi tymczasowemu generuje po jego stronie przychód podatkowy?\n",
      "Question with nro: 620916610, title: Czy wynagrodzenie wypłacone pracownikom oddelegowanym do pracy do Holandii i Belgii podlega opodatkowaniu podatkiem dochodowym od osób fizycznych w Polsce?\n",
      "Question with nro: 620937934, title: Jakie skutki podatkowe dla spółki jawnej wywoła wniesienie przez jednego ze wspólników aportu w postaci samochodu, jako podwyższenie kapitału spółki?\n",
      "Question with nro: 620940052, title: Na jakich zasadach powinna opodatkować dochód z najmu w Polsce, osoba fizyczna prowadząca działalność gospodarczą zarejestrowaną w Luksemburgu?\n",
      "Question with nro: 620936569, title: Na jakich zasadach rozlicza się Polak zamieszkujący w Nowej Zelandii, otrzymujący w Polsce wynagrodzenie?\n",
      "Question with nro: 620951823, title: W jaki sposób dokonać rocznego rozliczenia wspólnika spółki jawnej, jeśli w trakcie roku błędnie wyliczano zaliczki na podatek dochodowy?\n",
      "Question with nro: 620952795, title: W jaki sposób należy opodatkować dochody uzyskana zarówno w Polsce jak i Hong Kongu, jeżeli podatniczka przebywa w Hong Kongu ponad 183 dni w roku?\n"
     ]
    },
    {
     "name": "stdout",
     "output_type": "stream",
     "text": [
      "it scroll further\n",
      "It change to new range\n",
      "🗓️ Processing: 2017-06-01 → 2017-06-30\n"
     ]
    },
    {
     "name": "stderr",
     "output_type": "stream",
     "text": [
      "Question with nro: 621641001, title: Jak prawidłowo rozliczać na gruncie VAT zakup apartamentu na wynajem, jeśli prowadzę jednocześnie działalność gospodarczą zwolnioną przedmiotowo z VAT?\n",
      "Question with nro: 621367080, title: Jak rozliczać przychody spółki jawnej po śmierci jednego ze wspólników?\n",
      "Question with nro: 621641868, title: Jak transakcja sprzedaży udziałów powinna być opisana w dokumentacji cen transferowych?\n",
      "Question with nro: 621452878, title: Jak ustalić dochód przy zamianie nieruchomości?\n",
      "Question with nro: 620780021, title: Jak ustalić koszt uzyskania przychodu w przypadku zbycia kolekcji numizmatów?\n",
      "Question with nro: 621641198, title: Jak ustalić wysokość dotacji z tytułu prowadzenia kwalifikacyjnych kursów zawodowych?\n",
      "Question with nro: 620996487, title: Jak wyliczyć dochód na koniec roku przy różnicy remanentów, jeżeli remanent początkowy sporządzony jest w kwocie brutto (zwolnienie z VAT), a końcowy w kwocie netto (w trakcie roku zostałem podatnikiem VAT bo przekroczyłem obrót 200.000 zł)?\n",
      "Question with nro: 621641767, title: Kto powinien ubiegać się o zwrot nienależnie pobranego podatku u źródła?\n",
      "Question with nro: 621425075, title: W jaki sposób amortyzować środki trwałe po przejściu z norm szacunkowych na pełną księgowość?\n",
      "Question with nro: 621004277, title: W jaki sposób należy opodatkować dochody z najmu nieruchomości położonej na terytorium Polski, jeśli podatnik jest obywatelem Belgii i tam mieszka oraz pracuje?\n",
      "Question with nro: 621103597, title: W jaki sposób opodatkować dochody menedżera, który nie jest polskim rezydentem podatkowym?\n",
      "Question with nro: 621641328, title: W jaki sposób powinien postąpić pracodawca, jeśli pracownik ze względów zdrowotnych nie może nosić obuwia ochronnego?\n",
      "Question with nro: 621397108, title: W którym momencie należy skorygować koszty w oparciu o fakturę korektę?\n"
     ]
    },
    {
     "name": "stdout",
     "output_type": "stream",
     "text": [
      "it scroll further\n"
     ]
    },
    {
     "name": "stderr",
     "output_type": "stream",
     "text": [
      "Question with nro: 621641001, title: Jak prawidłowo rozliczać na gruncie VAT zakup apartamentu na wynajem, jeśli prowadzę jednocześnie działalność gospodarczą zwolnioną przedmiotowo z VAT?\n",
      "Question with nro: 621367080, title: Jak rozliczać przychody spółki jawnej po śmierci jednego ze wspólników?\n",
      "Question with nro: 621641868, title: Jak transakcja sprzedaży udziałów powinna być opisana w dokumentacji cen transferowych?\n",
      "Question with nro: 621452878, title: Jak ustalić dochód przy zamianie nieruchomości?\n",
      "Question with nro: 620780021, title: Jak ustalić koszt uzyskania przychodu w przypadku zbycia kolekcji numizmatów?\n",
      "Question with nro: 621641198, title: Jak ustalić wysokość dotacji z tytułu prowadzenia kwalifikacyjnych kursów zawodowych?\n",
      "Question with nro: 620996487, title: Jak wyliczyć dochód na koniec roku przy różnicy remanentów, jeżeli remanent początkowy sporządzony jest w kwocie brutto (zwolnienie z VAT), a końcowy w kwocie netto (w trakcie roku zostałem podatnikiem VAT bo przekroczyłem obrót 200.000 zł)?\n",
      "Question with nro: 621641767, title: Kto powinien ubiegać się o zwrot nienależnie pobranego podatku u źródła?\n",
      "Question with nro: 621425075, title: W jaki sposób amortyzować środki trwałe po przejściu z norm szacunkowych na pełną księgowość?\n",
      "Question with nro: 621004277, title: W jaki sposób należy opodatkować dochody z najmu nieruchomości położonej na terytorium Polski, jeśli podatnik jest obywatelem Belgii i tam mieszka oraz pracuje?\n",
      "Question with nro: 621103597, title: W jaki sposób opodatkować dochody menedżera, który nie jest polskim rezydentem podatkowym?\n",
      "Question with nro: 621641328, title: W jaki sposób powinien postąpić pracodawca, jeśli pracownik ze względów zdrowotnych nie może nosić obuwia ochronnego?\n",
      "Question with nro: 621397108, title: W którym momencie należy skorygować koszty w oparciu o fakturę korektę?\n"
     ]
    },
    {
     "name": "stdout",
     "output_type": "stream",
     "text": [
      "it scroll further\n"
     ]
    },
    {
     "name": "stderr",
     "output_type": "stream",
     "text": [
      "Question with nro: 621641001, title: Jak prawidłowo rozliczać na gruncie VAT zakup apartamentu na wynajem, jeśli prowadzę jednocześnie działalność gospodarczą zwolnioną przedmiotowo z VAT?\n",
      "Question with nro: 621367080, title: Jak rozliczać przychody spółki jawnej po śmierci jednego ze wspólników?\n",
      "Question with nro: 621641868, title: Jak transakcja sprzedaży udziałów powinna być opisana w dokumentacji cen transferowych?\n",
      "Question with nro: 621452878, title: Jak ustalić dochód przy zamianie nieruchomości?\n",
      "Question with nro: 620780021, title: Jak ustalić koszt uzyskania przychodu w przypadku zbycia kolekcji numizmatów?\n",
      "Question with nro: 621641198, title: Jak ustalić wysokość dotacji z tytułu prowadzenia kwalifikacyjnych kursów zawodowych?\n",
      "Question with nro: 620996487, title: Jak wyliczyć dochód na koniec roku przy różnicy remanentów, jeżeli remanent początkowy sporządzony jest w kwocie brutto (zwolnienie z VAT), a końcowy w kwocie netto (w trakcie roku zostałem podatnikiem VAT bo przekroczyłem obrót 200.000 zł)?\n",
      "Question with nro: 621641767, title: Kto powinien ubiegać się o zwrot nienależnie pobranego podatku u źródła?\n",
      "Question with nro: 621425075, title: W jaki sposób amortyzować środki trwałe po przejściu z norm szacunkowych na pełną księgowość?\n",
      "Question with nro: 621004277, title: W jaki sposób należy opodatkować dochody z najmu nieruchomości położonej na terytorium Polski, jeśli podatnik jest obywatelem Belgii i tam mieszka oraz pracuje?\n",
      "Question with nro: 621103597, title: W jaki sposób opodatkować dochody menedżera, który nie jest polskim rezydentem podatkowym?\n",
      "Question with nro: 621641328, title: W jaki sposób powinien postąpić pracodawca, jeśli pracownik ze względów zdrowotnych nie może nosić obuwia ochronnego?\n",
      "Question with nro: 621397108, title: W którym momencie należy skorygować koszty w oparciu o fakturę korektę?\n"
     ]
    },
    {
     "name": "stdout",
     "output_type": "stream",
     "text": [
      "it scroll further\n",
      "It change to new range\n",
      "🗓️ Processing: 2017-07-01 → 2017-07-31\n"
     ]
    },
    {
     "name": "stderr",
     "output_type": "stream",
     "text": [
      "Question with nro: 620959903, title: Jaka jest procedura uzyskania certyfikatu rezydencji?\n",
      "Question with nro: 621204163, title: Jak wycenić środki trwałe, które zostaną przeznaczone na podwyższenia kapitału zakładowego spółki z o.o.?\n",
      "Question with nro: 620803069, title: W jaki sposób należy zakwalifikować suszarnię do drewna?\n",
      "Question with nro: 621157256, title: W jaki sposób opodatkować odsetki od lokat założonych na terytorium polski przez obywateli Niemiec?\n",
      "Question with nro: 620966303, title: W jaki sposób polski rezydent podatkowy powinien się rozliczyć z tytułu wypłaty z funduszu ubezpieczeniowo-inwestycyjnego, jaką otrzymał po 10 latach pracy w Niemczech?\n"
     ]
    },
    {
     "name": "stdout",
     "output_type": "stream",
     "text": [
      "it scroll further\n"
     ]
    },
    {
     "name": "stderr",
     "output_type": "stream",
     "text": [
      "Question with nro: 620959903, title: Jaka jest procedura uzyskania certyfikatu rezydencji?\n",
      "Question with nro: 621204163, title: Jak wycenić środki trwałe, które zostaną przeznaczone na podwyższenia kapitału zakładowego spółki z o.o.?\n",
      "Question with nro: 620803069, title: W jaki sposób należy zakwalifikować suszarnię do drewna?\n",
      "Question with nro: 621157256, title: W jaki sposób opodatkować odsetki od lokat założonych na terytorium polski przez obywateli Niemiec?\n",
      "Question with nro: 620966303, title: W jaki sposób polski rezydent podatkowy powinien się rozliczyć z tytułu wypłaty z funduszu ubezpieczeniowo-inwestycyjnego, jaką otrzymał po 10 latach pracy w Niemczech?\n"
     ]
    },
    {
     "name": "stdout",
     "output_type": "stream",
     "text": [
      "it scroll further\n"
     ]
    },
    {
     "name": "stderr",
     "output_type": "stream",
     "text": [
      "Question with nro: 620959903, title: Jaka jest procedura uzyskania certyfikatu rezydencji?\n",
      "Question with nro: 621204163, title: Jak wycenić środki trwałe, które zostaną przeznaczone na podwyższenia kapitału zakładowego spółki z o.o.?\n",
      "Question with nro: 620803069, title: W jaki sposób należy zakwalifikować suszarnię do drewna?\n",
      "Question with nro: 621157256, title: W jaki sposób opodatkować odsetki od lokat założonych na terytorium polski przez obywateli Niemiec?\n",
      "Question with nro: 620966303, title: W jaki sposób polski rezydent podatkowy powinien się rozliczyć z tytułu wypłaty z funduszu ubezpieczeniowo-inwestycyjnego, jaką otrzymał po 10 latach pracy w Niemczech?\n"
     ]
    },
    {
     "name": "stdout",
     "output_type": "stream",
     "text": [
      "it scroll further\n",
      "It change to new range\n",
      "🗓️ Processing: 2017-08-01 → 2017-08-31\n"
     ]
    },
    {
     "name": "stderr",
     "output_type": "stream",
     "text": [
      "Question with nro: 621670720, title: Czy sprzedaż działki zakupionej w calach prywatnych podlega opodatkowaniu?\n",
      "Question with nro: 621668909, title: Czy wydatki poniesione w związku z przewodem doktorskim oraz specjalizacją stanowią koszty uzyskania przychodów?\n",
      "Question with nro: 621668659, title: Czy wydzielenie składników majątkowych spółki z o.o. do nowo powstałej lub istniejącej spółki z o.o. będzie opodatkowane podatkiem VAT?\n",
      "Question with nro: 621669636, title: Czy zatrudnienie na umowę o pracę informatyka, obywatela Ukrainy, do pracy wykonywanej zdalnie z miejsca zamieszkiwania na terenie Ukrainy powoduje obowiązek zgłoszenia do ubezpieczenia w ZUS?\n",
      "Question with nro: 621667398, title: Jaka jest klasyfikacja budżetowa nagród konkursowych otrzymanych w drodze darowizny?\n",
      "Question with nro: 621668188, title: Jak należy postąpić z pracownikiem, który po nieobecności z tytułu zwolnienia lekarskiego nie stawił się do pracy?\n",
      "Question with nro: 621670100, title: Jak powinna zostać udokumentowana dostawa, w której polska firma zakupiła towary od niemieckiego kontrahenta, a następnie sprzedała te towary do firmy ukraińskiej?\n",
      "Question with nro: 621670743, title: Jak prawidłowo określić miejsce świadczenia usług najmu powierzchni targowych w celach promocyjnych?\n",
      "Question with nro: 621670101, title: Jak w deklaracji VAT-7 wykazać wartość netto w zakupach i w VAT UE?\n",
      "Question with nro: 621669637, title: Jak wyliczyć podstawę do urlopu wypoczynkowego przy dużych wahaniach wysokości wynagrodzenia?\n",
      "Question with nro: 621670138, title: Kto powinien powołać komisje kasacyjną dla majątku będącego w dyspozycji jednostek obsługiwanych?\n",
      "Question with nro: 621668655, title: W jaki sposób można odliczać VAT od paliwa w przypadku wykorzystywania tego samego samochodu do świadczenia usług przewozu osób (taksówkowych) oraz w zakresie handlu tkaninami?\n",
      "Question with nro: 621209352, title: W jaki sposób należy liczyć roczny okres, w ciągu którego samochód osobowy nie podlega zaliczeniu do środków trwałych?\n"
     ]
    },
    {
     "name": "stdout",
     "output_type": "stream",
     "text": [
      "it scroll further\n"
     ]
    },
    {
     "name": "stderr",
     "output_type": "stream",
     "text": [
      "Question with nro: 621670720, title: Czy sprzedaż działki zakupionej w calach prywatnych podlega opodatkowaniu?\n",
      "Question with nro: 621668909, title: Czy wydatki poniesione w związku z przewodem doktorskim oraz specjalizacją stanowią koszty uzyskania przychodów?\n",
      "Question with nro: 621668659, title: Czy wydzielenie składników majątkowych spółki z o.o. do nowo powstałej lub istniejącej spółki z o.o. będzie opodatkowane podatkiem VAT?\n",
      "Question with nro: 621669636, title: Czy zatrudnienie na umowę o pracę informatyka, obywatela Ukrainy, do pracy wykonywanej zdalnie z miejsca zamieszkiwania na terenie Ukrainy powoduje obowiązek zgłoszenia do ubezpieczenia w ZUS?\n",
      "Question with nro: 621667398, title: Jaka jest klasyfikacja budżetowa nagród konkursowych otrzymanych w drodze darowizny?\n",
      "Question with nro: 621668188, title: Jak należy postąpić z pracownikiem, który po nieobecności z tytułu zwolnienia lekarskiego nie stawił się do pracy?\n",
      "Question with nro: 621670100, title: Jak powinna zostać udokumentowana dostawa, w której polska firma zakupiła towary od niemieckiego kontrahenta, a następnie sprzedała te towary do firmy ukraińskiej?\n",
      "Question with nro: 621670743, title: Jak prawidłowo określić miejsce świadczenia usług najmu powierzchni targowych w celach promocyjnych?\n",
      "Question with nro: 621670101, title: Jak w deklaracji VAT-7 wykazać wartość netto w zakupach i w VAT UE?\n",
      "Question with nro: 621669637, title: Jak wyliczyć podstawę do urlopu wypoczynkowego przy dużych wahaniach wysokości wynagrodzenia?\n",
      "Question with nro: 621670138, title: Kto powinien powołać komisje kasacyjną dla majątku będącego w dyspozycji jednostek obsługiwanych?\n",
      "Question with nro: 621668655, title: W jaki sposób można odliczać VAT od paliwa w przypadku wykorzystywania tego samego samochodu do świadczenia usług przewozu osób (taksówkowych) oraz w zakresie handlu tkaninami?\n",
      "Question with nro: 621209352, title: W jaki sposób należy liczyć roczny okres, w ciągu którego samochód osobowy nie podlega zaliczeniu do środków trwałych?\n"
     ]
    },
    {
     "name": "stdout",
     "output_type": "stream",
     "text": [
      "it scroll further\n"
     ]
    },
    {
     "name": "stderr",
     "output_type": "stream",
     "text": [
      "Question with nro: 621670720, title: Czy sprzedaż działki zakupionej w calach prywatnych podlega opodatkowaniu?\n",
      "Question with nro: 621668909, title: Czy wydatki poniesione w związku z przewodem doktorskim oraz specjalizacją stanowią koszty uzyskania przychodów?\n",
      "Question with nro: 621668659, title: Czy wydzielenie składników majątkowych spółki z o.o. do nowo powstałej lub istniejącej spółki z o.o. będzie opodatkowane podatkiem VAT?\n",
      "Question with nro: 621669636, title: Czy zatrudnienie na umowę o pracę informatyka, obywatela Ukrainy, do pracy wykonywanej zdalnie z miejsca zamieszkiwania na terenie Ukrainy powoduje obowiązek zgłoszenia do ubezpieczenia w ZUS?\n",
      "Question with nro: 621667398, title: Jaka jest klasyfikacja budżetowa nagród konkursowych otrzymanych w drodze darowizny?\n",
      "Question with nro: 621668188, title: Jak należy postąpić z pracownikiem, który po nieobecności z tytułu zwolnienia lekarskiego nie stawił się do pracy?\n",
      "Question with nro: 621670100, title: Jak powinna zostać udokumentowana dostawa, w której polska firma zakupiła towary od niemieckiego kontrahenta, a następnie sprzedała te towary do firmy ukraińskiej?\n",
      "Question with nro: 621670743, title: Jak prawidłowo określić miejsce świadczenia usług najmu powierzchni targowych w celach promocyjnych?\n",
      "Question with nro: 621670101, title: Jak w deklaracji VAT-7 wykazać wartość netto w zakupach i w VAT UE?\n",
      "Question with nro: 621669637, title: Jak wyliczyć podstawę do urlopu wypoczynkowego przy dużych wahaniach wysokości wynagrodzenia?\n",
      "Question with nro: 621670138, title: Kto powinien powołać komisje kasacyjną dla majątku będącego w dyspozycji jednostek obsługiwanych?\n",
      "Question with nro: 621668655, title: W jaki sposób można odliczać VAT od paliwa w przypadku wykorzystywania tego samego samochodu do świadczenia usług przewozu osób (taksówkowych) oraz w zakresie handlu tkaninami?\n",
      "Question with nro: 621209352, title: W jaki sposób należy liczyć roczny okres, w ciągu którego samochód osobowy nie podlega zaliczeniu do środków trwałych?\n"
     ]
    },
    {
     "name": "stdout",
     "output_type": "stream",
     "text": [
      "it scroll further\n",
      "It change to new range\n",
      "🗓️ Processing: 2017-09-01 → 2017-09-30\n"
     ]
    },
    {
     "name": "stderr",
     "output_type": "stream",
     "text": [
      "Question with nro: 621680349, title: Jak należy przyjąć do ewidencji zakupione akcje?\n",
      "Question with nro: 621680128, title: Jak powinny wyglądać księgowania w jednostce w związku z wystawieniem faktury wewnętrznej na VAT?\n",
      "Question with nro: 621680204, title: Jak prawidłowo zaewidencjonować prawo wieczystego użytkowania działek bilansowo i pozabilansowo?\n",
      "Question with nro: 621684319, title: Jak samorządowa jednostka kultury powinna rozliczyć stratę przewyższającą stan funduszu?\n",
      "Question with nro: 621684051, title: Kiedy powstaje zakład?\n"
     ]
    },
    {
     "name": "stdout",
     "output_type": "stream",
     "text": [
      "it scroll further\n"
     ]
    },
    {
     "name": "stderr",
     "output_type": "stream",
     "text": [
      "Question with nro: 621680349, title: Jak należy przyjąć do ewidencji zakupione akcje?\n",
      "Question with nro: 621680128, title: Jak powinny wyglądać księgowania w jednostce w związku z wystawieniem faktury wewnętrznej na VAT?\n",
      "Question with nro: 621680204, title: Jak prawidłowo zaewidencjonować prawo wieczystego użytkowania działek bilansowo i pozabilansowo?\n",
      "Question with nro: 621684319, title: Jak samorządowa jednostka kultury powinna rozliczyć stratę przewyższającą stan funduszu?\n",
      "Question with nro: 621684051, title: Kiedy powstaje zakład?\n"
     ]
    },
    {
     "name": "stdout",
     "output_type": "stream",
     "text": [
      "it scroll further\n"
     ]
    },
    {
     "name": "stderr",
     "output_type": "stream",
     "text": [
      "Question with nro: 621680349, title: Jak należy przyjąć do ewidencji zakupione akcje?\n",
      "Question with nro: 621680128, title: Jak powinny wyglądać księgowania w jednostce w związku z wystawieniem faktury wewnętrznej na VAT?\n",
      "Question with nro: 621680204, title: Jak prawidłowo zaewidencjonować prawo wieczystego użytkowania działek bilansowo i pozabilansowo?\n",
      "Question with nro: 621684319, title: Jak samorządowa jednostka kultury powinna rozliczyć stratę przewyższającą stan funduszu?\n",
      "Question with nro: 621684051, title: Kiedy powstaje zakład?\n"
     ]
    },
    {
     "name": "stdout",
     "output_type": "stream",
     "text": [
      "it scroll further\n",
      "It change to new range\n",
      "🗓️ Processing: 2017-10-01 → 2017-10-31\n"
     ]
    },
    {
     "name": "stderr",
     "output_type": "stream",
     "text": [
      "Question with nro: 621695161, title: W jaki sposób wykazać SAD w deklaracji VAT?\n"
     ]
    },
    {
     "name": "stdout",
     "output_type": "stream",
     "text": [
      "it scroll further\n"
     ]
    },
    {
     "name": "stderr",
     "output_type": "stream",
     "text": [
      "Question with nro: 621695161, title: W jaki sposób wykazać SAD w deklaracji VAT?\n"
     ]
    },
    {
     "name": "stdout",
     "output_type": "stream",
     "text": [
      "it scroll further\n"
     ]
    },
    {
     "name": "stderr",
     "output_type": "stream",
     "text": [
      "Question with nro: 621695161, title: W jaki sposób wykazać SAD w deklaracji VAT?\n"
     ]
    },
    {
     "name": "stdout",
     "output_type": "stream",
     "text": [
      "it scroll further\n",
      "It change to new range\n",
      "🗓️ Processing: 2017-11-01 → 2017-11-30\n"
     ]
    },
    {
     "name": "stderr",
     "output_type": "stream",
     "text": [
      "Question with nro: 621711294, title: Kto dziedziczy udziały spółki, jeśli zapisy z testamentu i umowy spółki zawierają różne zapisy?\n",
      "Question with nro: 621710350, title: W jaki sposób należy obciążyć firmę remontową kwotą z faktury za zamontowanie windy?\n",
      "Question with nro: 621713330, title: W której kolumnie PKPiR podatnik powinien księgować zakup świeżych kwiatów, które mogą być wykorzystane tylko jednorazowo, a w której kolumnie towary wielorazowego użytku?\n",
      "Question with nro: 621710551, title: Czy można odliczyć podatek VAT, z tytułu zakupu kart hotelowych, które uprawniają do zakupu w przyszłości usług noclegowych po obniżonej cenie?\n",
      "Question with nro: 621710663, title: Czy przekazanie kontrahentom kalendarzy, z naniesionym logo firmy i jej adresem należy opodatkować podatkiem VAT?\n",
      "Question with nro: 621710871, title: Czy sprzedaż nieruchomości rolnej przez osobę fizyczną,  nabytej od rodziców w drodze „przekazania własności i posiadania gospodarstwa rolnego” podlega podatkowi VAT?\n",
      "Question with nro: 621714604, title: Czy za okres sprawowania opieki nad młodzieżą należy nauczycielowi wypłacić wynagrodzenie za godziny ponadwymiarowe?\n"
     ]
    },
    {
     "name": "stdout",
     "output_type": "stream",
     "text": [
      "it scroll further\n"
     ]
    },
    {
     "name": "stderr",
     "output_type": "stream",
     "text": [
      "Question with nro: 621711294, title: Kto dziedziczy udziały spółki, jeśli zapisy z testamentu i umowy spółki zawierają różne zapisy?\n",
      "Question with nro: 621710350, title: W jaki sposób należy obciążyć firmę remontową kwotą z faktury za zamontowanie windy?\n",
      "Question with nro: 621713330, title: W której kolumnie PKPiR podatnik powinien księgować zakup świeżych kwiatów, które mogą być wykorzystane tylko jednorazowo, a w której kolumnie towary wielorazowego użytku?\n",
      "Question with nro: 621710551, title: Czy można odliczyć podatek VAT, z tytułu zakupu kart hotelowych, które uprawniają do zakupu w przyszłości usług noclegowych po obniżonej cenie?\n",
      "Question with nro: 621710663, title: Czy przekazanie kontrahentom kalendarzy, z naniesionym logo firmy i jej adresem należy opodatkować podatkiem VAT?\n",
      "Question with nro: 621710871, title: Czy sprzedaż nieruchomości rolnej przez osobę fizyczną,  nabytej od rodziców w drodze „przekazania własności i posiadania gospodarstwa rolnego” podlega podatkowi VAT?\n",
      "Question with nro: 621714604, title: Czy za okres sprawowania opieki nad młodzieżą należy nauczycielowi wypłacić wynagrodzenie za godziny ponadwymiarowe?\n"
     ]
    },
    {
     "name": "stdout",
     "output_type": "stream",
     "text": [
      "it scroll further\n"
     ]
    },
    {
     "name": "stderr",
     "output_type": "stream",
     "text": [
      "Question with nro: 621711294, title: Kto dziedziczy udziały spółki, jeśli zapisy z testamentu i umowy spółki zawierają różne zapisy?\n",
      "Question with nro: 621710350, title: W jaki sposób należy obciążyć firmę remontową kwotą z faktury za zamontowanie windy?\n",
      "Question with nro: 621713330, title: W której kolumnie PKPiR podatnik powinien księgować zakup świeżych kwiatów, które mogą być wykorzystane tylko jednorazowo, a w której kolumnie towary wielorazowego użytku?\n",
      "Question with nro: 621710551, title: Czy można odliczyć podatek VAT, z tytułu zakupu kart hotelowych, które uprawniają do zakupu w przyszłości usług noclegowych po obniżonej cenie?\n",
      "Question with nro: 621710663, title: Czy przekazanie kontrahentom kalendarzy, z naniesionym logo firmy i jej adresem należy opodatkować podatkiem VAT?\n",
      "Question with nro: 621710871, title: Czy sprzedaż nieruchomości rolnej przez osobę fizyczną,  nabytej od rodziców w drodze „przekazania własności i posiadania gospodarstwa rolnego” podlega podatkowi VAT?\n",
      "Question with nro: 621714604, title: Czy za okres sprawowania opieki nad młodzieżą należy nauczycielowi wypłacić wynagrodzenie za godziny ponadwymiarowe?\n"
     ]
    },
    {
     "name": "stdout",
     "output_type": "stream",
     "text": [
      "it scroll further\n",
      "It change to new range\n",
      "🗓️ Processing: 2017-12-01 → 2017-12-31\n"
     ]
    },
    {
     "name": "stderr",
     "output_type": "stream",
     "text": [
      "Question with nro: 621727394, title: Jakie skutki w podatku dochodowym wywoła wycofanie składnika z działalności gospodarczej?\n",
      "Question with nro: 621725291, title: Jak na gruncie podatku VAT potraktować fakturę od podmiotu hiszpańskiego za wykonanie rurociągu instalacji chłodzenia wodą?\n",
      "Question with nro: 621724728, title: Jak należy opodatkować wykonywaną w Polsce usługę izolacji termicznej na rurach, które są wywożone do Niemiec?\n",
      "Question with nro: 621725864, title: Jak prawidłowo dokonać likwidacji materiałów z magazynu i dokonać księgowań aby znieść je z ewidencji księgowej?\n",
      "Question with nro: 621727483, title: Jak udokumentować poprawnie transakcję wykupu samochodu, aby możliwe było niewprowadzanie go do firmy i nienaliczanie podatku VAT z tytułu jego wycofania?\n",
      "Question with nro: 621579144, title: Od kiedy należy stosować grupowania KŚT 2016?\n",
      "Question with nro: 621725397, title: W jaki sposób podatnik powinien rozliczyć się za pracę w Polsce jeśli prowadzi działalność gospodarczą w Anglii?\n"
     ]
    },
    {
     "name": "stdout",
     "output_type": "stream",
     "text": [
      "it scroll further\n"
     ]
    },
    {
     "name": "stderr",
     "output_type": "stream",
     "text": [
      "Question with nro: 621727394, title: Jakie skutki w podatku dochodowym wywoła wycofanie składnika z działalności gospodarczej?\n",
      "Question with nro: 621725291, title: Jak na gruncie podatku VAT potraktować fakturę od podmiotu hiszpańskiego za wykonanie rurociągu instalacji chłodzenia wodą?\n",
      "Question with nro: 621724728, title: Jak należy opodatkować wykonywaną w Polsce usługę izolacji termicznej na rurach, które są wywożone do Niemiec?\n",
      "Question with nro: 621725864, title: Jak prawidłowo dokonać likwidacji materiałów z magazynu i dokonać księgowań aby znieść je z ewidencji księgowej?\n",
      "Question with nro: 621727483, title: Jak udokumentować poprawnie transakcję wykupu samochodu, aby możliwe było niewprowadzanie go do firmy i nienaliczanie podatku VAT z tytułu jego wycofania?\n",
      "Question with nro: 621579144, title: Od kiedy należy stosować grupowania KŚT 2016?\n",
      "Question with nro: 621725397, title: W jaki sposób podatnik powinien rozliczyć się za pracę w Polsce jeśli prowadzi działalność gospodarczą w Anglii?\n"
     ]
    },
    {
     "name": "stdout",
     "output_type": "stream",
     "text": [
      "it scroll further\n"
     ]
    },
    {
     "name": "stderr",
     "output_type": "stream",
     "text": [
      "Question with nro: 621727394, title: Jakie skutki w podatku dochodowym wywoła wycofanie składnika z działalności gospodarczej?\n",
      "Question with nro: 621725291, title: Jak na gruncie podatku VAT potraktować fakturę od podmiotu hiszpańskiego za wykonanie rurociągu instalacji chłodzenia wodą?\n",
      "Question with nro: 621724728, title: Jak należy opodatkować wykonywaną w Polsce usługę izolacji termicznej na rurach, które są wywożone do Niemiec?\n",
      "Question with nro: 621725864, title: Jak prawidłowo dokonać likwidacji materiałów z magazynu i dokonać księgowań aby znieść je z ewidencji księgowej?\n",
      "Question with nro: 621727483, title: Jak udokumentować poprawnie transakcję wykupu samochodu, aby możliwe było niewprowadzanie go do firmy i nienaliczanie podatku VAT z tytułu jego wycofania?\n",
      "Question with nro: 621579144, title: Od kiedy należy stosować grupowania KŚT 2016?\n",
      "Question with nro: 621725397, title: W jaki sposób podatnik powinien rozliczyć się za pracę w Polsce jeśli prowadzi działalność gospodarczą w Anglii?\n"
     ]
    },
    {
     "name": "stdout",
     "output_type": "stream",
     "text": [
      "it scroll further\n",
      "It change to new range\n",
      "🗓️ Processing: 2018-01-01 → 2018-01-31\n"
     ]
    },
    {
     "name": "stderr",
     "output_type": "stream",
     "text": [
      "Question with nro: 621004194, title: Jaką stawkę amortyzacji zastosować do wymiany bramy garażowej?\n",
      "Question with nro: 621738779, title: Jakie czynności powinna podjąć spółka jawna w związku z planami jej likwidacji?\n",
      "Question with nro: 621740028, title: Jaki jest wymiar urlopu i czasu pracy osoby, która przedkłada po raz pierwszy orzeczenie o niepełnosprawności?\n"
     ]
    },
    {
     "name": "stdout",
     "output_type": "stream",
     "text": [
      "it scroll further\n"
     ]
    },
    {
     "name": "stderr",
     "output_type": "stream",
     "text": [
      "Question with nro: 621004194, title: Jaką stawkę amortyzacji zastosować do wymiany bramy garażowej?\n",
      "Question with nro: 621738779, title: Jakie czynności powinna podjąć spółka jawna w związku z planami jej likwidacji?\n",
      "Question with nro: 621740028, title: Jaki jest wymiar urlopu i czasu pracy osoby, która przedkłada po raz pierwszy orzeczenie o niepełnosprawności?\n"
     ]
    },
    {
     "name": "stdout",
     "output_type": "stream",
     "text": [
      "it scroll further\n"
     ]
    },
    {
     "name": "stderr",
     "output_type": "stream",
     "text": [
      "Question with nro: 621004194, title: Jaką stawkę amortyzacji zastosować do wymiany bramy garażowej?\n",
      "Question with nro: 621738779, title: Jakie czynności powinna podjąć spółka jawna w związku z planami jej likwidacji?\n",
      "Question with nro: 621740028, title: Jaki jest wymiar urlopu i czasu pracy osoby, która przedkłada po raz pierwszy orzeczenie o niepełnosprawności?\n"
     ]
    },
    {
     "name": "stdout",
     "output_type": "stream",
     "text": [
      "it scroll further\n",
      "It change to new range\n",
      "🗓️ Processing: 2018-02-01 → 2018-02-28\n"
     ]
    },
    {
     "name": "stderr",
     "output_type": "stream",
     "text": [
      "Question with nro: 621753722, title: Czy za okres braku ubezpieczenia wykonawca, który chce się zgłosić do ubezpieczenia dobrowolnego, ma jakąś zaległość do ZUS do uregulowania?\n",
      "Question with nro: 621754038, title: Czy z opiekunką zatrudnioną przez ośrodek pomocy społecznej należy zawrzeć umowę o pracę w systemie zadaniowego czasu pracy?\n",
      "Question with nro: 621756076, title: Jaki jest termin przedawnienia zwrotu pomocy publicznej w postaci zwolnienia z podatku od nieruchomości?\n",
      "Question with nro: 621756162, title: Jak należy księgować bieżące naprawy maszyn a na jakie konto bieżące naprawy budynków?\n",
      "Question with nro: 621756521, title: Jak należy księgować faktury na przełomie roku?\n",
      "Question with nro: 621757144, title: Jak należy opodatkować przychód z podnajmu lokalu w okresie zawieszenia działalności gospodarczej?\n",
      "Question with nro: 621756211, title: Jak należy zaksięgować faktury za zakup towarów z importu oraz transport?\n",
      "Question with nro: 621756100, title: Jak prawidłowo przedsiębiorca powinien dokonać rozliczenia zaległych składek z powodu zmiany kwalifikacji umów?\n",
      "Question with nro: 621753783, title: Jak rozliczyć rachunek z tytułu druku materiałów reklamowych i reklam w mediach oraz obsługą kin festiwalowych?\n",
      "Question with nro: 621754156, title: W jakim paragrafie powinniśmy ujmować opłaty za śmieci wnoszone do wspólnot mieszkaniowych?\n",
      "Question with nro: 621756322, title: W jakim terminie należy zaksięgować fakturę korektę in minus wystawioną w styczniu 2018 r., a dotyczącej sprzedaży z lat 2016-2017?\n",
      "Question with nro: 621754002, title: W przypadku, gdy polska firma wraz z podwykonawcą podpisała umowę z firmą węgierską na wykonanie domu w Austrii,  czy konieczna jest rejestracja podwykonawcy w państwie austriackim i z jakim podatkiem VAT należy wystawić fakturę?\n"
     ]
    },
    {
     "name": "stdout",
     "output_type": "stream",
     "text": [
      "it scroll further\n"
     ]
    },
    {
     "name": "stderr",
     "output_type": "stream",
     "text": [
      "Question with nro: 621753722, title: Czy za okres braku ubezpieczenia wykonawca, który chce się zgłosić do ubezpieczenia dobrowolnego, ma jakąś zaległość do ZUS do uregulowania?\n",
      "Question with nro: 621754038, title: Czy z opiekunką zatrudnioną przez ośrodek pomocy społecznej należy zawrzeć umowę o pracę w systemie zadaniowego czasu pracy?\n",
      "Question with nro: 621756076, title: Jaki jest termin przedawnienia zwrotu pomocy publicznej w postaci zwolnienia z podatku od nieruchomości?\n",
      "Question with nro: 621756162, title: Jak należy księgować bieżące naprawy maszyn a na jakie konto bieżące naprawy budynków?\n",
      "Question with nro: 621756521, title: Jak należy księgować faktury na przełomie roku?\n",
      "Question with nro: 621757144, title: Jak należy opodatkować przychód z podnajmu lokalu w okresie zawieszenia działalności gospodarczej?\n",
      "Question with nro: 621756211, title: Jak należy zaksięgować faktury za zakup towarów z importu oraz transport?\n",
      "Question with nro: 621756100, title: Jak prawidłowo przedsiębiorca powinien dokonać rozliczenia zaległych składek z powodu zmiany kwalifikacji umów?\n",
      "Question with nro: 621753783, title: Jak rozliczyć rachunek z tytułu druku materiałów reklamowych i reklam w mediach oraz obsługą kin festiwalowych?\n",
      "Question with nro: 621754156, title: W jakim paragrafie powinniśmy ujmować opłaty za śmieci wnoszone do wspólnot mieszkaniowych?\n",
      "Question with nro: 621756322, title: W jakim terminie należy zaksięgować fakturę korektę in minus wystawioną w styczniu 2018 r., a dotyczącej sprzedaży z lat 2016-2017?\n",
      "Question with nro: 621754002, title: W przypadku, gdy polska firma wraz z podwykonawcą podpisała umowę z firmą węgierską na wykonanie domu w Austrii,  czy konieczna jest rejestracja podwykonawcy w państwie austriackim i z jakim podatkiem VAT należy wystawić fakturę?\n"
     ]
    },
    {
     "name": "stdout",
     "output_type": "stream",
     "text": [
      "it scroll further\n"
     ]
    },
    {
     "name": "stderr",
     "output_type": "stream",
     "text": [
      "Question with nro: 621753722, title: Czy za okres braku ubezpieczenia wykonawca, który chce się zgłosić do ubezpieczenia dobrowolnego, ma jakąś zaległość do ZUS do uregulowania?\n",
      "Question with nro: 621754038, title: Czy z opiekunką zatrudnioną przez ośrodek pomocy społecznej należy zawrzeć umowę o pracę w systemie zadaniowego czasu pracy?\n",
      "Question with nro: 621756076, title: Jaki jest termin przedawnienia zwrotu pomocy publicznej w postaci zwolnienia z podatku od nieruchomości?\n",
      "Question with nro: 621756162, title: Jak należy księgować bieżące naprawy maszyn a na jakie konto bieżące naprawy budynków?\n",
      "Question with nro: 621756521, title: Jak należy księgować faktury na przełomie roku?\n",
      "Question with nro: 621757144, title: Jak należy opodatkować przychód z podnajmu lokalu w okresie zawieszenia działalności gospodarczej?\n",
      "Question with nro: 621756211, title: Jak należy zaksięgować faktury za zakup towarów z importu oraz transport?\n",
      "Question with nro: 621756100, title: Jak prawidłowo przedsiębiorca powinien dokonać rozliczenia zaległych składek z powodu zmiany kwalifikacji umów?\n",
      "Question with nro: 621753783, title: Jak rozliczyć rachunek z tytułu druku materiałów reklamowych i reklam w mediach oraz obsługą kin festiwalowych?\n",
      "Question with nro: 621754156, title: W jakim paragrafie powinniśmy ujmować opłaty za śmieci wnoszone do wspólnot mieszkaniowych?\n",
      "Question with nro: 621756322, title: W jakim terminie należy zaksięgować fakturę korektę in minus wystawioną w styczniu 2018 r., a dotyczącej sprzedaży z lat 2016-2017?\n",
      "Question with nro: 621754002, title: W przypadku, gdy polska firma wraz z podwykonawcą podpisała umowę z firmą węgierską na wykonanie domu w Austrii,  czy konieczna jest rejestracja podwykonawcy w państwie austriackim i z jakim podatkiem VAT należy wystawić fakturę?\n"
     ]
    },
    {
     "name": "stdout",
     "output_type": "stream",
     "text": [
      "it scroll further\n",
      "It change to new range\n",
      "🗓️ Processing: 2018-03-01 → 2018-03-31\n"
     ]
    }
   ],
   "source": [
    "from preprocessing.mongo_db.mongodb import get_mongodb_collection\n",
    "from typing import Dict, List\n",
    "from datetime import datetime\n",
    "\n",
    "w = 4\n",
    "it_scroll_without_new = 0\n",
    "\n",
    "\n",
    "def get_last_response(current_driver, cutoff_time: datetime):\n",
    "    matching_requests = [\n",
    "        request for request in current_driver.requests\n",
    "        if request.response and\n",
    "           \"searchResults.get.json\" in request.url\n",
    "    ]\n",
    "    if not matching_requests:\n",
    "        raise RuntimeError(\"Invalid state\")\n",
    "    # Get the latest request by date\n",
    "    last_request = max(matching_requests, key=lambda r: r.date)\n",
    "    try:\n",
    "        compressed = io.BytesIO(last_request.response.body)\n",
    "        decompressed = gzip.GzipFile(fileobj=compressed).read()\n",
    "        data = json.loads(decompressed.decode('utf-8'))\n",
    "        return data\n",
    "    except Exception as e:\n",
    "        print(\"❌ Błąd dekodowania:\", e)\n",
    "\n",
    "\n",
    "def get_questions_from_response(json: Dict, questions_in_list: List[QuestionInList]):\n",
    "    questions_to_save = []\n",
    "    for document in json['documentList']:\n",
    "        question = QuestionInList(\n",
    "            title=document['title'],\n",
    "            nro=document['nro']\n",
    "        )\n",
    "\n",
    "        if QuestionInList.is_in_list(question, questions_in_list):\n",
    "            logger.warn(f\"Question with nro: {question.nro}, title: {question.title}\")\n",
    "        else:\n",
    "            questions_to_save.append(question)\n",
    "    return questions_to_save\n",
    "\n",
    "    # driver.get(\"https://sip.lex.pl/#/search-resources?p=%7B%22documentMainType%22:%22QA%22,%22domains%22:%5B%7B%22label%22:%22Podatki%22,%22conceptId%22:4697%7D%5D,%22qaValidity%22:%7B%22nrs%22:134217729,%22label%22:%22aktualne%22%7D%7D&sortBy=default\")\n",
    "\n",
    "\n",
    "for from_date, to_date in generate_month_ranges(\"2015-09-01\", \"2022-09-01\"):\n",
    "    print(\"🗓️ Processing:\", from_date, \"→\", to_date)\n",
    "    try:\n",
    "        cutoff_time = datetime.now()\n",
    "\n",
    "        # driver.get(\n",
    "        #     f\"https://sip.lex.pl/#/search-by-category/pytania-i-odpowiedzi?sl=pl&p=%7B%22qaValidity%22:%7B%22value%22:%22134217729%22,%22label%22:%22tylko%20aktualne%22%7D,%22qaAnswerDateFrom%22:%22{from_date}%22,%22qaAnswerDateTo%22:%22{to_date}%22,%22resourcesRequest%22:true,%22documentMainType%22:%22QA%22%7D&pit=2025-07-18\")\n",
    "        driver.get(\n",
    "            f\"https://sip.lex.pl/#/search-by-category/pytania-i-odpowiedzi?sl=pl&p=%7B%22qaValidity%22:%7B%22value%22:%22134217729%22,%22label%22:%22tylko%20aktualne%22%7D,%22qaAnswerDateFrom%22:%22{from_date}%22,%22qaAnswerDateTo%22:%22{to_date}%22,%22resourcesRequest%22:true,%22documentMainType%22:%22QA%22%7D&pit=2025-07-28\")\n",
    "        # https://sip.lex.pl/#/search-by-category/pytania-i-odpowiedzi?sl=pl&p=%7B%22qaValidity%22:%7B%22value%22:%22134217729%22,%22label%22:%22tylko%20aktualne%22%7D,%22qaAnswerDateFrom%22:%222015-09-01%22,%22qaAnswerDateTo%22:%222022-09-01%22,%22resourcesRequest%22:true,%22documentMainType%22:%22QA%22%7D&pit=2025-07-28\n",
    "        time.sleep(5)\n",
    "        data_from_response = get_last_response(driver, cutoff_time)\n",
    "        questions_to_save = get_questions_from_response(data_from_response, questions_in_list)\n",
    "        if len(questions_to_save) > 0:\n",
    "            get_mongodb_collection(\n",
    "                db_name=\"scraping_lex\",\n",
    "                collection_name=\"list_questions\"\n",
    "            ).insert_many([question.to_dict() for question in questions_to_save])\n",
    "        else:\n",
    "            print(\"it scroll further\")\n",
    "        questions_in_list.extend(questions_to_save)\n",
    "    except Exception as e:\n",
    "        print(\"❌ Error occurred, stopping loop:\", e)\n",
    "    while True:\n",
    "        try:  # liczba scrolli — dostosuj do potrzeby\n",
    "            tttt = 4\n",
    "            time.sleep(2.5)\n",
    "            driver.execute_script(\"window.scrollTo(0, document.body.scrollHeight);\")\n",
    "\n",
    "            time.sleep(2.5)  # poczekaj na załadowanie wyników\n",
    "            data_from_response = get_last_response(driver, cutoff_time)\n",
    "\n",
    "            questions_to_save = get_questions_from_response(data_from_response, questions_in_list)\n",
    "\n",
    "            if len(questions_to_save) > 0:\n",
    "                get_mongodb_collection(\n",
    "                    db_name=\"scraping_lex\",\n",
    "                    collection_name=\"list_questions\"\n",
    "                ).insert_many([question.to_dict() for question in questions_to_save])\n",
    "            else:\n",
    "                it_scroll_without_new += 1\n",
    "                print(\"it scroll further\")\n",
    "            if it_scroll_without_new == 3:\n",
    "                it_scroll_without_new = 0\n",
    "                print(\"It change to new range\")\n",
    "                break\n",
    "            questions_in_list.extend(questions_to_save)\n",
    "        except Exception as e:\n",
    "            print(\"❌ Error occurred, stopping loop:\", e)\n",
    "            # driver.get(\"https://sip.lex.pl/#/search-resources?p=%7B%22documentMainType%22:%22QA%22,%22domains%22:%5B%7B%22label%22:%22Podatki%22,%22conceptId%22:4697%7D%5D,%22qaValidity%22:%7B%22nrs%22:134217729,%22label%22:%22aktualne%22%7D%7D&sortBy=default\")\n",
    "            break\n",
    "r = 4"
   ],
   "metadata": {
    "collapsed": false,
    "ExecuteTime": {
     "start_time": "2025-07-18T22:39:45.948583Z",
     "end_time": "2025-07-19T00:34:47.567744Z"
    },
    "pycharm": {
     "is_executing": true
    }
   }
  },
  {
   "cell_type": "code",
   "execution_count": 25,
   "outputs": [
    {
     "name": "stdout",
     "output_type": "stream",
     "text": [
      "{\n",
      "  \"debug\": {\n",
      "    \"icsRequestTime\": 0,\n",
      "    \"dbServicesRequestTime\": 0\n",
      "  },\n",
      "  \"documentList\": [\n",
      "    {\n",
      "      \"title\": \"Czy b\\u0119d\\u0105c na rycza\\u0142cie nale\\u017cy rozlicza\\u0107 r\\u00f3\\u017cnice kursowe powstaj\\u0105ce przy wydatkowaniu w\\u0142asnych \\u015brodk\\u00f3w pieni\\u0119\\u017cnych?\",\n",
      "      \"owner\": true,\n",
      "      \"shared\": false,\n",
      "      \"resourceType\": \"DOCUMENT\",\n",
      "      \"ident\": \"0DOCUMENT\",\n",
      "      \"nro\": 623753049,\n",
      "      \"versionId\": 623753049,\n",
      "      \"lastAccessTime\": 0,\n",
      "      \"type\": \"QA\",\n",
      "      \"monographFragmentId\": 0,\n",
      "      \"stateName\": \"question-and-answer\",\n",
      "      \"hasToc\": false,\n",
      "      \"noveltyDate\": 1752537600000,\n",
      "      \"documentProductionType\": \"QA\",\n",
      "      \"documentType\": \"QA\",\n",
      "      \"answerDate\": 1752530400000,\n",
      "      \"firstAuthorName\": \"Radwan-Wi\\u0144ski Andrzej\",\n",
      "      \"editionPlace\": \"QA 2996057\",\n",
      "      \"validity\": \"ACTUAL\",\n",
      "      \"validityFrom\": -5364666000000,\n",
      "      \"validityTo\": 26223778800000,\n",
      "      \"dateForSort\": 0,\n",
      "      \"resourceId\": 0,\n",
      "      \"folderId\": 0,\n",
      "      \"newInProduct\": true,\n",
      "      \"exportAvailable\": false,\n",
      "      \"id\": 0,\n",
      "      \"borgId\": 0\n",
      "    },\n",
      "    {\n",
      "      \"title\": \"Czy dokonywanie przez beneficjenta dotacji p\\u0142atno\\u015bci z innego rachunku bankowego ni\\u017c ten, kt\\u00f3ry wskazany zosta\\u0142 w umowie jest prawid\\u0142owe?\",\n",
      "      \"owner\": true,\n",
      "      \"shared\": false,\n",
      "      \"resourceType\": \"DOCUMENT\",\n",
      "      \"ident\": \"0DOCUMENT\",\n",
      "      \"nro\": 623752973,\n",
      "      \"versionId\": 623752973,\n",
      "      \"lastAccessTime\": 0,\n",
      "      \"type\": \"QA\",\n",
      "      \"monographFragmentId\": 0,\n",
      "      \"stateName\": \"question-and-answer\",\n",
      "      \"hasToc\": false,\n",
      "      \"noveltyDate\": 1752537600000,\n",
      "      \"documentProductionType\": \"QA\",\n",
      "      \"documentType\": \"QA\",\n",
      "      \"answerDate\": 1752530400000,\n",
      "      \"firstAuthorName\": \"Kosicki Tomasz\",\n",
      "      \"editionPlace\": \"QA 2995981\",\n",
      "      \"validity\": \"ACTUAL\",\n",
      "      \"validityFrom\": -5364666000000,\n",
      "      \"validityTo\": 26223778800000,\n",
      "      \"dateForSort\": 0,\n",
      "      \"resourceId\": 0,\n",
      "      \"folderId\": 0,\n",
      "      \"newInProduct\": true,\n",
      "      \"exportAvailable\": false,\n",
      "      \"id\": 0,\n",
      "      \"borgId\": 0\n",
      "    },\n",
      "    {\n",
      "      \"title\": \"Czy fundament pod maszyn\\u0119 w budynku produkcyjnym nale\\u017cy opodatkowa\\u0107 jako budowl\\u0119?\",\n",
      "      \"owner\": true,\n",
      "      \"shared\": false,\n",
      "      \"resourceType\": \"DOCUMENT\",\n",
      "      \"ident\": \"0DOCUMENT\",\n",
      "      \"nro\": 623753445,\n",
      "      \"versionId\": 623753445,\n",
      "      \"lastAccessTime\": 0,\n",
      "      \"type\": \"QA\",\n",
      "      \"monographFragmentId\": 0,\n",
      "      \"stateName\": \"question-and-answer\",\n",
      "      \"hasToc\": false,\n",
      "      \"noveltyDate\": 1752537600000,\n",
      "      \"documentProductionType\": \"QA\",\n",
      "      \"documentType\": \"QA\",\n",
      "      \"answerDate\": 1752530400000,\n",
      "      \"firstAuthorName\": \"Sanakiewicz \\u0141ukasz\",\n",
      "      \"editionPlace\": \"QA 2996453\",\n",
      "      \"validity\": \"ACTUAL\",\n",
      "      \"validityFrom\": -5364666000000,\n",
      "      \"validityTo\": 26223778800000,\n",
      "      \"dateForSort\": 0,\n",
      "      \"resourceId\": 0,\n",
      "      \"folderId\": 0,\n",
      "      \"newInProduct\": true,\n",
      "      \"exportAvailable\": false,\n",
      "      \"id\": 0,\n",
      "      \"borgId\": 0\n",
      "    },\n",
      "    {\n",
      "      \"title\": \"Czy je\\u015bli zastosowanie ma metoda wy\\u0142\\u0105czenia z progresj\\u0105, to podatnik ma prawo w zeznaniu rocznym odliczy\\u0107 ca\\u0142o\\u015b\\u0107 zap\\u0142aconych sk\\u0142adek spo\\u0142ecznych, czy tylko t\\u0119 cz\\u0119\\u015b\\u0107 kt\\u00f3ra przypada na doch\\u00f3d osi\\u0105gni\\u0119ty w Polsce?\",\n",
      "      \"owner\": true,\n",
      "      \"shared\": false,\n",
      "      \"resourceType\": \"DOCUMENT\",\n",
      "      \"ident\": \"0DOCUMENT\",\n",
      "      \"nro\": 623753724,\n",
      "      \"versionId\": 623753724,\n",
      "      \"lastAccessTime\": 0,\n",
      "      \"type\": \"QA\",\n",
      "      \"monographFragmentId\": 0,\n",
      "      \"stateName\": \"question-and-answer\",\n",
      "      \"hasToc\": false,\n",
      "      \"noveltyDate\": 1752537600000,\n",
      "      \"documentProductionType\": \"QA\",\n",
      "      \"documentType\": \"QA\",\n",
      "      \"answerDate\": 1752530400000,\n",
      "      \"firstAuthorName\": \"Bartosiewicz Adam\",\n",
      "      \"editionPlace\": \"QA 2996732\",\n",
      "      \"validity\": \"ACTUAL\",\n",
      "      \"validityFrom\": -5364666000000,\n",
      "      \"validityTo\": 26223778800000,\n",
      "      \"dateForSort\": 0,\n",
      "      \"resourceId\": 0,\n",
      "      \"folderId\": 0,\n",
      "      \"newInProduct\": true,\n",
      "      \"exportAvailable\": false,\n",
      "      \"id\": 0,\n",
      "      \"borgId\": 0\n",
      "    },\n",
      "    {\n",
      "      \"title\": \"Czy kancelaria notarialna mo\\u017ce skutecznie op\\u0142aci\\u0107 zaleg\\u0142y podatek od nieruchomo\\u015bci za sprzedaj\\u0105cego, je\\u017celi kwota zaleg\\u0142o\\u015bci przekracza 1000 z\\u0142?\",\n",
      "      \"owner\": true,\n",
      "      \"shared\": false,\n",
      "      \"resourceType\": \"DOCUMENT\",\n",
      "      \"ident\": \"0DOCUMENT\",\n",
      "      \"nro\": 623755019,\n",
      "      \"versionId\": 623755019,\n",
      "      \"lastAccessTime\": 0,\n",
      "      \"type\": \"QA\",\n",
      "      \"monographFragmentId\": 0,\n",
      "      \"stateName\": \"question-and-answer\",\n",
      "      \"hasToc\": false,\n",
      "      \"noveltyDate\": 1752537600000,\n",
      "      \"documentProductionType\": \"QA\",\n",
      "      \"documentType\": \"QA\",\n",
      "      \"answerDate\": 1752530400000,\n",
      "      \"firstAuthorName\": \"Styczy\\u0144ski Rafa\\u0142\",\n",
      "      \"editionPlace\": \"QA 2998027\",\n",
      "      \"validity\": \"ACTUAL\",\n",
      "      \"validityFrom\": -5364666000000,\n",
      "      \"validityTo\": 26223778800000,\n",
      "      \"dateForSort\": 0,\n",
      "      \"resourceId\": 0,\n",
      "      \"folderId\": 0,\n",
      "      \"newInProduct\": true,\n",
      "      \"exportAvailable\": false,\n",
      "      \"id\": 0,\n",
      "      \"borgId\": 0\n",
      "    },\n",
      "    {\n",
      "      \"title\": \"Czy lekarz na rycza\\u0142cie przy rozliczeniu rocznym mo\\u017ce odliczy\\u0107 od podatku sk\\u0142adki p\\u0142acone do Izby Lekarskiej?\",\n",
      "      \"owner\": true,\n",
      "      \"shared\": false,\n",
      "      \"resourceType\": \"DOCUMENT\",\n",
      "      \"ident\": \"0DOCUMENT\",\n",
      "      \"nro\": 623754788,\n",
      "      \"versionId\": 623754788,\n",
      "      \"lastAccessTime\": 0,\n",
      "      \"type\": \"QA\",\n",
      "      \"monographFragmentId\": 0,\n",
      "      \"stateName\": \"question-and-answer\",\n",
      "      \"hasToc\": false,\n",
      "      \"noveltyDate\": 1752537600000,\n",
      "      \"documentProductionType\": \"QA\",\n",
      "      \"documentType\": \"QA\",\n",
      "      \"answerDate\": 1752530400000,\n",
      "      \"firstAuthorName\": \"Kica Jolanta\",\n",
      "      \"editionPlace\": \"QA 2997796\",\n",
      "      \"validity\": \"ACTUAL\",\n",
      "      \"validityFrom\": -5364666000000,\n",
      "      \"validityTo\": 26223778800000,\n",
      "      \"dateForSort\": 0,\n",
      "      \"resourceId\": 0,\n",
      "      \"folderId\": 0,\n",
      "      \"newInProduct\": true,\n",
      "      \"exportAvailable\": false,\n",
      "      \"id\": 0,\n",
      "      \"borgId\": 0\n",
      "    },\n",
      "    {\n",
      "      \"title\": \"Czy mo\\u017cna zastosowa\\u0107 podwy\\u017cszone koszty uzyskania przychodu je\\u017celi pracownik zosta\\u0142 oddelegowany do pracy na S\\u0142owacji?\",\n",
      "      \"owner\": true,\n",
      "      \"shared\": false,\n",
      "      \"resourceType\": \"DOCUMENT\",\n",
      "      \"ident\": \"0DOCUMENT\",\n",
      "      \"nro\": 623753728,\n",
      "      \"versionId\": 623753728,\n",
      "      \"lastAccessTime\": 0,\n",
      "      \"type\": \"QA\",\n",
      "      \"monographFragmentId\": 0,\n",
      "      \"stateName\": \"question-and-answer\",\n",
      "      \"hasToc\": false,\n",
      "      \"noveltyDate\": 1752537600000,\n",
      "      \"documentProductionType\": \"QA\",\n",
      "      \"documentType\": \"QA\",\n",
      "      \"answerDate\": 1752530400000,\n",
      "      \"firstAuthorName\": \"Bartosiewicz Adam\",\n",
      "      \"editionPlace\": \"QA 2996736\",\n",
      "      \"validity\": \"ACTUAL\",\n",
      "      \"validityFrom\": -5364666000000,\n",
      "      \"validityTo\": 26223778800000,\n",
      "      \"dateForSort\": 0,\n",
      "      \"resourceId\": 0,\n",
      "      \"folderId\": 0,\n",
      "      \"newInProduct\": true,\n",
      "      \"exportAvailable\": false,\n",
      "      \"id\": 0,\n",
      "      \"borgId\": 0\n",
      "    },\n",
      "    {\n",
      "      \"title\": \"Czy organ podatkowy mo\\u017ce poinformowa\\u0107 syna zmar\\u0142ego podatnika o widniej\\u0105cej na koncie ojca nadp\\u0142acie?\",\n",
      "      \"owner\": true,\n",
      "      \"shared\": false,\n",
      "      \"resourceType\": \"DOCUMENT\",\n",
      "      \"ident\": \"0DOCUMENT\",\n",
      "      \"nro\": 623754450,\n",
      "      \"versionId\": 623754450,\n",
      "      \"lastAccessTime\": 0,\n",
      "      \"type\": \"QA\",\n",
      "      \"monographFragmentId\": 0,\n",
      "      \"stateName\": \"question-and-answer\",\n",
      "      \"hasToc\": false,\n",
      "      \"noveltyDate\": 1752537600000,\n",
      "      \"documentProductionType\": \"QA\",\n",
      "      \"documentType\": \"QA\",\n",
      "      \"answerDate\": 1752530400000,\n",
      "      \"firstAuthorName\": \"Pioterczak Rados\\u0142aw\",\n",
      "      \"editionPlace\": \"QA 2997458\",\n",
      "      \"validity\": \"ACTUAL\",\n",
      "      \"validityFrom\": -5364666000000,\n",
      "      \"validityTo\": 26223778800000,\n",
      "      \"dateForSort\": 0,\n",
      "      \"resourceId\": 0,\n",
      "      \"folderId\": 0,\n",
      "      \"newInProduct\": true,\n",
      "      \"exportAvailable\": false,\n",
      "      \"id\": 0,\n",
      "      \"borgId\": 0\n",
      "    }\n",
      "  ],\n",
      "  \"availableHitCount\": 62537,\n",
      "  \"hitsPp\": 8,\n",
      "  \"anyDocuments\": false,\n",
      "  \"jurisprudenceCount\": 0,\n",
      "  \"userQueries\": {\n",
      "    \"mainQuery\": \"*\"\n",
      "  }\n",
      "}\n"
     ]
    }
   ],
   "source": [
    "\n",
    "\n",
    "for request in matching_requests:\n",
    "    try:\n",
    "        compressed = io.BytesIO(request.response.body)\n",
    "        decompressed = gzip.GzipFile(fileobj=compressed).read()\n",
    "        data = json.loads(decompressed.decode('utf-8'))\n",
    "        print(json.dumps(data, indent=2))\n",
    "    except Exception as e:\n",
    "        print(\"❌ Błąd dekodowania:\", e)"
   ],
   "metadata": {
    "collapsed": false,
    "ExecuteTime": {
     "start_time": "2025-07-17T19:54:51.388995Z",
     "end_time": "2025-07-17T19:57:43.018323Z"
    }
   }
  },
  {
   "cell_type": "code",
   "execution_count": 17,
   "outputs": [],
   "source": [
    "seen_edition_places = set()\n",
    "rows_of_documents = []"
   ],
   "metadata": {
    "collapsed": false,
    "ExecuteTime": {
     "start_time": "2025-07-12T18:38:52.795703Z",
     "end_time": "2025-07-12T18:38:52.816712Z"
    }
   }
  },
  {
   "cell_type": "code",
   "execution_count": 20,
   "outputs": [],
   "source": [
    "# def get_\n",
    "for r in driver.requests:\n",
    "    if not (r.response and \"searchResults.get.json\" in r.url):\n",
    "        continue\n",
    "    try:\n",
    "        compressed = io.BytesIO(r.response.body)\n",
    "        decompressed = gzip.GzipFile(fileobj=compressed).read()\n",
    "        data = json.loads(decompressed.decode('utf-8'))\n",
    "        document_list = data.get(\"documentList\", [])\n",
    "        for doc in data.get(\"documentList\", []):\n",
    "            ep = doc.get(\"editionPlace\")\n",
    "            if ep and ep not in seen_edition_places:\n",
    "                rows_of_documents.append(doc)\n",
    "                seen_edition_places.add(ep)\n",
    "\n",
    "    except Exception as e:\n",
    "        print(f\"❌ Błąd przy parsowaniu odpowiedzi: {e}\")"
   ],
   "metadata": {
    "collapsed": false,
    "ExecuteTime": {
     "start_time": "2025-07-12T18:45:00.114095Z",
     "end_time": "2025-07-12T21:41:44.242222Z"
    }
   }
  },
  {
   "cell_type": "code",
   "execution_count": 15,
   "outputs": [],
   "source": [
    "r = 4"
   ],
   "metadata": {
    "collapsed": false,
    "ExecuteTime": {
     "start_time": "2025-07-12T18:17:53.136578Z",
     "end_time": "2025-07-12T18:36:36.369124Z"
    }
   }
  },
  {
   "cell_type": "code",
   "execution_count": null,
   "outputs": [],
   "source": [
    "for _ in range(20):  # liczba scrolli — dostosuj do potrzeby\n",
    "    driver.execute_script(\"window.scrollTo(0, document.body.scrollHeight);\")\n",
    "    time.sleep(7)  # poczekaj na załadowanie wyników\n",
    "    new_requests = [\n",
    "        r for r in driver.requests\n",
    "        if r.response and \"searchResults.get.json\" in r.url and r.url not in seen_urls\n",
    "    ]"
   ],
   "metadata": {
    "collapsed": false
   }
  }
 ],
 "metadata": {
  "kernelspec": {
   "display_name": "Python 3",
   "language": "python",
   "name": "python3"
  },
  "language_info": {
   "codemirror_mode": {
    "name": "ipython",
    "version": 2
   },
   "file_extension": ".py",
   "mimetype": "text/x-python",
   "name": "python",
   "nbconvert_exporter": "python",
   "pygments_lexer": "ipython2",
   "version": "2.7.6"
  }
 },
 "nbformat": 4,
 "nbformat_minor": 0
}
