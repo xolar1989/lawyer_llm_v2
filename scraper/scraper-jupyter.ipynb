{
 "cells": [
  {
   "cell_type": "code",
   "execution_count": 13,
   "metadata": {
    "collapsed": true,
    "ExecuteTime": {
     "start_time": "2025-07-12T18:15:42.492485Z",
     "end_time": "2025-07-12T18:15:42.501475Z"
    }
   },
   "outputs": [],
   "source": [
    "import time\n",
    "import json\n",
    "from selenium import webdriver\n",
    "from selenium.webdriver.chrome.service import Service\n",
    "from selenium.webdriver.common.by import By\n",
    "from selenium.webdriver.support.wait import WebDriverWait\n",
    "from selenium.webdriver.support import expected_conditions as EC\n",
    "from seleniumwire import webdriver\n",
    "\n",
    "\n",
    "import gzip\n",
    "import io"
   ]
  },
  {
   "cell_type": "code",
   "execution_count": 2,
   "outputs": [],
   "source": [
    "options = webdriver.ChromeOptions()\n",
    "\n",
    "options.add_argument(r\"--user-data-dir=C:\\Users\\karol\\AppData\\Local\\Google\\Chrome\\'User Data'\")\n",
    "\n",
    "options.add_argument(\"--profile-directory='Profile 2'\")\n",
    "# options.add_argument(\"--user-data-dir=/mnt/c/Users/karol/AppData/Local/Google/Chrome/User Data\")\n",
    "# options.add_argument(\"--profile-directory=Profile 2\")\n",
    "\n",
    "options.add_argument('--start-maximized')\n",
    "\n",
    "service = Service(executable_path=r\"C:\\Users\\karol\\miniconda3\\envs\\scraper_conda\\Scripts\\chromedriver.exe\")\n",
    "\n",
    "# options.add_argument(\"--headless\")\n",
    "\n"
   ],
   "metadata": {
    "collapsed": false,
    "ExecuteTime": {
     "start_time": "2025-07-12T17:09:29.902100Z",
     "end_time": "2025-07-12T17:09:29.923105Z"
    }
   }
  },
  {
   "cell_type": "code",
   "execution_count": 3,
   "outputs": [],
   "source": [
    "driver = webdriver.Chrome(service=service, options=options)"
   ],
   "metadata": {
    "collapsed": false,
    "ExecuteTime": {
     "start_time": "2025-07-12T17:09:32.994246Z",
     "end_time": "2025-07-12T17:09:34.725687Z"
    }
   }
  },
  {
   "cell_type": "code",
   "execution_count": 4,
   "outputs": [],
   "source": [
    "driver.get(\"https://borg.wolterskluwer.pl\")"
   ],
   "metadata": {
    "collapsed": false,
    "ExecuteTime": {
     "start_time": "2025-07-12T17:09:39.493011Z",
     "end_time": "2025-07-12T17:09:40.940702Z"
    }
   }
  },
  {
   "cell_type": "code",
   "execution_count": 5,
   "outputs": [],
   "source": [
    "if driver.find_elements(By.ID, \"login\"):\n",
    "    WebDriverWait(driver, 10).until(\n",
    "        EC.presence_of_element_located((By.ID, \"login\"))\n",
    "    ).send_keys(\"xolar1989@o2.pl\")\n",
    "\n",
    "    driver.find_element(By.ID, \"password\").send_keys(\"Awglm12345!\")\n",
    "\n",
    "    driver.find_element(By.ID, \"remember_btn\").click()\n",
    "    driver.find_element(By.ID, \"login_btn\").click()"
   ],
   "metadata": {
    "collapsed": false,
    "ExecuteTime": {
     "start_time": "2025-07-12T17:09:43.188753Z",
     "end_time": "2025-07-12T17:09:43.211088Z"
    }
   }
  },
  {
   "cell_type": "code",
   "execution_count": 6,
   "outputs": [],
   "source": [
    "r = driver.find_element(By.CSS_SELECTOR, '.product_item_container')\n",
    "\n",
    "\n",
    "r.click()"
   ],
   "metadata": {
    "collapsed": false,
    "ExecuteTime": {
     "start_time": "2025-07-12T17:09:45.804988Z",
     "end_time": "2025-07-12T17:09:46.008440Z"
    }
   }
  },
  {
   "cell_type": "code",
   "execution_count": 7,
   "outputs": [],
   "source": [
    "original_window = driver.current_window_handle\n",
    "\n",
    "# Wait for the new window\n",
    "WebDriverWait(driver, 10).until(EC.number_of_windows_to_be(2))\n",
    "\n",
    "# Switch to the new window\n",
    "for handle in driver.window_handles:\n",
    "    if handle != original_window:\n",
    "        driver.switch_to.window(handle)\n",
    "        break"
   ],
   "metadata": {
    "collapsed": false,
    "ExecuteTime": {
     "start_time": "2025-07-12T17:09:49.524882Z",
     "end_time": "2025-07-12T17:09:49.592952Z"
    }
   }
  },
  {
   "cell_type": "code",
   "execution_count": 8,
   "outputs": [],
   "source": [
    "if driver.find_elements(By.XPATH, '//*[@id=\"lex\"]/div/header/ng-include/div/nav/div/div[1]/app-left-menu-button/div/button'):\n",
    "    element = WebDriverWait(driver, 10).until(\n",
    "        EC.element_to_be_clickable((By.XPATH, '//*[@id=\"lex\"]/div/header/ng-include/div/nav/div/div[1]/app-left-menu-button/div/button'))\n",
    "    )\n",
    "    element.click()"
   ],
   "metadata": {
    "collapsed": false,
    "ExecuteTime": {
     "start_time": "2025-07-12T17:09:53.677456Z",
     "end_time": "2025-07-12T17:09:53.931008Z"
    }
   }
  },
  {
   "cell_type": "code",
   "execution_count": 9,
   "outputs": [],
   "source": [
    "driver.get(\"https://sip.lex.pl/#/search-resources?p=%7B%22documentMainType%22:%22QA%22,%22domains%22:%5B%7B%22label%22:%22Podatki%22,%22conceptId%22:4697%7D%5D,%22qaValidity%22:%7B%22nrs%22:134217729,%22label%22:%22aktualne%22%7D%7D&sortBy=default\")\n"
   ],
   "metadata": {
    "collapsed": false,
    "ExecuteTime": {
     "start_time": "2025-07-12T17:10:01.275326Z",
     "end_time": "2025-07-12T17:10:01.569451Z"
    }
   }
  },
  {
   "cell_type": "code",
   "execution_count": 10,
   "outputs": [],
   "source": [
    "matching_requests = [\n",
    "    request for request in driver.requests\n",
    "    if request.response and \"searchResults.get.json\" in request.url\n",
    "]\n"
   ],
   "metadata": {
    "collapsed": false,
    "ExecuteTime": {
     "start_time": "2025-07-12T17:10:07.959008Z",
     "end_time": "2025-07-12T17:10:10.513413Z"
    }
   }
  },
  {
   "cell_type": "code",
   "execution_count": null,
   "outputs": [],
   "source": [
    "rr = 4"
   ],
   "metadata": {
    "collapsed": false
   }
  },
  {
   "cell_type": "code",
   "execution_count": 14,
   "outputs": [
    {
     "name": "stdout",
     "output_type": "stream",
     "text": [
      "{\n",
      "  \"debug\": {\n",
      "    \"icsRequestTime\": 0,\n",
      "    \"dbServicesRequestTime\": 0\n",
      "  },\n",
      "  \"documentList\": [\n",
      "    {\n",
      "      \"title\": \"Czy brak wyodr\\u0119bnienia pozycji dotycz\\u0105cych kapita\\u0142\\u00f3w wypracowanych przed przyst\\u0105pieniem do rycza\\u0142tu w sprawozdaniu finansowym skutkuje pozbawieniem podatnika prawa do stosowania esto\\u0144skiego CIT?\",\n",
      "      \"owner\": true,\n",
      "      \"shared\": false,\n",
      "      \"resourceType\": \"DOCUMENT\",\n",
      "      \"ident\": \"0DOCUMENT\",\n",
      "      \"nro\": 623753473,\n",
      "      \"versionId\": 623753473,\n",
      "      \"lastAccessTime\": 0,\n",
      "      \"type\": \"QA\",\n",
      "      \"monographFragmentId\": 0,\n",
      "      \"stateName\": \"question-and-answer\",\n",
      "      \"hasToc\": false,\n",
      "      \"noveltyDate\": 1752105600000,\n",
      "      \"documentProductionType\": \"QA\",\n",
      "      \"documentType\": \"QA\",\n",
      "      \"answerDate\": 1752098400000,\n",
      "      \"firstAuthorName\": \"Kowalski Rados\\u0142aw\",\n",
      "      \"editionPlace\": \"QA 2996481\",\n",
      "      \"validity\": \"ACTUAL\",\n",
      "      \"validityFrom\": -5364666000000,\n",
      "      \"validityTo\": 26223778800000,\n",
      "      \"newInProduct\": true,\n",
      "      \"exportAvailable\": false,\n",
      "      \"resourceId\": 0,\n",
      "      \"folderId\": 0,\n",
      "      \"dateForSort\": 0,\n",
      "      \"borgId\": 0,\n",
      "      \"id\": 0\n",
      "    },\n",
      "    {\n",
      "      \"title\": \"Czy je\\u017celi nast\\u0105pi\\u0142o bezpodstawne podw\\u00f3jne rozliczenie to wyst\\u0105pi doch\\u00f3d do opodatkowania esto\\u0144skim CIT?\",\n",
      "      \"owner\": true,\n",
      "      \"shared\": false,\n",
      "      \"resourceType\": \"DOCUMENT\",\n",
      "      \"ident\": \"0DOCUMENT\",\n",
      "      \"nro\": 623753502,\n",
      "      \"versionId\": 623753502,\n",
      "      \"lastAccessTime\": 0,\n",
      "      \"type\": \"QA\",\n",
      "      \"monographFragmentId\": 0,\n",
      "      \"stateName\": \"question-and-answer\",\n",
      "      \"hasToc\": false,\n",
      "      \"noveltyDate\": 1752105600000,\n",
      "      \"documentProductionType\": \"QA\",\n",
      "      \"documentType\": \"QA\",\n",
      "      \"answerDate\": 1752098400000,\n",
      "      \"firstAuthorName\": \"Kowalski Rados\\u0142aw\",\n",
      "      \"editionPlace\": \"QA 2996510\",\n",
      "      \"validity\": \"ACTUAL\",\n",
      "      \"validityFrom\": -5364666000000,\n",
      "      \"validityTo\": 26223778800000,\n",
      "      \"newInProduct\": true,\n",
      "      \"exportAvailable\": false,\n",
      "      \"resourceId\": 0,\n",
      "      \"folderId\": 0,\n",
      "      \"dateForSort\": 0,\n",
      "      \"borgId\": 0,\n",
      "      \"id\": 0\n",
      "    },\n",
      "    {\n",
      "      \"title\": \"Czy korzy\\u015b\\u0107 podatkowa, o kt\\u00f3rej mowa w kryterium g\\u0142\\u00f3wnej korzy\\u015bci oraz w og\\u00f3lnej cesze rozpoznawczej, obejmuje r\\u00f3wnie\\u017c sk\\u0142adki na ubezpieczenia spo\\u0142eczne i PFRON?\",\n",
      "      \"owner\": true,\n",
      "      \"shared\": false,\n",
      "      \"resourceType\": \"DOCUMENT\",\n",
      "      \"ident\": \"0DOCUMENT\",\n",
      "      \"nro\": 623752132,\n",
      "      \"versionId\": 623752132,\n",
      "      \"lastAccessTime\": 0,\n",
      "      \"type\": \"QA\",\n",
      "      \"monographFragmentId\": 0,\n",
      "      \"stateName\": \"question-and-answer\",\n",
      "      \"hasToc\": false,\n",
      "      \"noveltyDate\": 1752105600000,\n",
      "      \"documentProductionType\": \"QA\",\n",
      "      \"documentType\": \"QA\",\n",
      "      \"answerDate\": 1752098400000,\n",
      "      \"firstAuthorName\": \"Kowalski Rados\\u0142aw\",\n",
      "      \"editionPlace\": \"QA 2995140\",\n",
      "      \"validity\": \"ACTUAL\",\n",
      "      \"validityFrom\": -5364666000000,\n",
      "      \"validityTo\": 26223778800000,\n",
      "      \"newInProduct\": true,\n",
      "      \"exportAvailable\": false,\n",
      "      \"resourceId\": 0,\n",
      "      \"folderId\": 0,\n",
      "      \"dateForSort\": 0,\n",
      "      \"borgId\": 0,\n",
      "      \"id\": 0\n",
      "    },\n",
      "    {\n",
      "      \"title\": \"Czy kucharz \\u015bwiadcz\\u0105cy us\\u0142ug\\u0119 przygotowywania i wydawania posi\\u0142k\\u00f3w w restauracji hotelowej mo\\u017ce rozlicza\\u0107 si\\u0119 rycza\\u0142tem w wysoko\\u015bci 3%?\",\n",
      "      \"owner\": true,\n",
      "      \"shared\": false,\n",
      "      \"resourceType\": \"DOCUMENT\",\n",
      "      \"ident\": \"0DOCUMENT\",\n",
      "      \"nro\": 623752327,\n",
      "      \"versionId\": 623752327,\n",
      "      \"lastAccessTime\": 0,\n",
      "      \"type\": \"QA\",\n",
      "      \"monographFragmentId\": 0,\n",
      "      \"stateName\": \"question-and-answer\",\n",
      "      \"hasToc\": false,\n",
      "      \"noveltyDate\": 1752105600000,\n",
      "      \"documentProductionType\": \"QA\",\n",
      "      \"documentType\": \"QA\",\n",
      "      \"answerDate\": 1752098400000,\n",
      "      \"firstAuthorName\": \"Klimek Krzysztof\",\n",
      "      \"editionPlace\": \"QA 2995335\",\n",
      "      \"validity\": \"ACTUAL\",\n",
      "      \"validityFrom\": -5364666000000,\n",
      "      \"validityTo\": 26223778800000,\n",
      "      \"newInProduct\": true,\n",
      "      \"exportAvailable\": false,\n",
      "      \"resourceId\": 0,\n",
      "      \"folderId\": 0,\n",
      "      \"dateForSort\": 0,\n",
      "      \"borgId\": 0,\n",
      "      \"id\": 0\n",
      "    },\n",
      "    {\n",
      "      \"title\": \"Czy kupuj\\u0105cy nieruchomo\\u015b\\u0107 musi op\\u0142aci\\u0107 PCC, je\\u017celi naby\\u0142 j\\u0105 od sp\\u00f3\\u0142ki z o.o. nieb\\u0119d\\u0105cej podatnikiem VAT?\",\n",
      "      \"owner\": true,\n",
      "      \"shared\": false,\n",
      "      \"resourceType\": \"DOCUMENT\",\n",
      "      \"ident\": \"0DOCUMENT\",\n",
      "      \"nro\": 623752125,\n",
      "      \"versionId\": 623752125,\n",
      "      \"lastAccessTime\": 0,\n",
      "      \"type\": \"QA\",\n",
      "      \"monographFragmentId\": 0,\n",
      "      \"stateName\": \"question-and-answer\",\n",
      "      \"hasToc\": false,\n",
      "      \"noveltyDate\": 1752105600000,\n",
      "      \"documentProductionType\": \"QA\",\n",
      "      \"documentType\": \"QA\",\n",
      "      \"answerDate\": 1752098400000,\n",
      "      \"firstAuthorName\": \"Styczy\\u0144ski Rafa\\u0142\",\n",
      "      \"editionPlace\": \"QA 2995133\",\n",
      "      \"validity\": \"ACTUAL\",\n",
      "      \"validityFrom\": -5364666000000,\n",
      "      \"validityTo\": 26223778800000,\n",
      "      \"newInProduct\": true,\n",
      "      \"exportAvailable\": false,\n",
      "      \"resourceId\": 0,\n",
      "      \"folderId\": 0,\n",
      "      \"dateForSort\": 0,\n",
      "      \"borgId\": 0,\n",
      "      \"id\": 0\n",
      "    },\n",
      "    {\n",
      "      \"title\": \"Czy licencja niewy\\u0142\\u0105czna na system oprogramowania do obs\\u0142ugi kamer, opracowana, utrzymywana i rozwijana przez dostawc\\u0119, mo\\u017ce by\\u0107 przedmiotem ulgi IP Box?\",\n",
      "      \"owner\": true,\n",
      "      \"shared\": false,\n",
      "      \"resourceType\": \"DOCUMENT\",\n",
      "      \"ident\": \"0DOCUMENT\",\n",
      "      \"nro\": 623752341,\n",
      "      \"versionId\": 623752341,\n",
      "      \"lastAccessTime\": 0,\n",
      "      \"type\": \"QA\",\n",
      "      \"monographFragmentId\": 0,\n",
      "      \"stateName\": \"question-and-answer\",\n",
      "      \"hasToc\": false,\n",
      "      \"noveltyDate\": 1752105600000,\n",
      "      \"documentProductionType\": \"QA\",\n",
      "      \"documentType\": \"QA\",\n",
      "      \"answerDate\": 1752098400000,\n",
      "      \"firstAuthorName\": \"Li\\u017cewski S\\u0142awomir\",\n",
      "      \"editionPlace\": \"QA 2995349\",\n",
      "      \"validity\": \"ACTUAL\",\n",
      "      \"validityFrom\": -5364666000000,\n",
      "      \"validityTo\": 26223778800000,\n",
      "      \"newInProduct\": true,\n",
      "      \"exportAvailable\": false,\n",
      "      \"resourceId\": 0,\n",
      "      \"folderId\": 0,\n",
      "      \"dateForSort\": 0,\n",
      "      \"borgId\": 0,\n",
      "      \"id\": 0\n",
      "    },\n",
      "    {\n",
      "      \"title\": \"Czy lokat\\u0119 dwuwalutow\\u0105 nale\\u017cy traktowa\\u0107 jako przych\\u00f3d pasywny?\",\n",
      "      \"owner\": true,\n",
      "      \"shared\": false,\n",
      "      \"resourceType\": \"DOCUMENT\",\n",
      "      \"ident\": \"0DOCUMENT\",\n",
      "      \"nro\": 623753399,\n",
      "      \"versionId\": 623753399,\n",
      "      \"lastAccessTime\": 0,\n",
      "      \"type\": \"QA\",\n",
      "      \"monographFragmentId\": 0,\n",
      "      \"stateName\": \"question-and-answer\",\n",
      "      \"hasToc\": false,\n",
      "      \"noveltyDate\": 1752105600000,\n",
      "      \"documentProductionType\": \"QA\",\n",
      "      \"documentType\": \"QA\",\n",
      "      \"answerDate\": 1752098400000,\n",
      "      \"firstAuthorName\": \"Kowalski Rados\\u0142aw\",\n",
      "      \"editionPlace\": \"QA 2996407\",\n",
      "      \"validity\": \"ACTUAL\",\n",
      "      \"validityFrom\": -5364666000000,\n",
      "      \"validityTo\": 26223778800000,\n",
      "      \"newInProduct\": true,\n",
      "      \"exportAvailable\": false,\n",
      "      \"resourceId\": 0,\n",
      "      \"folderId\": 0,\n",
      "      \"dateForSort\": 0,\n",
      "      \"borgId\": 0,\n",
      "      \"id\": 0\n",
      "    },\n",
      "    {\n",
      "      \"title\": \"Czy mo\\u017cna odliczy\\u0107 od przychodu rycza\\u0142towca podatek u \\u017ar\\u00f3d\\u0142a?\",\n",
      "      \"owner\": true,\n",
      "      \"shared\": false,\n",
      "      \"resourceType\": \"DOCUMENT\",\n",
      "      \"ident\": \"0DOCUMENT\",\n",
      "      \"nro\": 623752450,\n",
      "      \"versionId\": 623752450,\n",
      "      \"lastAccessTime\": 0,\n",
      "      \"type\": \"QA\",\n",
      "      \"monographFragmentId\": 0,\n",
      "      \"stateName\": \"question-and-answer\",\n",
      "      \"hasToc\": false,\n",
      "      \"noveltyDate\": 1752105600000,\n",
      "      \"documentProductionType\": \"QA\",\n",
      "      \"documentType\": \"QA\",\n",
      "      \"answerDate\": 1752098400000,\n",
      "      \"firstAuthorName\": \"Klimek Krzysztof\",\n",
      "      \"editionPlace\": \"QA 2995458\",\n",
      "      \"validity\": \"ACTUAL\",\n",
      "      \"validityFrom\": -5364666000000,\n",
      "      \"validityTo\": 26223778800000,\n",
      "      \"newInProduct\": true,\n",
      "      \"exportAvailable\": false,\n",
      "      \"resourceId\": 0,\n",
      "      \"folderId\": 0,\n",
      "      \"dateForSort\": 0,\n",
      "      \"borgId\": 0,\n",
      "      \"id\": 0\n",
      "    }\n",
      "  ],\n",
      "  \"availableHitCount\": 62367,\n",
      "  \"hitsPp\": 8,\n",
      "  \"anyDocuments\": false,\n",
      "  \"jurisprudenceCount\": 0,\n",
      "  \"userQueries\": {\n",
      "    \"mainQuery\": \"*\"\n",
      "  }\n",
      "}\n"
     ]
    }
   ],
   "source": [
    "\n",
    "\n",
    "for request in matching_requests:\n",
    "    try:\n",
    "        compressed = io.BytesIO(request.response.body)\n",
    "        decompressed = gzip.GzipFile(fileobj=compressed).read()\n",
    "        data = json.loads(decompressed.decode('utf-8'))\n",
    "        print(json.dumps(data, indent=2))\n",
    "    except Exception as e:\n",
    "        print(\"❌ Błąd dekodowania:\", e)"
   ],
   "metadata": {
    "collapsed": false,
    "ExecuteTime": {
     "start_time": "2025-07-12T18:15:57.157783Z",
     "end_time": "2025-07-12T18:16:05.796677Z"
    }
   }
  },
  {
   "cell_type": "code",
   "execution_count": 17,
   "outputs": [],
   "source": [
    "seen_edition_places = set()\n",
    "rows_of_documents = []"
   ],
   "metadata": {
    "collapsed": false,
    "ExecuteTime": {
     "start_time": "2025-07-12T18:38:52.795703Z",
     "end_time": "2025-07-12T18:38:52.816712Z"
    }
   }
  },
  {
   "cell_type": "code",
   "execution_count": 20,
   "outputs": [],
   "source": [
    "# def get_\n",
    "for r in driver.requests:\n",
    "    if not (r.response and \"searchResults.get.json\" in r.url):\n",
    "        continue\n",
    "    try:\n",
    "        compressed = io.BytesIO(r.response.body)\n",
    "        decompressed = gzip.GzipFile(fileobj=compressed).read()\n",
    "        data = json.loads(decompressed.decode('utf-8'))\n",
    "        document_list = data.get(\"documentList\", [])\n",
    "        for doc in data.get(\"documentList\", []):\n",
    "            ep = doc.get(\"editionPlace\")\n",
    "            if ep and ep not in seen_edition_places:\n",
    "                rows_of_documents.append(doc)\n",
    "                seen_edition_places.add(ep)\n",
    "\n",
    "    except Exception as e:\n",
    "        print(f\"❌ Błąd przy parsowaniu odpowiedzi: {e}\")"
   ],
   "metadata": {
    "collapsed": false,
    "ExecuteTime": {
     "start_time": "2025-07-12T18:45:00.114095Z",
     "end_time": "2025-07-12T21:41:44.242222Z"
    }
   }
  },
  {
   "cell_type": "code",
   "execution_count": 15,
   "outputs": [],
   "source": [
    "r =4"
   ],
   "metadata": {
    "collapsed": false,
    "ExecuteTime": {
     "start_time": "2025-07-12T18:17:53.136578Z",
     "end_time": "2025-07-12T18:36:36.369124Z"
    }
   }
  },
  {
   "cell_type": "code",
   "execution_count": null,
   "outputs": [],
   "source": [
    "for _ in range(20):  # liczba scrolli — dostosuj do potrzeby\n",
    "    driver.execute_script(\"window.scrollTo(0, document.body.scrollHeight);\")\n",
    "    time.sleep(7)  # poczekaj na załadowanie wyników\n",
    "    new_requests = [\n",
    "        r for r in driver.requests\n",
    "        if r.response and \"searchResults.get.json\" in r.url and r.url not in seen_urls\n",
    "    ]"
   ],
   "metadata": {
    "collapsed": false
   }
  }
 ],
 "metadata": {
  "kernelspec": {
   "display_name": "Python 3",
   "language": "python",
   "name": "python3"
  },
  "language_info": {
   "codemirror_mode": {
    "name": "ipython",
    "version": 2
   },
   "file_extension": ".py",
   "mimetype": "text/x-python",
   "name": "python",
   "nbconvert_exporter": "python",
   "pygments_lexer": "ipython2",
   "version": "2.7.6"
  }
 },
 "nbformat": 4,
 "nbformat_minor": 0
}
